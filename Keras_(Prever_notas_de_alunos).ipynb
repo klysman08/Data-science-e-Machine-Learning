{
  "nbformat": 4,
  "nbformat_minor": 0,
  "metadata": {
    "colab": {
      "name": "Keras_(Prever notas de alunos).ipynb",
      "version": "0.3.2",
      "provenance": []
    },
    "kernelspec": {
      "name": "python3",
      "display_name": "Python 3"
    },
    "accelerator": "GPU"
  },
  "cells": [
    {
      "cell_type": "code",
      "metadata": {
        "id": "WzuGyFmxf5On",
        "colab_type": "code",
        "colab": {}
      },
      "source": [
        "import numpy as np\n",
        "from keras.models import Sequential\n",
        "from keras.layers import Dense\n",
        "import numpy as np\n",
        "from sklearn.preprocessing import normalize"
      ],
      "execution_count": 0,
      "outputs": []
    },
    {
      "cell_type": "code",
      "metadata": {
        "id": "Kd58HksjgGqS",
        "colab_type": "code",
        "colab": {}
      },
      "source": [
        "#dormiu estudou - > nota ( data set de notas de alunos por tempo dormido e horas estudadas)\n",
        "#8         3          7\n",
        "#10        4         8\n",
        "#10        5         9.5\n",
        "#5         7         4.5\n",
        "#5         10        5\n",
        "#10        6         10\n",
        "\n",
        "#Os dados devem ser normalizados para esse caso\n",
        "\n",
        "x = np.array([[0.8, 0.3], [1.0, 0.4], [1.0, 0.5], [0.5, 0.7], [0.5, 1.0], [1.0, 0.6]])\n",
        "\n",
        "\n",
        "y = np.array([[0.7], [0.8], [0.95], [0.45], [0.5], [1.0]])\n",
        "\n"
      ],
      "execution_count": 0,
      "outputs": []
    },
    {
      "cell_type": "code",
      "metadata": {
        "id": "RM6LJUflgkkx",
        "colab_type": "code",
        "colab": {}
      },
      "source": [
        "model = Sequential() #modelo"
      ],
      "execution_count": 0,
      "outputs": []
    },
    {
      "cell_type": "code",
      "metadata": {
        "id": "SMTYYAzSha9J",
        "colab_type": "code",
        "colab": {}
      },
      "source": [
        "model.add(Dense(5, input_dim=2)) #criando o modelo do tipo perceptron - Duas camadas de saida e entrada. Um neuronio em cada leyar\n",
        "model.add(Dense(1))"
      ],
      "execution_count": 0,
      "outputs": []
    },
    {
      "cell_type": "code",
      "metadata": {
        "id": "_fPUl9QAh0bV",
        "colab_type": "code",
        "colab": {}
      },
      "source": [
        "model.compile(optimizer='sgd', loss='mse', metrics=['acc'])"
      ],
      "execution_count": 0,
      "outputs": []
    },
    {
      "cell_type": "code",
      "metadata": {
        "id": "mvMh5SQCiPrp",
        "colab_type": "code",
        "colab": {}
      },
      "source": [
        "model.fit(x,y, epochs=3000)"
      ],
      "execution_count": 0,
      "outputs": []
    },
    {
      "cell_type": "code",
      "metadata": {
        "id": "nmgJS7Zxibo3",
        "colab_type": "code",
        "colab": {}
      },
      "source": [
        "while True:\n",
        "  dormiu = input('Dormiu: ')\n",
        "  estudou = input('Estudou: ')\n",
        "  \n",
        "  lista = [float(dormiu), float(estudou)]\n",
        "  \n",
        "  t = np.asmatrix(lista)\n",
        "  \n",
        "  if i == 0:\n",
        "    break\n",
        "  \n",
        "  result = model.predict(t)\n",
        "  \n",
        "  print('previsto => ', str(result[0,0]*10), 'com nota')"
      ],
      "execution_count": 0,
      "outputs": []
    },
    {
      "cell_type": "code",
      "metadata": {
        "id": "ug0jqTwZjVrW",
        "colab_type": "code",
        "colab": {}
      },
      "source": [
        ""
      ],
      "execution_count": 0,
      "outputs": []
    }
  ]
}