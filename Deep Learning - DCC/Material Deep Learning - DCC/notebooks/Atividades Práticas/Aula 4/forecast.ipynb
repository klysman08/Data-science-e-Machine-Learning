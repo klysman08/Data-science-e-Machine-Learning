{
  "nbformat": 4,
  "nbformat_minor": 0,
  "metadata": {
    "colab": {
      "name": "forecast.ipynb",
      "version": "0.3.2",
      "provenance": []
    },
    "kernelspec": {
      "name": "python3",
      "display_name": "Python 3"
    },
    "accelerator": "GPU"
  },
  "cells": [
    {
      "metadata": {
        "id": "i2zJEALQqluC",
        "colab_type": "text"
      },
      "cell_type": "markdown",
      "source": [
        "## Importiing libs"
      ]
    },
    {
      "metadata": {
        "id": "F_rLzcuRozL6",
        "colab_type": "code",
        "colab": {}
      },
      "cell_type": "code",
      "source": [
        "# http://pytorch.org/\n",
        "from os import path\n",
        "from wheel.pep425tags import get_abbr_impl, get_impl_ver, get_abi_tag\n",
        "platform = '{}{}-{}'.format(get_abbr_impl(), get_impl_ver(), get_abi_tag())\n",
        "\n",
        "accelerator = 'cu80' if path.exists('/opt/bin/nvidia-smi') else 'cpu'\n",
        "\n",
        "!pip install -q http://download.pytorch.org/whl/{accelerator}/torch-0.3.0.post4-{platform}-linux_x86_64.whl torchvision\n",
        "import torch"
      ],
      "execution_count": 0,
      "outputs": []
    },
    {
      "metadata": {
        "id": "g5VESx197UTe",
        "colab_type": "text"
      },
      "cell_type": "markdown",
      "source": [
        "## Building data"
      ]
    },
    {
      "metadata": {
        "id": "qE-4BknLouoG",
        "colab_type": "code",
        "colab": {}
      },
      "cell_type": "code",
      "source": [
        "import numpy as np\n",
        "import matplotlib.pyplot as plt\n",
        "import torch\n",
        "\n",
        "%matplotlib inline\n",
        "\n",
        "np.random.seed(2)\n",
        "\n",
        "T = 20\n",
        "L = 1000\n",
        "N = 100\n",
        "\n",
        "x = np.empty((N, L), 'int64')\n",
        "x[:] = np.array(range(L)) + np.random.randint(-4 * T, 4 * T, N).reshape(N, 1)\n",
        "data = np.sin(x / 1.0 / T).astype('float64')\n",
        "\n",
        "\n",
        "plt.figure(figsize=(15,5))\n",
        "plt.title('Predict future values for time sequences', fontsize=20)\n",
        "plt.xlabel('x', fontsize=20)\n",
        "plt.ylabel('y', fontsize=20)\n",
        "plt.xticks(fontsize=10)\n",
        "plt.yticks(fontsize=10)\n",
        "plt.plot(data[0], 'r')\n",
        "plt.plot(data[1], 'g')\n",
        "plt.plot(data[2], 'b')"
      ],
      "execution_count": 0,
      "outputs": []
    },
    {
      "metadata": {
        "id": "Hv6di0tq7ZVT",
        "colab_type": "text"
      },
      "cell_type": "markdown",
      "source": [
        "## Setting Architecture"
      ]
    },
    {
      "metadata": {
        "id": "1BAJzkcgq9n-",
        "colab_type": "text"
      },
      "cell_type": "markdown",
      "source": [
        "* Implemente um modelo para predição de valores futuros de uma sequência usando apenas *LSTMCell* e *Linear*\n",
        "* Cada entrada (caracter) possui dimensão (1): um ponto na série temporal\n",
        "* *Hidden size* possui dimensão (128): hiperparâmetro \n",
        "* Saída possui dimensão (1): próximo ponto na série temporal\n",
        "* Batch size = input_data.size(0) de acordo com a implementação do loop de treinamento\n",
        "\n",
        "**Links úteis**\n",
        "\n",
        "LSTMCell: https://pytorch.org/docs/stable/nn.html#torch.nn.LSTMCell\n"
      ]
    },
    {
      "metadata": {
        "id": "o6AyBPawo_io",
        "colab_type": "code",
        "colab": {}
      },
      "cell_type": "code",
      "source": [
        "import torch\n",
        "import torch.nn as nn\n",
        "from torch.autograd import Variable\n",
        "\n",
        "# Recurrent neural network \n",
        "class CustomNetwork(nn.Module):\n",
        "    \n",
        "    def __init__(self, cell_type=\"lstm\", input_size=1, hidden_size=128, output_size=1, nonlinearity=\"tanh\"):\n",
        "        \n",
        "        super(CustomNetwork, self).__init__()\n",
        "        \n",
        "             \n",
        "\n",
        "    def forward(self, input_data, future=0):\n",
        "\n",
        "        # Set initial hidden and cell states \n",
        "        \n",
        "        # Loop to feed the network one time step at a time\n",
        "        for input_t in input_data.chunk(input_data.size(1), dim=1):\n",
        "        \n",
        "        # If predicting the future (test time)\n",
        "        for i in range(future):  \n",
        "            \n",
        "# Build the model\n",
        "#seq = CustomNetwork(cell_type='lstm').double()\n",
        "seq = CustomNetwork(cell_type='lstm').double().cuda() #GPU"
      ],
      "execution_count": 0,
      "outputs": []
    },
    {
      "metadata": {
        "id": "xSvKD_UY7cNb",
        "colab_type": "text"
      },
      "cell_type": "markdown",
      "source": [
        "## Setting Loss and Optimizer"
      ]
    },
    {
      "metadata": {
        "id": "ZVK4IolF7dLN",
        "colab_type": "code",
        "colab": {}
      },
      "cell_type": "code",
      "source": [
        "import torch.optim as optim\n",
        "\n",
        "#criterion = nn.MSELoss()\n",
        "criterion = nn.MSELoss().cuda() #GPU\n",
        "\n",
        "# use LBFGS as optimizer since we can load the whole data to train\n",
        "optimizer = optim.LBFGS(seq.parameters(), lr=0.8)"
      ],
      "execution_count": 0,
      "outputs": []
    },
    {
      "metadata": {
        "id": "Uj7kYe1-9_jx",
        "colab_type": "text"
      },
      "cell_type": "markdown",
      "source": [
        "## Train / Test Model"
      ]
    },
    {
      "metadata": {
        "id": "cZmDUiDMpeKZ",
        "colab_type": "code",
        "colab": {}
      },
      "cell_type": "code",
      "source": [
        "#input = Variable(torch.from_numpy(data[3:, :-1]).double())\n",
        "#target = Variable(torch.from_numpy(data[3:, 1:]).double())\n",
        "#test_input = Variable(torch.from_numpy(data[:3, :-1]).double())\n",
        "#test_target = Variable(torch.from_numpy(data[:3, 1:]).double())\n",
        "\n",
        "#GPU\n",
        "input = Variable(torch.from_numpy(data[3:, :-1]).double()).cuda() \n",
        "target = Variable(torch.from_numpy(data[3:, 1:]).double()).cuda()\n",
        "test_input = Variable(torch.from_numpy(data[:3, :-1]).double()).cuda()\n",
        "test_target = Variable(torch.from_numpy(data[:3, 1:]).double()).cuda()\n",
        "\n",
        "# Train the model\n",
        "num_epochs=7\n",
        "for epoch in range(num_epochs):\n",
        "  \n",
        "    # Set to Train mode\n",
        "    seq.train()\n",
        "    \n",
        "    # Forward and Backward pass\n",
        "    def closure():\n",
        "      optimizer.zero_grad()\n",
        "      out = seq(input)\n",
        "      loss = criterion(out, target)\n",
        "      loss.backward()\n",
        "      return loss\n",
        "    optimizer.step(closure)\n",
        "    \n",
        "    # Test the model\n",
        "    \n",
        "    # Set to eval mode\n",
        "    seq.eval()\n",
        "    \n",
        "    future = 1000\n",
        "    pred = seq(test_input, future=future)\n",
        "    loss = criterion(pred[:, :-future], test_target)\n",
        "    print ('Epoch [{}/{}], Loss: {:.6f}' \n",
        "                   .format(epoch+1, num_epochs, loss.data[0]))\n",
        "\n",
        "# Draw the result\n",
        "y = pred.data.cpu().numpy()\n",
        "plt.figure(figsize=(25,5))\n",
        "plt.title('Predict future values for time sequences\\n(Dashlines are predicted values)', fontsize=20)\n",
        "plt.xlabel('x', fontsize=20)\n",
        "plt.ylabel('y', fontsize=20)\n",
        "plt.xticks(fontsize=10)\n",
        "plt.yticks(fontsize=10)\n",
        "def draw(yi, color):\n",
        "    plt.plot(np.arange(input.size(1)), yi[:input.size(1)], color, linewidth = 2.0)\n",
        "    plt.plot(np.arange(input.size(1), input.size(1) + future), yi[input.size(1):], color + ':', linewidth = 2.0)\n",
        "draw(y[0], 'r')\n",
        "draw(y[1], 'g')\n",
        "draw(y[2], 'b')\n",
        "    "
      ],
      "execution_count": 0,
      "outputs": []
    },
    {
      "metadata": {
        "id": "9OsYcTY19C6u",
        "colab_type": "code",
        "colab": {}
      },
      "cell_type": "code",
      "source": [
        ""
      ],
      "execution_count": 0,
      "outputs": []
    }
  ]
}