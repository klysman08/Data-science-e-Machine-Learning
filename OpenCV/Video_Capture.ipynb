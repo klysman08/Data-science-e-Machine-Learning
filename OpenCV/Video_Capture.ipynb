{
  "nbformat": 4,
  "nbformat_minor": 0,
  "metadata": {
    "colab": {
      "name": "Video Capture.ipynb",
      "provenance": []
    },
    "kernelspec": {
      "name": "python3",
      "display_name": "Python 3"
    }
  },
  "cells": [
    {
      "cell_type": "code",
      "metadata": {
        "id": "cT_fgvi97hw-",
        "colab_type": "code",
        "colab": {}
      },
      "source": [
        "import numpy as np\n",
        "import cv2\n",
        "from matplotlib import pyplot as plt\n",
        "from google.colab.patches import cv2_imshow"
      ],
      "execution_count": 0,
      "outputs": []
    },
    {
      "cell_type": "code",
      "metadata": {
        "id": "xcCaMyeV71B-",
        "colab_type": "code",
        "colab": {
          "base_uri": "https://localhost:8080/",
          "height": 223
        },
        "outputId": "d687e286-6303-466a-90a7-532d5e865592"
      },
      "source": [
        "cap = cv2.VideoCapture(0)\n",
        "\n",
        "contadorBalada = 0\n",
        "while (True):\n",
        "  existeFrame, frame = cap.read()\n",
        "\n",
        "  altura, largura,_ = frame.shape\n",
        "  imagemVazia = np.zeros((altura, largura), dtype=\"uint8\")\n",
        "\n",
        "  (B, G, R) = cv2.split(frame)\n",
        "\n",
        "  R = cv2.marge([imagemVazia, imagemVazia, R])\n",
        "  G = cv2.marge([imagemVazia, G, imagemVazia])\n",
        "  B = cv2.marge([B, imagemVazia, imagemVazia])\n",
        "\n",
        "  imagemBalada = np.zeros((altura, largura, 3), dtype=\"uint8\")\n",
        "  contadorBalada = contadorBalada % 4\n",
        "\n",
        "  if( contadorBalada == 0):\n",
        "    imagemBalada = frame\n",
        "  elif(contadorBalada == 1):\n",
        "    imagemBalada = R\n",
        "  elif(contadorBalada == 2):\n",
        "    imagemBalada = G\n",
        "  elif(contadorBalada == 3):\n",
        "    imagemBalada = B\n",
        "\n",
        "  contador += 1 \n",
        "\n",
        "\n",
        "  cv2_imshow(imagemBalada)\n",
        "\n",
        "  if(cv2.waitKey(1) & 0xFF == ord('q')):\n",
        "    break\n",
        "cap.release()\n",
        "cv2.destroyAllWindows()"
      ],
      "execution_count": 8,
      "outputs": [
        {
          "output_type": "error",
          "ename": "AttributeError",
          "evalue": "ignored",
          "traceback": [
            "\u001b[0;31m---------------------------------------------------------------------------\u001b[0m",
            "\u001b[0;31mAttributeError\u001b[0m                            Traceback (most recent call last)",
            "\u001b[0;32m<ipython-input-8-e29ff0746d35>\u001b[0m in \u001b[0;36m<module>\u001b[0;34m()\u001b[0m\n\u001b[1;32m      5\u001b[0m   \u001b[0mexisteFrame\u001b[0m\u001b[0;34m,\u001b[0m \u001b[0mframe\u001b[0m \u001b[0;34m=\u001b[0m \u001b[0mcap\u001b[0m\u001b[0;34m.\u001b[0m\u001b[0mread\u001b[0m\u001b[0;34m(\u001b[0m\u001b[0;34m)\u001b[0m\u001b[0;34m\u001b[0m\u001b[0;34m\u001b[0m\u001b[0m\n\u001b[1;32m      6\u001b[0m \u001b[0;34m\u001b[0m\u001b[0m\n\u001b[0;32m----> 7\u001b[0;31m   \u001b[0maltura\u001b[0m\u001b[0;34m,\u001b[0m \u001b[0mlargura\u001b[0m\u001b[0;34m,\u001b[0m\u001b[0m_\u001b[0m \u001b[0;34m=\u001b[0m \u001b[0mframe\u001b[0m\u001b[0;34m.\u001b[0m\u001b[0mshape\u001b[0m\u001b[0;34m\u001b[0m\u001b[0;34m\u001b[0m\u001b[0m\n\u001b[0m\u001b[1;32m      8\u001b[0m   \u001b[0mimagemVazia\u001b[0m \u001b[0;34m=\u001b[0m \u001b[0mnp\u001b[0m\u001b[0;34m.\u001b[0m\u001b[0mzeros\u001b[0m\u001b[0;34m(\u001b[0m\u001b[0;34m(\u001b[0m\u001b[0maltura\u001b[0m\u001b[0;34m,\u001b[0m \u001b[0mlargura\u001b[0m\u001b[0;34m)\u001b[0m\u001b[0;34m,\u001b[0m \u001b[0mdtype\u001b[0m\u001b[0;34m=\u001b[0m\u001b[0;34m\"uint8\"\u001b[0m\u001b[0;34m)\u001b[0m\u001b[0;34m\u001b[0m\u001b[0;34m\u001b[0m\u001b[0m\n\u001b[1;32m      9\u001b[0m \u001b[0;34m\u001b[0m\u001b[0m\n",
            "\u001b[0;31mAttributeError\u001b[0m: 'NoneType' object has no attribute 'shape'"
          ]
        }
      ]
    },
    {
      "cell_type": "code",
      "metadata": {
        "id": "oYyfZ1yr_9Fi",
        "colab_type": "code",
        "colab": {}
      },
      "source": [
        ""
      ],
      "execution_count": 0,
      "outputs": []
    }
  ]
}