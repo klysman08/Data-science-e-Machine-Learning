{
 "cells": [
  {
   "cell_type": "code",
   "execution_count": null,
   "metadata": {
    "scrolled": false
   },
   "outputs": [],
   "source": [
    "import numpy as np\n",
    "import scipy\n",
    "import matplotlib.pyplot as plt\n",
    "\n",
    "from skimage import io\n",
    "from scipy import signal\n",
    "from scipy import fftpack\n",
    "\n",
    "%matplotlib inline\n",
    "\n",
    "# Reading image and initiating kernel.\n",
    "# image = io.imread('../../../data/lena.png')\n",
    "image = io.imread('../../../data/tutankamon.jpg')\n",
    "\n",
    "size_kernel = 3\n",
    "# size_kernel = 11\n",
    "# size_kernel = 111\n",
    "kernel = np.ones((size_kernel, size_kernel), dtype=np.float) / (size_kernel ** 2) # Mean.\n",
    "\n",
    "# kernel = np.asarray([[-1, 0, 1], [-2, 0, 2], [-1, 0, 1]], dtype=np.float) # Sobel.\n",
    "# kernel = np.asarray([[-1, 0, 1], [-1, 0, 1], [-1, 0, 1]], dtype=np.float) # Prewitt.\n",
    "# kernel = np.asarray([[1, 1, 1], [1, -8, 1], [1, 1, 1]], dtype=np.float) # Approximate 3x3 Laplacian.\n",
    "# kernel = np.asarray([[0, 0, 1, 0, 0], [0, 1, 2, 1, 0], [1, 2, -16, 2, 1], [0, 1, 2, 1, 0], [0, 0, 1, 0, 0]], dtype=np.float) # Approximate 5x5 Laplacian.\n",
    "\n",
    "print(kernel)\n",
    "\n",
    "if len(image.shape) > 2:\n",
    "    image = image[:, :, 1]\n",
    "\n",
    "# Convolve image with kernel.\n",
    "result = scipy.signal.convolve2d(image, kernel)\n",
    "\n",
    "# Plotting.\n",
    "fig, ax = plt.subplots(3, 1, figsize=(8, 24))\n",
    "\n",
    "ax[0].imshow(kernel, interpolation='nearest', cmap=plt.cm.gray)\n",
    "ax[0].set_title('Kernel')\n",
    "ax[0].set_xticks([])\n",
    "ax[0].set_yticks([])\n",
    "\n",
    "ax[1].imshow(image, interpolation='nearest', cmap=plt.cm.gray)\n",
    "ax[1].set_title('Image')\n",
    "ax[1].set_xticks([])\n",
    "ax[1].set_yticks([])\n",
    "\n",
    "ax[2].imshow(result, interpolation='nearest', cmap=plt.cm.gray)\n",
    "ax[2].set_title('Convolution Result')\n",
    "ax[2].set_xticks([])\n",
    "ax[2].set_yticks([])\n",
    "\n",
    "fig.show()"
   ]
  },
  {
   "cell_type": "code",
   "execution_count": null,
   "metadata": {
    "collapsed": true
   },
   "outputs": [],
   "source": []
  }
 ],
 "metadata": {
  "kernelspec": {
   "display_name": "Python 3",
   "language": "python",
   "name": "python3"
  },
  "language_info": {
   "codemirror_mode": {
    "name": "ipython",
    "version": 3
   },
   "file_extension": ".py",
   "mimetype": "text/x-python",
   "name": "python",
   "nbconvert_exporter": "python",
   "pygments_lexer": "ipython3",
   "version": "3.6.5"
  }
 },
 "nbformat": 4,
 "nbformat_minor": 2
}
