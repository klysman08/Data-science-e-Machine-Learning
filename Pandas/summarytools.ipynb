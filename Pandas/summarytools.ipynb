{
 "cells": [
  {
   "cell_type": "code",
   "execution_count": 1,
   "metadata": {},
   "outputs": [],
   "source": [
    "import seaborn as sns\n",
    "iris = sns.load_dataset('iris')"
   ]
  },
  {
   "cell_type": "code",
   "execution_count": 2,
   "metadata": {},
   "outputs": [
    {
     "data": {
      "text/html": [
       "<style type=\"text/css\">\n",
       "#T_bc36d thead>tr>th {\n",
       "  text-align: left;\n",
       "}\n",
       "#T_bc36d_row0_col0, #T_bc36d_row1_col0, #T_bc36d_row2_col0, #T_bc36d_row3_col0, #T_bc36d_row4_col0 {\n",
       "  text-align: left;\n",
       "  font-size: 12px;\n",
       "  vertical-align: middle;\n",
       "  width: 5%;\n",
       "  max-width: 50px;\n",
       "  min-width: 20px;\n",
       "}\n",
       "#T_bc36d_row0_col1, #T_bc36d_row1_col1, #T_bc36d_row2_col1, #T_bc36d_row3_col1, #T_bc36d_row4_col1 {\n",
       "  text-align: left;\n",
       "  font-size: 12px;\n",
       "  vertical-align: middle;\n",
       "  width: 15%;\n",
       "  max-width: 200px;\n",
       "  min-width: 100px;\n",
       "  word-break: break-word;\n",
       "}\n",
       "#T_bc36d_row0_col2, #T_bc36d_row1_col2, #T_bc36d_row2_col2, #T_bc36d_row3_col2, #T_bc36d_row4_col2 {\n",
       "  text-align: left;\n",
       "  font-size: 12px;\n",
       "  vertical-align: middle;\n",
       "  width: 30%;\n",
       "  min-width: 100px;\n",
       "}\n",
       "#T_bc36d_row0_col3, #T_bc36d_row1_col3, #T_bc36d_row2_col3, #T_bc36d_row3_col3, #T_bc36d_row4_col3 {\n",
       "  text-align: left;\n",
       "  font-size: 12px;\n",
       "  vertical-align: middle;\n",
       "  width: 25%;\n",
       "  min-width: 100px;\n",
       "}\n",
       "#T_bc36d_row0_col4, #T_bc36d_row1_col4, #T_bc36d_row2_col4, #T_bc36d_row3_col4, #T_bc36d_row4_col4 {\n",
       "  text-align: left;\n",
       "  font-size: 12px;\n",
       "  vertical-align: middle;\n",
       "  width: 20%;\n",
       "  min-width: 150px;\n",
       "}\n",
       "#T_bc36d_row0_col5, #T_bc36d_row1_col5, #T_bc36d_row2_col5, #T_bc36d_row3_col5, #T_bc36d_row4_col5 {\n",
       "  text-align: left;\n",
       "  font-size: 12px;\n",
       "  vertical-align: middle;\n",
       "  width: 10%;\n",
       "}\n",
       "</style>\n",
       "<table id=\"T_bc36d\">\n",
       "  <caption><strong>Data Frame Summary</strong><br>iris<br>Dimensions: 150 x 5<br>Duplicates: 1</caption>\n",
       "  <thead>\n",
       "    <tr>\n",
       "      <th id=\"T_bc36d_level0_col0\" class=\"col_heading level0 col0\" >No</th>\n",
       "      <th id=\"T_bc36d_level0_col1\" class=\"col_heading level0 col1\" >Variable</th>\n",
       "      <th id=\"T_bc36d_level0_col2\" class=\"col_heading level0 col2\" >Stats / Values</th>\n",
       "      <th id=\"T_bc36d_level0_col3\" class=\"col_heading level0 col3\" >Freqs / (% of Valid)</th>\n",
       "      <th id=\"T_bc36d_level0_col4\" class=\"col_heading level0 col4\" >Graph</th>\n",
       "      <th id=\"T_bc36d_level0_col5\" class=\"col_heading level0 col5\" >Missing</th>\n",
       "    </tr>\n",
       "  </thead>\n",
       "  <tbody>\n",
       "    <tr>\n",
       "      <td id=\"T_bc36d_row0_col0\" class=\"data row0 col0\" >1</td>\n",
       "      <td id=\"T_bc36d_row0_col1\" class=\"data row0 col1\" ><strong>sepal_length</strong><br>[float64]</td>\n",
       "      <td id=\"T_bc36d_row0_col2\" class=\"data row0 col2\" >Mean (sd) : 5.8 (0.8)<br>min < med < max:<br>4.3 < 5.8 < 7.9<br>IQR (CV) : 1.3 (7.1)</td>\n",
       "      <td id=\"T_bc36d_row0_col3\" class=\"data row0 col3\" >35 distinct values</td>\n",
       "      <td id=\"T_bc36d_row0_col4\" class=\"data row0 col4\" ><img src = \"tmp/iris_000.png\"></img></td>\n",
       "      <td id=\"T_bc36d_row0_col5\" class=\"data row0 col5\" >0<br>(0.0%)</td>\n",
       "    </tr>\n",
       "    <tr>\n",
       "      <td id=\"T_bc36d_row1_col0\" class=\"data row1 col0\" >2</td>\n",
       "      <td id=\"T_bc36d_row1_col1\" class=\"data row1 col1\" ><strong>sepal_width</strong><br>[float64]</td>\n",
       "      <td id=\"T_bc36d_row1_col2\" class=\"data row1 col2\" >Mean (sd) : 3.1 (0.4)<br>min < med < max:<br>2.0 < 3.0 < 4.4<br>IQR (CV) : 0.5 (7.0)</td>\n",
       "      <td id=\"T_bc36d_row1_col3\" class=\"data row1 col3\" >23 distinct values</td>\n",
       "      <td id=\"T_bc36d_row1_col4\" class=\"data row1 col4\" ><img src = \"tmp/iris_001.png\"></img></td>\n",
       "      <td id=\"T_bc36d_row1_col5\" class=\"data row1 col5\" >0<br>(0.0%)</td>\n",
       "    </tr>\n",
       "    <tr>\n",
       "      <td id=\"T_bc36d_row2_col0\" class=\"data row2 col0\" >3</td>\n",
       "      <td id=\"T_bc36d_row2_col1\" class=\"data row2 col1\" ><strong>petal_length</strong><br>[float64]</td>\n",
       "      <td id=\"T_bc36d_row2_col2\" class=\"data row2 col2\" >Mean (sd) : 3.8 (1.8)<br>min < med < max:<br>1.0 < 4.3 < 6.9<br>IQR (CV) : 3.5 (2.1)</td>\n",
       "      <td id=\"T_bc36d_row2_col3\" class=\"data row2 col3\" >43 distinct values</td>\n",
       "      <td id=\"T_bc36d_row2_col4\" class=\"data row2 col4\" ><img src = \"tmp/iris_002.png\"></img></td>\n",
       "      <td id=\"T_bc36d_row2_col5\" class=\"data row2 col5\" >0<br>(0.0%)</td>\n",
       "    </tr>\n",
       "    <tr>\n",
       "      <td id=\"T_bc36d_row3_col0\" class=\"data row3 col0\" >4</td>\n",
       "      <td id=\"T_bc36d_row3_col1\" class=\"data row3 col1\" ><strong>petal_width</strong><br>[float64]</td>\n",
       "      <td id=\"T_bc36d_row3_col2\" class=\"data row3 col2\" >Mean (sd) : 1.2 (0.8)<br>min < med < max:<br>0.1 < 1.3 < 2.5<br>IQR (CV) : 1.5 (1.6)</td>\n",
       "      <td id=\"T_bc36d_row3_col3\" class=\"data row3 col3\" >22 distinct values</td>\n",
       "      <td id=\"T_bc36d_row3_col4\" class=\"data row3 col4\" ><img src = \"tmp/iris_003.png\"></img></td>\n",
       "      <td id=\"T_bc36d_row3_col5\" class=\"data row3 col5\" >0<br>(0.0%)</td>\n",
       "    </tr>\n",
       "    <tr>\n",
       "      <td id=\"T_bc36d_row4_col0\" class=\"data row4 col0\" >5</td>\n",
       "      <td id=\"T_bc36d_row4_col1\" class=\"data row4 col1\" ><strong>species</strong><br>[object]</td>\n",
       "      <td id=\"T_bc36d_row4_col2\" class=\"data row4 col2\" >1. setosa<br>2. versicolor<br>3. virginica</td>\n",
       "      <td id=\"T_bc36d_row4_col3\" class=\"data row4 col3\" >50 (33.3%)<br>50 (33.3%)<br>50 (33.3%)</td>\n",
       "      <td id=\"T_bc36d_row4_col4\" class=\"data row4 col4\" ><img src = \"tmp/iris_004.png\"></img></td>\n",
       "      <td id=\"T_bc36d_row4_col5\" class=\"data row4 col5\" >0<br>(0.0%)</td>\n",
       "    </tr>\n",
       "  </tbody>\n",
       "</table>\n"
      ],
      "text/plain": [
       "<pandas.io.formats.style.Styler at 0x7f056c43a3b0>"
      ]
     },
     "execution_count": 2,
     "metadata": {},
     "output_type": "execute_result"
    }
   ],
   "source": [
    "from summarytools import dfSummary\n",
    "dfSummary(iris)"
   ]
  }
 ],
 "metadata": {
  "kernelspec": {
   "display_name": "Python 3",
   "language": "python",
   "name": "python3"
  },
  "language_info": {
   "codemirror_mode": {
    "name": "ipython",
    "version": 3
   },
   "file_extension": ".py",
   "mimetype": "text/x-python",
   "name": "python",
   "nbconvert_exporter": "python",
   "pygments_lexer": "ipython3",
   "version": "3.10.6"
  },
  "orig_nbformat": 4,
  "vscode": {
   "interpreter": {
    "hash": "916dbcbb3f70747c44a77c7bcd40155683ae19c65e1c03b4aa3499c5328201f1"
   }
  }
 },
 "nbformat": 4,
 "nbformat_minor": 2
}
