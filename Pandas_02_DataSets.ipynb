{
  "nbformat": 4,
  "nbformat_minor": 0,
  "metadata": {
    "colab": {
      "name": "Pandas_02_DataSets.ipynb",
      "version": "0.3.2",
      "provenance": []
    },
    "kernelspec": {
      "name": "python3",
      "display_name": "Python 3"
    }
  },
  "cells": [
    {
      "cell_type": "markdown",
      "metadata": {
        "id": "CoQY19YjsGPD",
        "colab_type": "text"
      },
      "source": [
        "O pandas nos fornece uma série de funcionalidades de leitura de dados, pros mais diversos formatos estruturais de dados, experimente a auto-completação de pd.read_<TAB>, entre eles estão:\n",
        "\n",
        "pd.read_csv, para ler arquivos .csv, formato comum de armazenar dados de tabelas<br>\n",
        "pd.read_xlsx, para ler arquivos Excel .xlsx, é necessário instalar uma biblioteca adicional pra esta funcionalidade.<br>\n",
        "pd.read_html, para ler tabelas diretamente de um website\n"
      ]
    },
    {
      "cell_type": "markdown",
      "metadata": {
        "id": "AvP5lMQ4JNeP",
        "colab_type": "text"
      },
      "source": [
        "##Tratando os dados"
      ]
    },
    {
      "cell_type": "code",
      "metadata": {
        "id": "oE1xympDhdNu",
        "colab_type": "code",
        "colab": {}
      },
      "source": [
        "import pandas as pd\n",
        "import numpy as np\n",
        "import matplotlib.pyplot as plt"
      ],
      "execution_count": 0,
      "outputs": []
    },
    {
      "cell_type": "code",
      "metadata": {
        "id": "HpsSr1R7-gez",
        "colab_type": "code",
        "colab": {
          "base_uri": "https://localhost:8080/",
          "height": 197
        },
        "outputId": "f3a4dc97-d2a6-4451-836f-1f5e0565289c"
      },
      "source": [
        "df = pd.read_csv(\"dados.csv\")\n",
        "df.head()\n",
        "#df recebe os dados do arquivos dados.csv e df.head() exibe as primeiras linhas da tabela"
      ],
      "execution_count": 67,
      "outputs": [
        {
          "output_type": "execute_result",
          "data": {
            "text/html": [
              "<div>\n",
              "<style scoped>\n",
              "    .dataframe tbody tr th:only-of-type {\n",
              "        vertical-align: middle;\n",
              "    }\n",
              "\n",
              "    .dataframe tbody tr th {\n",
              "        vertical-align: top;\n",
              "    }\n",
              "\n",
              "    .dataframe thead th {\n",
              "        text-align: right;\n",
              "    }\n",
              "</style>\n",
              "<table border=\"1\" class=\"dataframe\">\n",
              "  <thead>\n",
              "    <tr style=\"text-align: right;\">\n",
              "      <th></th>\n",
              "      <th>condominio</th>\n",
              "      <th>quartos</th>\n",
              "      <th>suites</th>\n",
              "      <th>vagas</th>\n",
              "      <th>area</th>\n",
              "      <th>bairro</th>\n",
              "      <th>preco</th>\n",
              "      <th>pm2</th>\n",
              "    </tr>\n",
              "  </thead>\n",
              "  <tbody>\n",
              "    <tr>\n",
              "      <th>0</th>\n",
              "      <td>350</td>\n",
              "      <td>1</td>\n",
              "      <td>0.0</td>\n",
              "      <td>1.0</td>\n",
              "      <td>21</td>\n",
              "      <td>Botafogo</td>\n",
              "      <td>340000</td>\n",
              "      <td>16190.48</td>\n",
              "    </tr>\n",
              "    <tr>\n",
              "      <th>1</th>\n",
              "      <td>800</td>\n",
              "      <td>1</td>\n",
              "      <td>0.0</td>\n",
              "      <td>1.0</td>\n",
              "      <td>64</td>\n",
              "      <td>Botafogo</td>\n",
              "      <td>770000</td>\n",
              "      <td>12031.25</td>\n",
              "    </tr>\n",
              "    <tr>\n",
              "      <th>2</th>\n",
              "      <td>674</td>\n",
              "      <td>1</td>\n",
              "      <td>0.0</td>\n",
              "      <td>1.0</td>\n",
              "      <td>61</td>\n",
              "      <td>Botafogo</td>\n",
              "      <td>600000</td>\n",
              "      <td>9836.07</td>\n",
              "    </tr>\n",
              "    <tr>\n",
              "      <th>3</th>\n",
              "      <td>700</td>\n",
              "      <td>1</td>\n",
              "      <td>1.0</td>\n",
              "      <td>1.0</td>\n",
              "      <td>70</td>\n",
              "      <td>Botafogo</td>\n",
              "      <td>700000</td>\n",
              "      <td>10000.00</td>\n",
              "    </tr>\n",
              "    <tr>\n",
              "      <th>4</th>\n",
              "      <td>440</td>\n",
              "      <td>1</td>\n",
              "      <td>0.0</td>\n",
              "      <td>1.0</td>\n",
              "      <td>44</td>\n",
              "      <td>Botafogo</td>\n",
              "      <td>515000</td>\n",
              "      <td>11704.55</td>\n",
              "    </tr>\n",
              "  </tbody>\n",
              "</table>\n",
              "</div>"
            ],
            "text/plain": [
              "   condominio  quartos  suites  vagas  area    bairro   preco       pm2\n",
              "0         350        1     0.0    1.0    21  Botafogo  340000  16190.48\n",
              "1         800        1     0.0    1.0    64  Botafogo  770000  12031.25\n",
              "2         674        1     0.0    1.0    61  Botafogo  600000   9836.07\n",
              "3         700        1     1.0    1.0    70  Botafogo  700000  10000.00\n",
              "4         440        1     0.0    1.0    44  Botafogo  515000  11704.55"
            ]
          },
          "metadata": {
            "tags": []
          },
          "execution_count": 67
        }
      ]
    },
    {
      "cell_type": "code",
      "metadata": {
        "id": "9fJCXCFj_Yae",
        "colab_type": "code",
        "colab": {
          "base_uri": "https://localhost:8080/",
          "height": 197
        },
        "outputId": "db9201b3-31c4-4d3f-9d13-1832acbb9a91"
      },
      "source": [
        "df.tail()\n",
        "#Exibi a tabela de baixo pra cima na ordem que foi recebida"
      ],
      "execution_count": 68,
      "outputs": [
        {
          "output_type": "execute_result",
          "data": {
            "text/html": [
              "<div>\n",
              "<style scoped>\n",
              "    .dataframe tbody tr th:only-of-type {\n",
              "        vertical-align: middle;\n",
              "    }\n",
              "\n",
              "    .dataframe tbody tr th {\n",
              "        vertical-align: top;\n",
              "    }\n",
              "\n",
              "    .dataframe thead th {\n",
              "        text-align: right;\n",
              "    }\n",
              "</style>\n",
              "<table border=\"1\" class=\"dataframe\">\n",
              "  <thead>\n",
              "    <tr style=\"text-align: right;\">\n",
              "      <th></th>\n",
              "      <th>condominio</th>\n",
              "      <th>quartos</th>\n",
              "      <th>suites</th>\n",
              "      <th>vagas</th>\n",
              "      <th>area</th>\n",
              "      <th>bairro</th>\n",
              "      <th>preco</th>\n",
              "      <th>pm2</th>\n",
              "    </tr>\n",
              "  </thead>\n",
              "  <tbody>\n",
              "    <tr>\n",
              "      <th>1992</th>\n",
              "      <td>1080</td>\n",
              "      <td>3</td>\n",
              "      <td>1.0</td>\n",
              "      <td>1.0</td>\n",
              "      <td>80</td>\n",
              "      <td>Tijuca</td>\n",
              "      <td>680000</td>\n",
              "      <td>8500.00</td>\n",
              "    </tr>\n",
              "    <tr>\n",
              "      <th>1993</th>\n",
              "      <td>750</td>\n",
              "      <td>3</td>\n",
              "      <td>0.0</td>\n",
              "      <td>1.0</td>\n",
              "      <td>82</td>\n",
              "      <td>Tijuca</td>\n",
              "      <td>650000</td>\n",
              "      <td>7926.83</td>\n",
              "    </tr>\n",
              "    <tr>\n",
              "      <th>1994</th>\n",
              "      <td>700</td>\n",
              "      <td>3</td>\n",
              "      <td>1.0</td>\n",
              "      <td>1.0</td>\n",
              "      <td>100</td>\n",
              "      <td>Tijuca</td>\n",
              "      <td>629900</td>\n",
              "      <td>6299.00</td>\n",
              "    </tr>\n",
              "    <tr>\n",
              "      <th>1995</th>\n",
              "      <td>1850</td>\n",
              "      <td>3</td>\n",
              "      <td>1.0</td>\n",
              "      <td>2.0</td>\n",
              "      <td>166</td>\n",
              "      <td>Tijuca</td>\n",
              "      <td>1600000</td>\n",
              "      <td>9638.55</td>\n",
              "    </tr>\n",
              "    <tr>\n",
              "      <th>1996</th>\n",
              "      <td>800</td>\n",
              "      <td>3</td>\n",
              "      <td>1.0</td>\n",
              "      <td>1.0</td>\n",
              "      <td>107</td>\n",
              "      <td>Tijuca</td>\n",
              "      <td>540000</td>\n",
              "      <td>5046.73</td>\n",
              "    </tr>\n",
              "  </tbody>\n",
              "</table>\n",
              "</div>"
            ],
            "text/plain": [
              "      condominio  quartos  suites  vagas  area  bairro    preco      pm2\n",
              "1992        1080        3     1.0    1.0    80  Tijuca   680000  8500.00\n",
              "1993         750        3     0.0    1.0    82  Tijuca   650000  7926.83\n",
              "1994         700        3     1.0    1.0   100  Tijuca   629900  6299.00\n",
              "1995        1850        3     1.0    2.0   166  Tijuca  1600000  9638.55\n",
              "1996         800        3     1.0    1.0   107  Tijuca   540000  5046.73"
            ]
          },
          "metadata": {
            "tags": []
          },
          "execution_count": 68
        }
      ]
    },
    {
      "cell_type": "code",
      "metadata": {
        "id": "SFiFOfnO_v3_",
        "colab_type": "code",
        "colab": {
          "base_uri": "https://localhost:8080/",
          "height": 50
        },
        "outputId": "114fa7f9-6292-4ebc-a9d0-c453a2141ef7"
      },
      "source": [
        "df['bairro'].unique()\n",
        "#Retorna todos os objetos unicos na coluna indicada"
      ],
      "execution_count": 69,
      "outputs": [
        {
          "output_type": "execute_result",
          "data": {
            "text/plain": [
              "array(['Botafogo', 'Copacabana', 'Gávea', 'Grajaú', 'Ipanema', 'Leblon',\n",
              "       'Tijuca'], dtype=object)"
            ]
          },
          "metadata": {
            "tags": []
          },
          "execution_count": 69
        }
      ]
    },
    {
      "cell_type": "code",
      "metadata": {
        "id": "asNMmZ2Y_6oZ",
        "colab_type": "code",
        "colab": {
          "base_uri": "https://localhost:8080/",
          "height": 150
        },
        "outputId": "5e6b2ff0-14a0-4e06-ea41-a04fb89e92dd"
      },
      "source": [
        "df['bairro'].value_counts()\n",
        "#Retorna a contagem de vezes que todos os objetos apareceram na coluna indicada"
      ],
      "execution_count": 70,
      "outputs": [
        {
          "output_type": "execute_result",
          "data": {
            "text/plain": [
              "Copacabana    346\n",
              "Tijuca        341\n",
              "Botafogo      307\n",
              "Ipanema       281\n",
              "Leblon        280\n",
              "Grajaú        237\n",
              "Gávea         205\n",
              "Name: bairro, dtype: int64"
            ]
          },
          "metadata": {
            "tags": []
          },
          "execution_count": 70
        }
      ]
    },
    {
      "cell_type": "code",
      "metadata": {
        "id": "g9TEYRY5A-Ct",
        "colab_type": "code",
        "colab": {
          "base_uri": "https://localhost:8080/",
          "height": 150
        },
        "outputId": "480df93b-b704-4f04-f83c-abc1d3384053"
      },
      "source": [
        "df['bairro'].value_counts(normalize=True)\n",
        "#Retorna os valores normalizados de cada objeto"
      ],
      "execution_count": 71,
      "outputs": [
        {
          "output_type": "execute_result",
          "data": {
            "text/plain": [
              "Copacabana    0.173260\n",
              "Tijuca        0.170756\n",
              "Botafogo      0.153731\n",
              "Ipanema       0.140711\n",
              "Leblon        0.140210\n",
              "Grajaú        0.118678\n",
              "Gávea         0.102654\n",
              "Name: bairro, dtype: float64"
            ]
          },
          "metadata": {
            "tags": []
          },
          "execution_count": 71
        }
      ]
    },
    {
      "cell_type": "code",
      "metadata": {
        "id": "Pr7AILtZBU3O",
        "colab_type": "code",
        "colab": {
          "base_uri": "https://localhost:8080/",
          "height": 287
        },
        "outputId": "1d0cc8ea-08ff-4af4-b281-5c6cd96124c4"
      },
      "source": [
        "df.groupby(by='bairro',sort=True).mean()\n",
        "#Agrapamento de informações pelo bairro e suas medias para cada atributo"
      ],
      "execution_count": 72,
      "outputs": [
        {
          "output_type": "execute_result",
          "data": {
            "text/html": [
              "<div>\n",
              "<style scoped>\n",
              "    .dataframe tbody tr th:only-of-type {\n",
              "        vertical-align: middle;\n",
              "    }\n",
              "\n",
              "    .dataframe tbody tr th {\n",
              "        vertical-align: top;\n",
              "    }\n",
              "\n",
              "    .dataframe thead th {\n",
              "        text-align: right;\n",
              "    }\n",
              "</style>\n",
              "<table border=\"1\" class=\"dataframe\">\n",
              "  <thead>\n",
              "    <tr style=\"text-align: right;\">\n",
              "      <th></th>\n",
              "      <th>condominio</th>\n",
              "      <th>quartos</th>\n",
              "      <th>suites</th>\n",
              "      <th>vagas</th>\n",
              "      <th>area</th>\n",
              "      <th>preco</th>\n",
              "      <th>pm2</th>\n",
              "    </tr>\n",
              "    <tr>\n",
              "      <th>bairro</th>\n",
              "      <th></th>\n",
              "      <th></th>\n",
              "      <th></th>\n",
              "      <th></th>\n",
              "      <th></th>\n",
              "      <th></th>\n",
              "      <th></th>\n",
              "    </tr>\n",
              "  </thead>\n",
              "  <tbody>\n",
              "    <tr>\n",
              "      <th>Botafogo</th>\n",
              "      <td>914.475570</td>\n",
              "      <td>2.107492</td>\n",
              "      <td>1.048860</td>\n",
              "      <td>1.159609</td>\n",
              "      <td>83.837134</td>\n",
              "      <td>1.010614e+06</td>\n",
              "      <td>12034.486189</td>\n",
              "    </tr>\n",
              "    <tr>\n",
              "      <th>Copacabana</th>\n",
              "      <td>991.861272</td>\n",
              "      <td>2.101156</td>\n",
              "      <td>1.034682</td>\n",
              "      <td>1.080925</td>\n",
              "      <td>101.855491</td>\n",
              "      <td>1.216344e+06</td>\n",
              "      <td>11965.298699</td>\n",
              "    </tr>\n",
              "    <tr>\n",
              "      <th>Grajaú</th>\n",
              "      <td>619.940928</td>\n",
              "      <td>2.097046</td>\n",
              "      <td>0.970464</td>\n",
              "      <td>1.130802</td>\n",
              "      <td>79.949367</td>\n",
              "      <td>4.788869e+05</td>\n",
              "      <td>6145.624473</td>\n",
              "    </tr>\n",
              "    <tr>\n",
              "      <th>Gávea</th>\n",
              "      <td>985.234146</td>\n",
              "      <td>2.058537</td>\n",
              "      <td>1.029268</td>\n",
              "      <td>1.200000</td>\n",
              "      <td>88.497561</td>\n",
              "      <td>1.454571e+06</td>\n",
              "      <td>16511.582780</td>\n",
              "    </tr>\n",
              "    <tr>\n",
              "      <th>Ipanema</th>\n",
              "      <td>1357.120996</td>\n",
              "      <td>2.181495</td>\n",
              "      <td>1.192171</td>\n",
              "      <td>1.220641</td>\n",
              "      <td>100.615658</td>\n",
              "      <td>2.033096e+06</td>\n",
              "      <td>19738.407794</td>\n",
              "    </tr>\n",
              "    <tr>\n",
              "      <th>Leblon</th>\n",
              "      <td>1260.010714</td>\n",
              "      <td>2.207143</td>\n",
              "      <td>1.064286</td>\n",
              "      <td>1.164286</td>\n",
              "      <td>91.832143</td>\n",
              "      <td>1.946193e+06</td>\n",
              "      <td>20761.351036</td>\n",
              "    </tr>\n",
              "    <tr>\n",
              "      <th>Tijuca</th>\n",
              "      <td>681.175953</td>\n",
              "      <td>2.131965</td>\n",
              "      <td>0.944282</td>\n",
              "      <td>1.143695</td>\n",
              "      <td>81.457478</td>\n",
              "      <td>5.750780e+05</td>\n",
              "      <td>7149.804985</td>\n",
              "    </tr>\n",
              "  </tbody>\n",
              "</table>\n",
              "</div>"
            ],
            "text/plain": [
              "             condominio   quartos  ...         preco           pm2\n",
              "bairro                             ...                            \n",
              "Botafogo     914.475570  2.107492  ...  1.010614e+06  12034.486189\n",
              "Copacabana   991.861272  2.101156  ...  1.216344e+06  11965.298699\n",
              "Grajaú       619.940928  2.097046  ...  4.788869e+05   6145.624473\n",
              "Gávea        985.234146  2.058537  ...  1.454571e+06  16511.582780\n",
              "Ipanema     1357.120996  2.181495  ...  2.033096e+06  19738.407794\n",
              "Leblon      1260.010714  2.207143  ...  1.946193e+06  20761.351036\n",
              "Tijuca       681.175953  2.131965  ...  5.750780e+05   7149.804985\n",
              "\n",
              "[7 rows x 7 columns]"
            ]
          },
          "metadata": {
            "tags": []
          },
          "execution_count": 72
        }
      ]
    },
    {
      "cell_type": "code",
      "metadata": {
        "id": "NvNVd085Cp2e",
        "colab_type": "code",
        "colab": {
          "base_uri": "https://localhost:8080/",
          "height": 166
        },
        "outputId": "13ab8600-eed5-4e6c-a21f-8b6f37537042"
      },
      "source": [
        "df.groupby('bairro').mean()['pm2'].sort_values()\n",
        "#Metodo para extrair somente as médias de preços por bairro de maneira ordenada"
      ],
      "execution_count": 73,
      "outputs": [
        {
          "output_type": "execute_result",
          "data": {
            "text/plain": [
              "bairro\n",
              "Grajaú         6145.624473\n",
              "Tijuca         7149.804985\n",
              "Copacabana    11965.298699\n",
              "Botafogo      12034.486189\n",
              "Gávea         16511.582780\n",
              "Ipanema       19738.407794\n",
              "Leblon        20761.351036\n",
              "Name: pm2, dtype: float64"
            ]
          },
          "metadata": {
            "tags": []
          },
          "execution_count": 73
        }
      ]
    },
    {
      "cell_type": "code",
      "metadata": {
        "id": "OkfDQ9ztEJPJ",
        "colab_type": "code",
        "colab": {
          "base_uri": "https://localhost:8080/",
          "height": 116
        },
        "outputId": "7235f28e-b9d9-4848-a2b7-b0adac5ba4c2"
      },
      "source": [
        "df['bairro'].apply(lambda x: x[:4]).head()\n",
        "#Lambda atribui uma redução ao nome dos bairros, os quais serão indicados pelo fatiamento dos mesmos."
      ],
      "execution_count": 74,
      "outputs": [
        {
          "output_type": "execute_result",
          "data": {
            "text/plain": [
              "0    Bota\n",
              "1    Bota\n",
              "2    Bota\n",
              "3    Bota\n",
              "4    Bota\n",
              "Name: bairro, dtype: object"
            ]
          },
          "metadata": {
            "tags": []
          },
          "execution_count": 74
        }
      ]
    },
    {
      "cell_type": "code",
      "metadata": {
        "id": "K1WsMTYpEg25",
        "colab_type": "code",
        "colab": {
          "base_uri": "https://localhost:8080/",
          "height": 197
        },
        "outputId": "d921d57c-dae2-496a-c9ca-74ef0af0269a"
      },
      "source": [
        "df2 = df.head()\n",
        "df2 = df2.replace({'pm2': {12031.25: np.nan}})\n",
        "df2\n",
        "#Utiliza-se o replace para alterar um elemento dentro da coluna indicada."
      ],
      "execution_count": 75,
      "outputs": [
        {
          "output_type": "execute_result",
          "data": {
            "text/html": [
              "<div>\n",
              "<style scoped>\n",
              "    .dataframe tbody tr th:only-of-type {\n",
              "        vertical-align: middle;\n",
              "    }\n",
              "\n",
              "    .dataframe tbody tr th {\n",
              "        vertical-align: top;\n",
              "    }\n",
              "\n",
              "    .dataframe thead th {\n",
              "        text-align: right;\n",
              "    }\n",
              "</style>\n",
              "<table border=\"1\" class=\"dataframe\">\n",
              "  <thead>\n",
              "    <tr style=\"text-align: right;\">\n",
              "      <th></th>\n",
              "      <th>condominio</th>\n",
              "      <th>quartos</th>\n",
              "      <th>suites</th>\n",
              "      <th>vagas</th>\n",
              "      <th>area</th>\n",
              "      <th>bairro</th>\n",
              "      <th>preco</th>\n",
              "      <th>pm2</th>\n",
              "    </tr>\n",
              "  </thead>\n",
              "  <tbody>\n",
              "    <tr>\n",
              "      <th>0</th>\n",
              "      <td>350</td>\n",
              "      <td>1</td>\n",
              "      <td>0.0</td>\n",
              "      <td>1.0</td>\n",
              "      <td>21</td>\n",
              "      <td>Botafogo</td>\n",
              "      <td>340000</td>\n",
              "      <td>16190.48</td>\n",
              "    </tr>\n",
              "    <tr>\n",
              "      <th>1</th>\n",
              "      <td>800</td>\n",
              "      <td>1</td>\n",
              "      <td>0.0</td>\n",
              "      <td>1.0</td>\n",
              "      <td>64</td>\n",
              "      <td>Botafogo</td>\n",
              "      <td>770000</td>\n",
              "      <td>NaN</td>\n",
              "    </tr>\n",
              "    <tr>\n",
              "      <th>2</th>\n",
              "      <td>674</td>\n",
              "      <td>1</td>\n",
              "      <td>0.0</td>\n",
              "      <td>1.0</td>\n",
              "      <td>61</td>\n",
              "      <td>Botafogo</td>\n",
              "      <td>600000</td>\n",
              "      <td>9836.07</td>\n",
              "    </tr>\n",
              "    <tr>\n",
              "      <th>3</th>\n",
              "      <td>700</td>\n",
              "      <td>1</td>\n",
              "      <td>1.0</td>\n",
              "      <td>1.0</td>\n",
              "      <td>70</td>\n",
              "      <td>Botafogo</td>\n",
              "      <td>700000</td>\n",
              "      <td>10000.00</td>\n",
              "    </tr>\n",
              "    <tr>\n",
              "      <th>4</th>\n",
              "      <td>440</td>\n",
              "      <td>1</td>\n",
              "      <td>0.0</td>\n",
              "      <td>1.0</td>\n",
              "      <td>44</td>\n",
              "      <td>Botafogo</td>\n",
              "      <td>515000</td>\n",
              "      <td>11704.55</td>\n",
              "    </tr>\n",
              "  </tbody>\n",
              "</table>\n",
              "</div>"
            ],
            "text/plain": [
              "   condominio  quartos  suites  vagas  area    bairro   preco       pm2\n",
              "0         350        1     0.0    1.0    21  Botafogo  340000  16190.48\n",
              "1         800        1     0.0    1.0    64  Botafogo  770000       NaN\n",
              "2         674        1     0.0    1.0    61  Botafogo  600000   9836.07\n",
              "3         700        1     1.0    1.0    70  Botafogo  700000  10000.00\n",
              "4         440        1     0.0    1.0    44  Botafogo  515000  11704.55"
            ]
          },
          "metadata": {
            "tags": []
          },
          "execution_count": 75
        }
      ]
    },
    {
      "cell_type": "code",
      "metadata": {
        "id": "Im6oVAAoHWZe",
        "colab_type": "code",
        "colab": {
          "base_uri": "https://localhost:8080/",
          "height": 167
        },
        "outputId": "87c0f515-5b61-4e3e-d42d-65bd60797fef"
      },
      "source": [
        "df2.dropna()\n",
        "#Função que descarta todas as linhas que não contem valor, no caso contém NaN"
      ],
      "execution_count": 76,
      "outputs": [
        {
          "output_type": "execute_result",
          "data": {
            "text/html": [
              "<div>\n",
              "<style scoped>\n",
              "    .dataframe tbody tr th:only-of-type {\n",
              "        vertical-align: middle;\n",
              "    }\n",
              "\n",
              "    .dataframe tbody tr th {\n",
              "        vertical-align: top;\n",
              "    }\n",
              "\n",
              "    .dataframe thead th {\n",
              "        text-align: right;\n",
              "    }\n",
              "</style>\n",
              "<table border=\"1\" class=\"dataframe\">\n",
              "  <thead>\n",
              "    <tr style=\"text-align: right;\">\n",
              "      <th></th>\n",
              "      <th>condominio</th>\n",
              "      <th>quartos</th>\n",
              "      <th>suites</th>\n",
              "      <th>vagas</th>\n",
              "      <th>area</th>\n",
              "      <th>bairro</th>\n",
              "      <th>preco</th>\n",
              "      <th>pm2</th>\n",
              "    </tr>\n",
              "  </thead>\n",
              "  <tbody>\n",
              "    <tr>\n",
              "      <th>0</th>\n",
              "      <td>350</td>\n",
              "      <td>1</td>\n",
              "      <td>0.0</td>\n",
              "      <td>1.0</td>\n",
              "      <td>21</td>\n",
              "      <td>Botafogo</td>\n",
              "      <td>340000</td>\n",
              "      <td>16190.48</td>\n",
              "    </tr>\n",
              "    <tr>\n",
              "      <th>2</th>\n",
              "      <td>674</td>\n",
              "      <td>1</td>\n",
              "      <td>0.0</td>\n",
              "      <td>1.0</td>\n",
              "      <td>61</td>\n",
              "      <td>Botafogo</td>\n",
              "      <td>600000</td>\n",
              "      <td>9836.07</td>\n",
              "    </tr>\n",
              "    <tr>\n",
              "      <th>3</th>\n",
              "      <td>700</td>\n",
              "      <td>1</td>\n",
              "      <td>1.0</td>\n",
              "      <td>1.0</td>\n",
              "      <td>70</td>\n",
              "      <td>Botafogo</td>\n",
              "      <td>700000</td>\n",
              "      <td>10000.00</td>\n",
              "    </tr>\n",
              "    <tr>\n",
              "      <th>4</th>\n",
              "      <td>440</td>\n",
              "      <td>1</td>\n",
              "      <td>0.0</td>\n",
              "      <td>1.0</td>\n",
              "      <td>44</td>\n",
              "      <td>Botafogo</td>\n",
              "      <td>515000</td>\n",
              "      <td>11704.55</td>\n",
              "    </tr>\n",
              "  </tbody>\n",
              "</table>\n",
              "</div>"
            ],
            "text/plain": [
              "   condominio  quartos  suites  vagas  area    bairro   preco       pm2\n",
              "0         350        1     0.0    1.0    21  Botafogo  340000  16190.48\n",
              "2         674        1     0.0    1.0    61  Botafogo  600000   9836.07\n",
              "3         700        1     1.0    1.0    70  Botafogo  700000  10000.00\n",
              "4         440        1     0.0    1.0    44  Botafogo  515000  11704.55"
            ]
          },
          "metadata": {
            "tags": []
          },
          "execution_count": 76
        }
      ]
    },
    {
      "cell_type": "code",
      "metadata": {
        "id": "fBSHogP0H4qp",
        "colab_type": "code",
        "colab": {
          "base_uri": "https://localhost:8080/",
          "height": 197
        },
        "outputId": "cf617e15-8baf-498e-bc16-2e1935731631"
      },
      "source": [
        "df2.fillna(99)\n",
        "#Preenche todos os valores NaN pelo indicado na função"
      ],
      "execution_count": 77,
      "outputs": [
        {
          "output_type": "execute_result",
          "data": {
            "text/html": [
              "<div>\n",
              "<style scoped>\n",
              "    .dataframe tbody tr th:only-of-type {\n",
              "        vertical-align: middle;\n",
              "    }\n",
              "\n",
              "    .dataframe tbody tr th {\n",
              "        vertical-align: top;\n",
              "    }\n",
              "\n",
              "    .dataframe thead th {\n",
              "        text-align: right;\n",
              "    }\n",
              "</style>\n",
              "<table border=\"1\" class=\"dataframe\">\n",
              "  <thead>\n",
              "    <tr style=\"text-align: right;\">\n",
              "      <th></th>\n",
              "      <th>condominio</th>\n",
              "      <th>quartos</th>\n",
              "      <th>suites</th>\n",
              "      <th>vagas</th>\n",
              "      <th>area</th>\n",
              "      <th>bairro</th>\n",
              "      <th>preco</th>\n",
              "      <th>pm2</th>\n",
              "    </tr>\n",
              "  </thead>\n",
              "  <tbody>\n",
              "    <tr>\n",
              "      <th>0</th>\n",
              "      <td>350</td>\n",
              "      <td>1</td>\n",
              "      <td>0.0</td>\n",
              "      <td>1.0</td>\n",
              "      <td>21</td>\n",
              "      <td>Botafogo</td>\n",
              "      <td>340000</td>\n",
              "      <td>16190.48</td>\n",
              "    </tr>\n",
              "    <tr>\n",
              "      <th>1</th>\n",
              "      <td>800</td>\n",
              "      <td>1</td>\n",
              "      <td>0.0</td>\n",
              "      <td>1.0</td>\n",
              "      <td>64</td>\n",
              "      <td>Botafogo</td>\n",
              "      <td>770000</td>\n",
              "      <td>99.00</td>\n",
              "    </tr>\n",
              "    <tr>\n",
              "      <th>2</th>\n",
              "      <td>674</td>\n",
              "      <td>1</td>\n",
              "      <td>0.0</td>\n",
              "      <td>1.0</td>\n",
              "      <td>61</td>\n",
              "      <td>Botafogo</td>\n",
              "      <td>600000</td>\n",
              "      <td>9836.07</td>\n",
              "    </tr>\n",
              "    <tr>\n",
              "      <th>3</th>\n",
              "      <td>700</td>\n",
              "      <td>1</td>\n",
              "      <td>1.0</td>\n",
              "      <td>1.0</td>\n",
              "      <td>70</td>\n",
              "      <td>Botafogo</td>\n",
              "      <td>700000</td>\n",
              "      <td>10000.00</td>\n",
              "    </tr>\n",
              "    <tr>\n",
              "      <th>4</th>\n",
              "      <td>440</td>\n",
              "      <td>1</td>\n",
              "      <td>0.0</td>\n",
              "      <td>1.0</td>\n",
              "      <td>44</td>\n",
              "      <td>Botafogo</td>\n",
              "      <td>515000</td>\n",
              "      <td>11704.55</td>\n",
              "    </tr>\n",
              "  </tbody>\n",
              "</table>\n",
              "</div>"
            ],
            "text/plain": [
              "   condominio  quartos  suites  vagas  area    bairro   preco       pm2\n",
              "0         350        1     0.0    1.0    21  Botafogo  340000  16190.48\n",
              "1         800        1     0.0    1.0    64  Botafogo  770000     99.00\n",
              "2         674        1     0.0    1.0    61  Botafogo  600000   9836.07\n",
              "3         700        1     1.0    1.0    70  Botafogo  700000  10000.00\n",
              "4         440        1     0.0    1.0    44  Botafogo  515000  11704.55"
            ]
          },
          "metadata": {
            "tags": []
          },
          "execution_count": 77
        }
      ]
    },
    {
      "cell_type": "code",
      "metadata": {
        "id": "ejEm6OHcII1o",
        "colab_type": "code",
        "colab": {
          "base_uri": "https://localhost:8080/",
          "height": 197
        },
        "outputId": "6ff0b977-b3db-4bed-cae1-8df96c6f7a88"
      },
      "source": [
        "df2.isna()\n",
        "#indica quais valores de um dataframe são tipo NaN e quais não são"
      ],
      "execution_count": 78,
      "outputs": [
        {
          "output_type": "execute_result",
          "data": {
            "text/html": [
              "<div>\n",
              "<style scoped>\n",
              "    .dataframe tbody tr th:only-of-type {\n",
              "        vertical-align: middle;\n",
              "    }\n",
              "\n",
              "    .dataframe tbody tr th {\n",
              "        vertical-align: top;\n",
              "    }\n",
              "\n",
              "    .dataframe thead th {\n",
              "        text-align: right;\n",
              "    }\n",
              "</style>\n",
              "<table border=\"1\" class=\"dataframe\">\n",
              "  <thead>\n",
              "    <tr style=\"text-align: right;\">\n",
              "      <th></th>\n",
              "      <th>condominio</th>\n",
              "      <th>quartos</th>\n",
              "      <th>suites</th>\n",
              "      <th>vagas</th>\n",
              "      <th>area</th>\n",
              "      <th>bairro</th>\n",
              "      <th>preco</th>\n",
              "      <th>pm2</th>\n",
              "    </tr>\n",
              "  </thead>\n",
              "  <tbody>\n",
              "    <tr>\n",
              "      <th>0</th>\n",
              "      <td>False</td>\n",
              "      <td>False</td>\n",
              "      <td>False</td>\n",
              "      <td>False</td>\n",
              "      <td>False</td>\n",
              "      <td>False</td>\n",
              "      <td>False</td>\n",
              "      <td>False</td>\n",
              "    </tr>\n",
              "    <tr>\n",
              "      <th>1</th>\n",
              "      <td>False</td>\n",
              "      <td>False</td>\n",
              "      <td>False</td>\n",
              "      <td>False</td>\n",
              "      <td>False</td>\n",
              "      <td>False</td>\n",
              "      <td>False</td>\n",
              "      <td>True</td>\n",
              "    </tr>\n",
              "    <tr>\n",
              "      <th>2</th>\n",
              "      <td>False</td>\n",
              "      <td>False</td>\n",
              "      <td>False</td>\n",
              "      <td>False</td>\n",
              "      <td>False</td>\n",
              "      <td>False</td>\n",
              "      <td>False</td>\n",
              "      <td>False</td>\n",
              "    </tr>\n",
              "    <tr>\n",
              "      <th>3</th>\n",
              "      <td>False</td>\n",
              "      <td>False</td>\n",
              "      <td>False</td>\n",
              "      <td>False</td>\n",
              "      <td>False</td>\n",
              "      <td>False</td>\n",
              "      <td>False</td>\n",
              "      <td>False</td>\n",
              "    </tr>\n",
              "    <tr>\n",
              "      <th>4</th>\n",
              "      <td>False</td>\n",
              "      <td>False</td>\n",
              "      <td>False</td>\n",
              "      <td>False</td>\n",
              "      <td>False</td>\n",
              "      <td>False</td>\n",
              "      <td>False</td>\n",
              "      <td>False</td>\n",
              "    </tr>\n",
              "  </tbody>\n",
              "</table>\n",
              "</div>"
            ],
            "text/plain": [
              "   condominio  quartos  suites  vagas   area  bairro  preco    pm2\n",
              "0       False    False   False  False  False   False  False  False\n",
              "1       False    False   False  False  False   False  False   True\n",
              "2       False    False   False  False  False   False  False  False\n",
              "3       False    False   False  False  False   False  False  False\n",
              "4       False    False   False  False  False   False  False  False"
            ]
          },
          "metadata": {
            "tags": []
          },
          "execution_count": 78
        }
      ]
    },
    {
      "cell_type": "markdown",
      "metadata": {
        "id": "QMBQliSjJJyM",
        "colab_type": "text"
      },
      "source": [
        "##Visualizando dados"
      ]
    },
    {
      "cell_type": "code",
      "metadata": {
        "id": "qReLUzMfIV6i",
        "colab_type": "code",
        "colab": {
          "base_uri": "https://localhost:8080/",
          "height": 307
        },
        "outputId": "e65e08ff-2e55-4904-df2e-6a016f5af5c7"
      },
      "source": [
        "df['preco'].plot.hist(bins=60, edgecolor='black')\n",
        "#Plota um gráfico de barra, com 60 divisões e borda preta.\n",
        "#O grafico informa no eixo x o preço e em y a frequencia de vezes que o preço apareceu."
      ],
      "execution_count": 79,
      "outputs": [
        {
          "output_type": "execute_result",
          "data": {
            "text/plain": [
              "<matplotlib.axes._subplots.AxesSubplot at 0x7fe2c829fc50>"
            ]
          },
          "metadata": {
            "tags": []
          },
          "execution_count": 79
        },
        {
          "output_type": "display_data",
          "data": {
            "image/png": "[encoded data removed]",
            "text/plain": [
              "<Figure size 432x288 with 1 Axes>"
            ]
          },
          "metadata": {
            "tags": []
          }
        }
      ]
    },
    {
      "cell_type": "code",
      "metadata": {
        "id": "o954Tya7Ih-p",
        "colab_type": "code",
        "colab": {
          "base_uri": "https://localhost:8080/",
          "height": 327
        },
        "outputId": "a71464a0-4b82-4aa0-f0be-931cb18c4d32"
      },
      "source": [
        "df['bairro'].value_counts().plot.bar(y='speed', rot=0, subplots=True)\n",
        "#Fornece um grafico de barra indicando a frequencia em que os barrios aparecem no dataframe"
      ],
      "execution_count": 80,
      "outputs": [
        {
          "output_type": "execute_result",
          "data": {
            "text/plain": [
              "array([<matplotlib.axes._subplots.AxesSubplot object at 0x7fe2c82540b8>],\n",
              "      dtype=object)"
            ]
          },
          "metadata": {
            "tags": []
          },
          "execution_count": 80
        },
        {
          "output_type": "display_data",
          "data": {
            "image/png": "[encoded data removed]",
            "text/plain": [
              "<Figure size 432x288 with 1 Axes>"
            ]
          },
          "metadata": {
            "tags": []
          }
        }
      ]
    },
    {
      "cell_type": "code",
      "metadata": {
        "id": "s0KeLmYNKEsK",
        "colab_type": "code",
        "colab": {
          "base_uri": "https://localhost:8080/",
          "height": 364
        },
        "outputId": "1f8fe041-4dc8-4fe7-f0fc-aa9f6cee0c29"
      },
      "source": [
        "df[\"bairro\"].value_counts().plot.barh(title=\"Número de apartamentos\", colors='purple')\n"
      ],
      "execution_count": 81,
      "outputs": [
        {
          "output_type": "stream",
          "text": [
            "/usr/local/lib/python3.6/dist-packages/pandas/plotting/_core.py:185: UserWarning: 'colors' is being deprecated. Please use 'color'instead of 'colors'\n",
            "  warnings.warn((\"'colors' is being deprecated. Please use 'color'\"\n"
          ],
          "name": "stderr"
        },
        {
          "output_type": "execute_result",
          "data": {
            "text/plain": [
              "<matplotlib.axes._subplots.AxesSubplot at 0x7fe2c8157550>"
            ]
          },
          "metadata": {
            "tags": []
          },
          "execution_count": 81
        },
        {
          "output_type": "display_data",
          "data": {
            "image/png": "[encoded data removed]",
            "text/plain": [
              "<Figure size 432x288 with 1 Axes>"
            ]
          },
          "metadata": {
            "tags": []
          }
        }
      ]
    },
    {
      "cell_type": "code",
      "metadata": {
        "id": "WvwvDtVqK7LP",
        "colab_type": "code",
        "colab": {
          "base_uri": "https://localhost:8080/",
          "height": 311
        },
        "outputId": "5f89606c-f3d0-45df-fd9e-168c53dffd5b"
      },
      "source": [
        "plt.style.use('ggplot') #Estilo do grafico\n",
        "df.plot.scatter(x='preco', y='area', s=.5) # s=.5 trata sobre o tamanho dos plots\n",
        "#Recebe como distribuição os valores do dataframe em preço por area"
      ],
      "execution_count": 82,
      "outputs": [
        {
          "output_type": "execute_result",
          "data": {
            "text/plain": [
              "<matplotlib.axes._subplots.AxesSubplot at 0x7fe2c80d7b38>"
            ]
          },
          "metadata": {
            "tags": []
          },
          "execution_count": 82
        },
        {
          "output_type": "display_data",
          "data": {
            "image/png": "[encoded data removed]",
            "text/plain": [
              "<Figure size 432x288 with 1 Axes>"
            ]
          },
          "metadata": {
            "tags": []
          }
        }
      ]
    },
    {
      "cell_type": "code",
      "metadata": {
        "id": "d7D-YbCaLirY",
        "colab_type": "code",
        "colab": {
          "base_uri": "https://localhost:8080/",
          "height": 281
        },
        "outputId": "8c7a4e23-6d32-4fe6-c257-f370d002679b"
      },
      "source": [
        "df[\"quartos\"].value_counts().plot.pie()\n"
      ],
      "execution_count": 83,
      "outputs": [
        {
          "output_type": "execute_result",
          "data": {
            "text/plain": [
              "<matplotlib.axes._subplots.AxesSubplot at 0x7fe2c8047978>"
            ]
          },
          "metadata": {
            "tags": []
          },
          "execution_count": 83
        },
        {
          "output_type": "display_data",
          "data": {
            "image/png": "[encoded data removed]",
            "text/plain": [
              "<Figure size 432x288 with 1 Axes>"
            ]
          },
          "metadata": {
            "tags": []
          }
        }
      ]
    },
    {
      "cell_type": "code",
      "metadata": {
        "id": "89igU-dYMQFM",
        "colab_type": "code",
        "colab": {}
      },
      "source": [
        "df.to_csv(\"precos.csv\")\n",
        "#salva o datafram tratado em um novo arquivo."
      ],
      "execution_count": 0,
      "outputs": []
    },
    {
      "cell_type": "code",
      "metadata": {
        "id": "DF_82y04M12h",
        "colab_type": "code",
        "colab": {}
      },
      "source": [
        ""
      ],
      "execution_count": 0,
      "outputs": []
    }
  ]
}