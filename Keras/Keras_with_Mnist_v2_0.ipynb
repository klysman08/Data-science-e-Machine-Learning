{
  "nbformat": 4,
  "nbformat_minor": 0,
  "metadata": {
    "colab": {
      "name": "Keras with Mnist v2.0.ipynb",
      "provenance": []
    },
    "kernelspec": {
      "name": "python3",
      "display_name": "Python 3"
    }
  },
  "cells": [
    {
      "cell_type": "markdown",
      "metadata": {
        "id": "VBWqOo9fZkl_",
        "colab_type": "text"
      },
      "source": [
        "##Importando modulos de aprendizado"
      ]
    },
    {
      "cell_type": "code",
      "metadata": {
        "id": "MKzylVkKXFIm",
        "colab_type": "code",
        "colab": {}
      },
      "source": [
        "import keras\n",
        "from keras.datasets import mnist\n",
        "from keras.models import Sequential\n",
        "from keras.layers import Dense, Dropout, Flatten\n",
        "from keras.layers import Conv2D, MaxPooling2D\n",
        "import numpy as np\n",
        "\n",
        "import tensorflow.compat.v1 as tf\n",
        "tf.disable_v2_behavior()"
      ],
      "execution_count": 0,
      "outputs": []
    },
    {
      "cell_type": "markdown",
      "metadata": {
        "id": "MeBiyV-OZd22",
        "colab_type": "text"
      },
      "source": [
        "##Tratando os dados\n",
        "Remodelamos x_train e x_test porque nossa CNN aceita apenas um vetor quadridimensional. O valor 60000 representa o número de imagens nos dados de treinamento, 28 representa o tamanho da imagem e 1 representa o número de canais. O número de canais é definido como 1 se a imagem estiver em escala de cinza e se a imagem estiver no formato RGB, o número de canais estiver definido como 3."
      ]
    },
    {
      "cell_type": "code",
      "metadata": {
        "id": "m4xstb4DYZJj",
        "colab_type": "code",
        "colab": {
          "base_uri": "https://localhost:8080/",
          "height": 106
        },
        "outputId": "f4737480-62a5-4795-8b46-f66f0f567444"
      },
      "source": [
        "batch_size = 128\n",
        "num_classes = 10\n",
        "epochs = 12\n",
        "\n",
        "# dimensoes das imagens\n",
        "img_rows, img_cols = 28, 28\n",
        "\n",
        "# dividindo o dataset em treino e teste\n",
        "(x_train, y_train), (x_test, y_test) = mnist.load_data()\n",
        "\n",
        "x_train = x_train.reshape(60000,28,28,1)\n",
        "x_test = x_test.reshape(10000,28,28,1)\n",
        "\n",
        "print('x_train shape:', x_train.shape)\n",
        "print(x_train.shape[0], 'train samples')\n",
        "print(x_test.shape[0], 'test samples')\n",
        "\n",
        "# Também convertemos nossos valores de destino em matrizes de classe binária.\n",
        "    #Y = 2 # o valor 2 representa que a imagem possui o dígito 2 \n",
        "    #Y = [0,0,1,0,0,0,0,0,0,0] # A segunda posição do vetor é feita 1 \n",
        "\n",
        "y_train = keras.utils.to_categorical(y_train, num_classes)\n",
        "y_test = keras.utils.to_categorical(y_test, num_classes)"
      ],
      "execution_count": 4,
      "outputs": [
        {
          "output_type": "stream",
          "text": [
            "Downloading data from https://s3.amazonaws.com/img-datasets/mnist.npz\n",
            "11493376/11490434 [==============================] - 0s 0us/step\n",
            "x_train shape: (60000, 28, 28, 1)\n",
            "60000 train samples\n",
            "10000 test samples\n"
          ],
          "name": "stdout"
        }
      ]
    },
    {
      "cell_type": "markdown",
      "metadata": {
        "id": "Ji1fLenDbgyA",
        "colab_type": "text"
      },
      "source": [
        "#Criando a CNN"
      ]
    },
    {
      "cell_type": "code",
      "metadata": {
        "id": "n19hw7e6Yi7e",
        "colab_type": "code",
        "colab": {
          "base_uri": "https://localhost:8080/",
          "height": 268
        },
        "outputId": "9ada3485-9dda-43f2-ba0a-3b95c6c9973d"
      },
      "source": [
        "model = Sequential()\n",
        "\n",
        "model.add(Conv2D(32, kernel_size=(3, 3),\n",
        "                 activation='relu',\n",
        "                 input_shape=(28,28,1)))\n",
        "\n",
        "model.add(Conv2D(64, (3, 3), activation='relu'))\n",
        "model.add(MaxPooling2D(pool_size=(2, 2)))\n",
        "\n",
        "model.add(Dropout(0.25)) # Desativa aleatoriamente alguns neurônios da rede, o que força os dados a encontrar novos caminhos. \n",
        "                         # Isso reduz o super ajuste\n",
        "\n",
        "model.add(Flatten())\n",
        "model.add(Dense(128, activation='relu'))\n",
        "model.add(Dropout(0.5))\n",
        "\n",
        "\n",
        "model.add(Dense(num_classes, activation='softmax'))  # Camadas que são usadas para a previsão de classe (0–9)."
      ],
      "execution_count": 5,
      "outputs": [
        {
          "output_type": "stream",
          "text": [
            "WARNING:tensorflow:From /usr/local/lib/python3.6/dist-packages/keras/backend/tensorflow_backend.py:66: The name tf.get_default_graph is deprecated. Please use tf.compat.v1.get_default_graph instead.\n",
            "\n",
            "WARNING:tensorflow:From /usr/local/lib/python3.6/dist-packages/keras/backend/tensorflow_backend.py:541: The name tf.placeholder is deprecated. Please use tf.compat.v1.placeholder instead.\n",
            "\n",
            "WARNING:tensorflow:From /usr/local/lib/python3.6/dist-packages/keras/backend/tensorflow_backend.py:4432: The name tf.random_uniform is deprecated. Please use tf.random.uniform instead.\n",
            "\n",
            "WARNING:tensorflow:From /usr/local/lib/python3.6/dist-packages/keras/backend/tensorflow_backend.py:4267: The name tf.nn.max_pool is deprecated. Please use tf.nn.max_pool2d instead.\n",
            "\n",
            "WARNING:tensorflow:From /usr/local/lib/python3.6/dist-packages/keras/backend/tensorflow_backend.py:148: The name tf.placeholder_with_default is deprecated. Please use tf.compat.v1.placeholder_with_default instead.\n",
            "\n",
            "WARNING:tensorflow:From /usr/local/lib/python3.6/dist-packages/keras/backend/tensorflow_backend.py:3733: calling dropout (from tensorflow.python.ops.nn_ops) with keep_prob is deprecated and will be removed in a future version.\n",
            "Instructions for updating:\n",
            "Please use `rate` instead of `keep_prob`. Rate should be set to `rate = 1 - keep_prob`.\n"
          ],
          "name": "stdout"
        }
      ]
    },
    {
      "cell_type": "markdown",
      "metadata": {
        "id": "fY-Zbf2Pbsy1",
        "colab_type": "text"
      },
      "source": [
        "#Treinando o modelo Sequencial do Keras"
      ]
    },
    {
      "cell_type": "code",
      "metadata": {
        "id": "HzWYGLDZbLLQ",
        "colab_type": "code",
        "colab": {}
      },
      "source": [
        "# compilamos o modelo com uma função de perda de entropia cruzada categórica, otimizador Adadelta e uma métrica de precisão. \n",
        "model.compile(loss=keras.losses.categorical_crossentropy,\n",
        "              optimizer=keras.optimizers.Adadelta(),\n",
        "              metrics=['accuracy'])  \n",
        "\n",
        "# ajustamos o conjunto de dados ao modelo, ou seja, treinamos o modelo por 12 épocas.\n",
        "model.fit(x_train, y_train,\n",
        "          batch_size=batch_size,\n",
        "          epochs=epochs,\n",
        "          verbose=1,\n",
        "          validation_data=(x_test, y_test))\n",
        "\n",
        "\n",
        "# avaliamos a perda e a precisão do modelo nos dados de teste e os imprimimos.\n",
        "score = model.evaluate(x_test, y_test, verbose=0)\n",
        "print('Test loss:', score[0])\n",
        "print('Test accuracy:', score[1])"
      ],
      "execution_count": 0,
      "outputs": []
    },
    {
      "cell_type": "markdown",
      "metadata": {
        "id": "HJ-2-Nw1eAsR",
        "colab_type": "text"
      },
      "source": [
        "#Resumo da rede"
      ]
    },
    {
      "cell_type": "code",
      "metadata": {
        "id": "6ijxY1lEcQLM",
        "colab_type": "code",
        "colab": {
          "base_uri": "https://localhost:8080/",
          "height": 444
        },
        "outputId": "0a5facae-acf0-4268-e29c-608fe9b4eb1c"
      },
      "source": [
        "model.summary()"
      ],
      "execution_count": 7,
      "outputs": [
        {
          "output_type": "stream",
          "text": [
            "Model: \"sequential_1\"\n",
            "_________________________________________________________________\n",
            "Layer (type)                 Output Shape              Param #   \n",
            "=================================================================\n",
            "conv2d_1 (Conv2D)            (None, 26, 26, 32)        320       \n",
            "_________________________________________________________________\n",
            "conv2d_2 (Conv2D)            (None, 24, 24, 64)        18496     \n",
            "_________________________________________________________________\n",
            "max_pooling2d_1 (MaxPooling2 (None, 12, 12, 64)        0         \n",
            "_________________________________________________________________\n",
            "dropout_1 (Dropout)          (None, 12, 12, 64)        0         \n",
            "_________________________________________________________________\n",
            "flatten_1 (Flatten)          (None, 9216)              0         \n",
            "_________________________________________________________________\n",
            "dense_1 (Dense)              (None, 128)               1179776   \n",
            "_________________________________________________________________\n",
            "dropout_2 (Dropout)          (None, 128)               0         \n",
            "_________________________________________________________________\n",
            "dense_2 (Dense)              (None, 10)                1290      \n",
            "=================================================================\n",
            "Total params: 1,199,882\n",
            "Trainable params: 1,199,882\n",
            "Non-trainable params: 0\n",
            "_________________________________________________________________\n"
          ],
          "name": "stdout"
        }
      ]
    },
    {
      "cell_type": "code",
      "metadata": {
        "id": "TB_MfL7Od8kO",
        "colab_type": "code",
        "colab": {
          "base_uri": "https://localhost:8080/",
          "height": 248
        },
        "outputId": "17bf6d51-1413-40f4-d741-f89f870bdf7f"
      },
      "source": [
        "(model.predict(x_test[222:]))"
      ],
      "execution_count": 10,
      "outputs": [
        {
          "output_type": "execute_result",
          "data": {
            "text/plain": [
              "array([[7.5813754e-05, 5.2623868e-06, 9.8850274e-01, ..., 4.1897845e-05,\n",
              "        1.1158529e-02, 8.7776361e-06],\n",
              "       [2.2351698e-10, 3.1596233e-11, 3.5759186e-08, ..., 9.9999905e-01,\n",
              "        2.0102491e-11, 9.4228773e-07],\n",
              "       [2.6035488e-08, 9.9999702e-01, 1.9847278e-06, ..., 1.6533144e-07,\n",
              "        3.9175699e-08, 7.2510858e-10],\n",
              "       ...,\n",
              "       [6.3612073e-14, 1.6166879e-10, 8.5212881e-13, ..., 1.7250971e-09,\n",
              "        2.1646522e-09, 1.9578566e-07],\n",
              "       [6.1998076e-06, 7.4839992e-09, 4.3393804e-08, ..., 2.7762976e-08,\n",
              "        7.3102987e-05, 1.3201939e-08],\n",
              "       [1.1218156e-07, 8.5264116e-09, 2.5356441e-09, ..., 1.3058881e-12,\n",
              "        1.7064241e-09, 1.5097995e-09]], dtype=float32)"
            ]
          },
          "metadata": {
            "tags": []
          },
          "execution_count": 10
        }
      ]
    },
    {
      "cell_type": "code",
      "metadata": {
        "id": "_L99uou1eHpw",
        "colab_type": "code",
        "colab": {}
      },
      "source": [
        ""
      ],
      "execution_count": 0,
      "outputs": []
    },
    {
      "cell_type": "code",
      "metadata": {
        "id": "Q0TT4KVGetj-",
        "colab_type": "code",
        "colab": {}
      },
      "source": [
        ""
      ],
      "execution_count": 0,
      "outputs": []
    }
  ]
}