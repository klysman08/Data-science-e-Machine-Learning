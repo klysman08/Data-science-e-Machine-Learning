{
 "cells": [
  {
   "cell_type": "markdown",
   "metadata": {
    "colab_type": "text",
    "id": "DO-6EsLDvNE1"
   },
   "source": [
    "# Trabalhando com texto para Machine Learning "
   ]
  },
  {
   "cell_type": "markdown",
   "metadata": {
    "colab_type": "text",
    "id": "5lVxFqGVvKj8"
   },
   "source": [
    "http://scikit-learn.org/stable/tutorial/text_analytics/working_with_text_data.html\n",
    "\n",
    "\n",
    "---\n",
    "\n"
   ]
  },
  {
   "cell_type": "code",
   "execution_count": 1,
   "metadata": {
    "collapsed": true
   },
   "outputs": [],
   "source": [
    "import numpy as np"
   ]
  },
  {
   "cell_type": "markdown",
   "metadata": {},
   "source": [
    "## Carregando Dataset\n",
    "“Twenty Newsgroups”: a collection of approximately 20,000 newsgroup documents, partitioned (nearly) evenly across 20 different newsgroups."
   ]
  },
  {
   "cell_type": "code",
   "execution_count": 2,
   "metadata": {
    "colab": {
     "autoexec": {
      "startup": false,
      "wait_interval": 0
     },
     "base_uri": "https://localhost:8080/",
     "height": 85
    },
    "colab_type": "code",
    "collapsed": false,
    "executionInfo": {
     "elapsed": 938,
     "status": "ok",
     "timestamp": 1532057636169,
     "user": {
      "displayName": "Camila Laranjeira",
      "photoUrl": "//lh4.googleusercontent.com/-VCZ9CIUzSwU/AAAAAAAAAAI/AAAAAAAAAnw/lzQoMBlXd4s/s50-c-k-no/photo.jpg",
      "userId": "115568868122605145179"
     },
     "user_tz": 180
    },
    "id": "qzqP4jmRvB7S",
    "outputId": "bed3b188-7bf8-462b-d748-0720a91ccf94"
   },
   "outputs": [
    {
     "name": "stdout",
     "output_type": "stream",
     "text": [
      "From: sd345@city.ac.uk (Michael Collier)\n",
      "Subject: Converting images to HP LaserJet III?\n",
      "Nntp-Posting-Host: hampton\n",
      "('Category name:', 'comp.graphics')\n"
     ]
    }
   ],
   "source": [
    "categories = ['alt.atheism', 'soc.religion.christian',\n",
    "              'comp.graphics', 'sci.med']\n",
    "\n",
    "from sklearn.datasets import fetch_20newsgroups\n",
    "twenty_train = fetch_20newsgroups(subset='train', categories=categories, shuffle=True, random_state=42)\n",
    "\n",
    "print(\"\\n\".join(twenty_train.data[0].split(\"\\n\")[:3]))\n",
    "print(\"Category name:\", twenty_train.target_names[twenty_train.target[0]])"
   ]
  },
  {
   "cell_type": "code",
   "execution_count": 3,
   "metadata": {
    "colab": {
     "autoexec": {
      "startup": false,
      "wait_interval": 0
     },
     "base_uri": "https://localhost:8080/",
     "height": 51
    },
    "colab_type": "code",
    "collapsed": false,
    "executionInfo": {
     "elapsed": 683,
     "status": "ok",
     "timestamp": 1532058008109,
     "user": {
      "displayName": "Camila Laranjeira",
      "photoUrl": "//lh4.googleusercontent.com/-VCZ9CIUzSwU/AAAAAAAAAAI/AAAAAAAAAnw/lzQoMBlXd4s/s50-c-k-no/photo.jpg",
      "userId": "115568868122605145179"
     },
     "user_tz": 180
    },
    "id": "-NR-RKj9v2-8",
    "outputId": "977f672c-f343-4d33-8a41-bffae8bcfd57"
   },
   "outputs": [
    {
     "name": "stdout",
     "output_type": "stream",
     "text": [
      "[1 1 3 3 3 3 3 2 2 2 3 1 0 0 1 1 2 0 3 0]\n",
      "2257\n"
     ]
    }
   ],
   "source": [
    "print(twenty_train.target[:20])\n",
    "print(len(twenty_train.data))"
   ]
  },
  {
   "cell_type": "code",
   "execution_count": 4,
   "metadata": {
    "collapsed": false
   },
   "outputs": [
    {
     "name": "stdout",
     "output_type": "stream",
     "text": [
      "From: anasaz!karl@anasazi.com (Karl Dussik)\n",
      "Subject: Re: Is \"Christian\" a dirty word?\n",
      "Organization: Anasazi Inc Phx Az USA\n",
      "Lines: 73\n",
      "\n",
      "In article <Mar.25.03.53.08.1993.24855@athos.rutgers.edu> @usceast.cs.scarolina.edu:moss@cs.scarolina.edu (James Moss) writes:\n",
      ">I was brought up christian, but I am not christian any longer.\n",
      ">I also have a bad taste in my mouth over christianity.  I (in\n",
      ">my own faith) accept and live my life by many if not most of the\n",
      ">teachings of christ, but I cannot let myself be called a christian,\n",
      ">beacuse to me too many things are done on the name of christianity,\n",
      ">that I can not be associated with.  \n",
      "\n",
      "A question for you - can you give me the name of an organization or a\n",
      "philosophy or a political movement, etc., which has never had anything\n",
      "evil done in its name?  You're missing a central teaching of Christianity -\n",
      "man is inherently sinful.  We are saved through faith by grace.  Knowing\n",
      "that, believing that, does not make us without sin.  Furthermore, not all\n",
      "who consider themselves \"christians\" are (even those who manage to head\n",
      "their own \"churches\").  \"Not everyone who says to me, 'Lord, Lord,' will\n"
     ]
    }
   ],
   "source": [
    "print(\"\\n\".join(twenty_train.data[10].split(\"\\n\")[:20]))"
   ]
  },
  {
   "cell_type": "markdown",
   "metadata": {},
   "source": [
    "## Tokenização e filtragem de *stop words*"
   ]
  },
  {
   "cell_type": "code",
   "execution_count": 5,
   "metadata": {
    "colab": {
     "autoexec": {
      "startup": false,
      "wait_interval": 0
     },
     "base_uri": "https://localhost:8080/",
     "height": 34
    },
    "colab_type": "code",
    "collapsed": false,
    "executionInfo": {
     "elapsed": 1473,
     "status": "ok",
     "timestamp": 1532057951270,
     "user": {
      "displayName": "Camila Laranjeira",
      "photoUrl": "//lh4.googleusercontent.com/-VCZ9CIUzSwU/AAAAAAAAAAI/AAAAAAAAAnw/lzQoMBlXd4s/s50-c-k-no/photo.jpg",
      "userId": "115568868122605145179"
     },
     "user_tz": 180
    },
    "id": "SLbSxBegwCdo",
    "outputId": "fbbf6a69-a967-49e9-997f-7a64a61c2487"
   },
   "outputs": [
    {
     "data": {
      "text/plain": [
       "(2257, 30000)"
      ]
     },
     "execution_count": 5,
     "metadata": {},
     "output_type": "execute_result"
    }
   ],
   "source": [
    "from sklearn.feature_extraction.text import CountVectorizer\n",
    "count_vect = CountVectorizer(max_features=30000)\n",
    "X_train_counts = count_vect.fit_transform(twenty_train.data)\n",
    "X_train_counts.shape"
   ]
  },
  {
   "cell_type": "code",
   "execution_count": 6,
   "metadata": {
    "colab": {
     "autoexec": {
      "startup": false,
      "wait_interval": 0
     },
     "base_uri": "https://localhost:8080/",
     "height": 34
    },
    "colab_type": "code",
    "collapsed": false,
    "executionInfo": {
     "elapsed": 611,
     "status": "ok",
     "timestamp": 1532058092428,
     "user": {
      "displayName": "Camila Laranjeira",
      "photoUrl": "//lh4.googleusercontent.com/-VCZ9CIUzSwU/AAAAAAAAAAI/AAAAAAAAAnw/lzQoMBlXd4s/s50-c-k-no/photo.jpg",
      "userId": "115568868122605145179"
     },
     "user_tz": 180
    },
    "id": "2IvEoMzKxRYb",
    "outputId": "8475052f-eb60-4787-858f-3b64b8be474b"
   },
   "outputs": [
    {
     "name": "stdout",
     "output_type": "stream",
     "text": [
      "4185\n"
     ]
    }
   ],
   "source": [
    "print count_vect.vocabulary_.get(u'algorithm')"
   ]
  },
  {
   "cell_type": "code",
   "execution_count": 7,
   "metadata": {
    "collapsed": false
   },
   "outputs": [
    {
     "name": "stdout",
     "output_type": "stream",
     "text": [
      "5788\n",
      "[u'hintze_matthew', u'narcotic', u'jihad', u'pantheistic', u'pigged', u'eligible', u'electricity', u'milchstrasse_', u'fingernails', u'lore']\n"
     ]
    }
   ],
   "source": [
    "print len(count_vect.stop_words_)\n",
    "print list(count_vect.stop_words_)[0:10]"
   ]
  },
  {
   "cell_type": "markdown",
   "metadata": {},
   "source": [
    "## Term Frequencies (TF)"
   ]
  },
  {
   "cell_type": "code",
   "execution_count": 8,
   "metadata": {
    "colab": {
     "autoexec": {
      "startup": false,
      "wait_interval": 0
     },
     "base_uri": "https://localhost:8080/",
     "height": 34
    },
    "colab_type": "code",
    "collapsed": false,
    "executionInfo": {
     "elapsed": 691,
     "status": "ok",
     "timestamp": 1532058120547,
     "user": {
      "displayName": "Camila Laranjeira",
      "photoUrl": "//lh4.googleusercontent.com/-VCZ9CIUzSwU/AAAAAAAAAAI/AAAAAAAAAnw/lzQoMBlXd4s/s50-c-k-no/photo.jpg",
      "userId": "115568868122605145179"
     },
     "user_tz": 180
    },
    "id": "2Farn2lcx0DS",
    "outputId": "1625538b-c05d-45fd-b069-51a065b84808"
   },
   "outputs": [
    {
     "data": {
      "text/plain": [
       "(2257, 30000)"
      ]
     },
     "execution_count": 8,
     "metadata": {},
     "output_type": "execute_result"
    }
   ],
   "source": [
    "from sklearn.feature_extraction.text import TfidfTransformer\n",
    "tf_transformer = TfidfTransformer(use_idf=False).fit(X_train_counts)\n",
    "X_train_tf = tf_transformer.transform(X_train_counts)\n",
    "X_train_tf.shape"
   ]
  },
  {
   "cell_type": "code",
   "execution_count": 9,
   "metadata": {
    "collapsed": false
   },
   "outputs": [
    {
     "name": "stdout",
     "output_type": "stream",
     "text": [
      "[ 0.0758098   0.0758098   0.0758098   0.0758098   0.0758098   0.15161961\n",
      "  0.15161961  0.0758098   0.0758098   0.0758098 ]\n"
     ]
    }
   ],
   "source": [
    "print X_train_tf.data[0:10]"
   ]
  },
  {
   "cell_type": "markdown",
   "metadata": {},
   "source": [
    "## Term Frequencies times Inverse Document Frequencies"
   ]
  },
  {
   "cell_type": "code",
   "execution_count": 10,
   "metadata": {
    "colab": {
     "autoexec": {
      "startup": false,
      "wait_interval": 0
     },
     "base_uri": "https://localhost:8080/",
     "height": 34
    },
    "colab_type": "code",
    "collapsed": false,
    "executionInfo": {
     "elapsed": 613,
     "status": "ok",
     "timestamp": 1532058155251,
     "user": {
      "displayName": "Camila Laranjeira",
      "photoUrl": "//lh4.googleusercontent.com/-VCZ9CIUzSwU/AAAAAAAAAAI/AAAAAAAAAnw/lzQoMBlXd4s/s50-c-k-no/photo.jpg",
      "userId": "115568868122605145179"
     },
     "user_tz": 180
    },
    "id": "1cjTxWeyx65g",
    "outputId": "dc8e815a-38b9-4f5c-afd7-9b86849a1023"
   },
   "outputs": [
    {
     "data": {
      "text/plain": [
       "(2257, 30000)"
      ]
     },
     "execution_count": 10,
     "metadata": {},
     "output_type": "execute_result"
    }
   ],
   "source": [
    "tfidf_transformer = TfidfTransformer()\n",
    "X_train_tfidf = tfidf_transformer.fit_transform(X_train_counts)\n",
    "X_train_tfidf.shape"
   ]
  },
  {
   "cell_type": "code",
   "execution_count": 11,
   "metadata": {
    "collapsed": false
   },
   "outputs": [
    {
     "name": "stdout",
     "output_type": "stream",
     "text": [
      "[ 0.01711196  0.13739342  0.32028     0.1272544   0.12040755  0.19989786\n",
      "  0.39136536  0.01711196  0.21970557  0.07583636]\n"
     ]
    }
   ],
   "source": [
    "print X_train_tfidf.data[0:10]"
   ]
  },
  {
   "cell_type": "markdown",
   "metadata": {},
   "source": [
    "## Treinando um classificador"
   ]
  },
  {
   "cell_type": "code",
   "execution_count": 12,
   "metadata": {
    "colab": {
     "autoexec": {
      "startup": false,
      "wait_interval": 0
     }
    },
    "colab_type": "code",
    "collapsed": true,
    "id": "YQ44O6ewyDY5"
   },
   "outputs": [],
   "source": [
    "from sklearn.naive_bayes import MultinomialNB\n",
    "clf = MultinomialNB().fit(X_train_tfidf, twenty_train.target)"
   ]
  },
  {
   "cell_type": "code",
   "execution_count": 13,
   "metadata": {
    "colab": {
     "autoexec": {
      "startup": false,
      "wait_interval": 0
     },
     "base_uri": "https://localhost:8080/",
     "height": 51
    },
    "colab_type": "code",
    "collapsed": false,
    "executionInfo": {
     "elapsed": 654,
     "status": "ok",
     "timestamp": 1532058197334,
     "user": {
      "displayName": "Camila Laranjeira",
      "photoUrl": "//lh4.googleusercontent.com/-VCZ9CIUzSwU/AAAAAAAAAAI/AAAAAAAAAnw/lzQoMBlXd4s/s50-c-k-no/photo.jpg",
      "userId": "115568868122605145179"
     },
     "user_tz": 180
    },
    "id": "YczAtn55yHsb",
    "outputId": "fc4833f1-266c-497c-9930-630b3c3c3bc4"
   },
   "outputs": [
    {
     "name": "stdout",
     "output_type": "stream",
     "text": [
      "'God is love' => soc.religion.christian\n",
      "'OpenGL on the GPU is fast' => comp.graphics\n"
     ]
    }
   ],
   "source": [
    "docs_new = ['God is love', 'OpenGL on the GPU is fast']\n",
    "X_new_counts = count_vect.transform(docs_new)\n",
    "X_new_tfidf = tfidf_transformer.transform(X_new_counts)\n",
    "\n",
    "predicted = clf.predict(X_new_tfidf)\n",
    "\n",
    "for doc, category in zip(docs_new, predicted):\n",
    "    print('%r => %s' % (doc, twenty_train.target_names[category]))"
   ]
  },
  {
   "cell_type": "markdown",
   "metadata": {},
   "source": [
    "## Entendendo os dados"
   ]
  },
  {
   "cell_type": "code",
   "execution_count": 14,
   "metadata": {
    "collapsed": false
   },
   "outputs": [
    {
     "name": "stdout",
     "output_type": "stream",
     "text": [
      "  (0, 13578)\t1\n",
      "  (0, 15370)\t1\n",
      "  (0, 16597)\t1\n",
      "  (1, 12691)\t1\n",
      "  (1, 15370)\t1\n",
      "  (1, 18574)\t1\n",
      "  (1, 18604)\t1\n",
      "  (1, 26356)\t1\n",
      "[0.80940105623895797, 0.25589426468464183, 0.52857171269447023, 0.12120651309423221, 0.81675122738700046, 0.17466136107219979, 0.1364782900331992, 0.51874222793540381]\n"
     ]
    }
   ],
   "source": [
    "print X_new_counts\n",
    "print list(X_new_tfidf.data)"
   ]
  },
  {
   "cell_type": "code",
   "execution_count": 15,
   "metadata": {
    "collapsed": false
   },
   "outputs": [
    {
     "name": "stdout",
     "output_type": "stream",
     "text": [
      "god: 13578\n",
      "love: 16597\n",
      "OpenGL: None\n",
      "opengl: 18604\n"
     ]
    }
   ],
   "source": [
    "print 'god:', count_vect.vocabulary_.get(u'god')\n",
    "print 'love:', count_vect.vocabulary_.get(u'love')\n",
    "print 'OpenGL:', count_vect.vocabulary_.get(u'OpenGL') \n",
    "print 'opengl:', count_vect.vocabulary_.get(u'opengl') "
   ]
  },
  {
   "cell_type": "code",
   "execution_count": 16,
   "metadata": {
    "collapsed": false
   },
   "outputs": [
    {
     "name": "stdout",
     "output_type": "stream",
     "text": [
      "gpu: None\n",
      "gpu in stop words? True\n"
     ]
    }
   ],
   "source": [
    "print 'gpu:', count_vect.vocabulary_.get(u'gpu') \n",
    "print 'gpu in stop words?', 'gpu' in count_vect.stop_words_"
   ]
  },
  {
   "cell_type": "markdown",
   "metadata": {},
   "source": [
    "## Construindo um *Pipeline*"
   ]
  },
  {
   "cell_type": "code",
   "execution_count": 17,
   "metadata": {
    "colab": {
     "autoexec": {
      "startup": false,
      "wait_interval": 0
     }
    },
    "colab_type": "code",
    "collapsed": true,
    "id": "-vrtgxOIycfb"
   },
   "outputs": [],
   "source": [
    "from sklearn.pipeline import Pipeline\n",
    "text_clf = Pipeline([('vect', CountVectorizer()),\n",
    "                     ('tfidf', TfidfTransformer()),\n",
    "                     ('clf', MultinomialNB()),\n",
    "])"
   ]
  },
  {
   "cell_type": "code",
   "execution_count": 18,
   "metadata": {
    "colab": {
     "autoexec": {
      "startup": false,
      "wait_interval": 0
     },
     "base_uri": "https://localhost:8080/",
     "height": 136
    },
    "colab_type": "code",
    "collapsed": false,
    "executionInfo": {
     "elapsed": 1301,
     "status": "ok",
     "timestamp": 1532058280532,
     "user": {
      "displayName": "Camila Laranjeira",
      "photoUrl": "//lh4.googleusercontent.com/-VCZ9CIUzSwU/AAAAAAAAAAI/AAAAAAAAAnw/lzQoMBlXd4s/s50-c-k-no/photo.jpg",
      "userId": "115568868122605145179"
     },
     "user_tz": 180
    },
    "id": "BCCG-a2XyhYZ",
    "outputId": "920a0073-7d23-410d-9f60-4b07bb2f192e"
   },
   "outputs": [
    {
     "data": {
      "text/plain": [
       "Pipeline(memory=None,\n",
       "     steps=[('vect', CountVectorizer(analyzer=u'word', binary=False, decode_error=u'strict',\n",
       "        dtype=<type 'numpy.int64'>, encoding=u'utf-8', input=u'content',\n",
       "        lowercase=True, max_df=1.0, max_features=None, min_df=1,\n",
       "        ngram_range=(1, 1), preprocessor=None, stop_words=None,\n",
       "        st...False,\n",
       "         use_idf=True)), ('clf', MultinomialNB(alpha=1.0, class_prior=None, fit_prior=True))])"
      ]
     },
     "execution_count": 18,
     "metadata": {},
     "output_type": "execute_result"
    }
   ],
   "source": [
    "text_clf.fit(twenty_train.data, twenty_train.target)"
   ]
  },
  {
   "cell_type": "markdown",
   "metadata": {},
   "source": [
    "## Testando classificador"
   ]
  },
  {
   "cell_type": "code",
   "execution_count": 19,
   "metadata": {
    "colab": {
     "autoexec": {
      "startup": false,
      "wait_interval": 0
     },
     "base_uri": "https://localhost:8080/",
     "height": 34
    },
    "colab_type": "code",
    "collapsed": false,
    "executionInfo": {
     "elapsed": 1791,
     "status": "ok",
     "timestamp": 1532058284096,
     "user": {
      "displayName": "Camila Laranjeira",
      "photoUrl": "//lh4.googleusercontent.com/-VCZ9CIUzSwU/AAAAAAAAAAI/AAAAAAAAAnw/lzQoMBlXd4s/s50-c-k-no/photo.jpg",
      "userId": "115568868122605145179"
     },
     "user_tz": 180
    },
    "id": "q_X3jCO7yNpv",
    "outputId": "b68ec831-432d-49dc-c369-bdc87889cce4"
   },
   "outputs": [
    {
     "data": {
      "text/plain": [
       "0.83488681757656458"
      ]
     },
     "execution_count": 19,
     "metadata": {},
     "output_type": "execute_result"
    }
   ],
   "source": [
    "import numpy as np\n",
    "twenty_test = fetch_20newsgroups(subset='test',\n",
    "    categories=categories, shuffle=True, random_state=42)\n",
    "docs_test = twenty_test.data\n",
    "predicted = text_clf.predict(docs_test)\n",
    "np.mean(predicted == twenty_test.target) "
   ]
  },
  {
   "cell_type": "code",
   "execution_count": 20,
   "metadata": {
    "colab": {
     "autoexec": {
      "startup": false,
      "wait_interval": 0
     },
     "base_uri": "https://localhost:8080/",
     "height": 170
    },
    "colab_type": "code",
    "collapsed": false,
    "executionInfo": {
     "elapsed": 827,
     "status": "ok",
     "timestamp": 1532058314787,
     "user": {
      "displayName": "Camila Laranjeira",
      "photoUrl": "//lh4.googleusercontent.com/-VCZ9CIUzSwU/AAAAAAAAAAI/AAAAAAAAAnw/lzQoMBlXd4s/s50-c-k-no/photo.jpg",
      "userId": "115568868122605145179"
     },
     "user_tz": 180
    },
    "id": "5jxaFr5SyYef",
    "outputId": "f4dd890a-1b97-4f5b-eb0d-e57940602660"
   },
   "outputs": [
    {
     "name": "stdout",
     "output_type": "stream",
     "text": [
      "                        precision    recall  f1-score   support\n",
      "\n",
      "           alt.atheism       0.97      0.60      0.74       319\n",
      "         comp.graphics       0.96      0.89      0.92       389\n",
      "               sci.med       0.97      0.81      0.88       396\n",
      "soc.religion.christian       0.65      0.99      0.78       398\n",
      "\n",
      "           avg / total       0.88      0.83      0.84      1502\n",
      "\n"
     ]
    }
   ],
   "source": [
    "from sklearn import metrics\n",
    "print(metrics.classification_report(twenty_test.target, predicted,\n",
    "    target_names=twenty_test.target_names))"
   ]
  },
  {
   "cell_type": "code",
   "execution_count": 21,
   "metadata": {
    "colab": {
     "autoexec": {
      "startup": false,
      "wait_interval": 0
     }
    },
    "colab_type": "code",
    "collapsed": true,
    "id": "hDGFe8rSyqSh"
   },
   "outputs": [],
   "source": [
    "cm = metrics.confusion_matrix(twenty_test.target, predicted)"
   ]
  },
  {
   "cell_type": "code",
   "execution_count": 22,
   "metadata": {
    "colab": {
     "autoexec": {
      "startup": false,
      "wait_interval": 0
     },
     "base_uri": "https://localhost:8080/",
     "height": 85
    },
    "colab_type": "code",
    "collapsed": false,
    "executionInfo": {
     "elapsed": 682,
     "status": "ok",
     "timestamp": 1532058561879,
     "user": {
      "displayName": "Camila Laranjeira",
      "photoUrl": "//lh4.googleusercontent.com/-VCZ9CIUzSwU/AAAAAAAAAAI/AAAAAAAAAnw/lzQoMBlXd4s/s50-c-k-no/photo.jpg",
      "userId": "115568868122605145179"
     },
     "user_tz": 180
    },
    "id": "g1rXfEMyzcAe",
    "outputId": "d76fb409-5086-423a-f195-f03e240c4998"
   },
   "outputs": [
    {
     "data": {
      "text/plain": [
       "array([[192,   2,   6, 119],\n",
       "       [  2, 347,   4,  36],\n",
       "       [  2,  11, 322,  61],\n",
       "       [  2,   2,   1, 393]])"
      ]
     },
     "execution_count": 22,
     "metadata": {},
     "output_type": "execute_result"
    }
   ],
   "source": [
    "cm"
   ]
  },
  {
   "cell_type": "code",
   "execution_count": 23,
   "metadata": {
    "collapsed": false
   },
   "outputs": [
    {
     "data": {
      "text/plain": [
       "([<matplotlib.axis.YTick at 0x7fa5c40e5710>,\n",
       "  <matplotlib.axis.YTick at 0x7fa5c40e5b10>,\n",
       "  <matplotlib.axis.YTick at 0x7fa5c4083810>,\n",
       "  <matplotlib.axis.YTick at 0x7fa5c4092410>],\n",
       " <a list of 4 Text yticklabel objects>)"
      ]
     },
     "execution_count": 23,
     "metadata": {},
     "output_type": "execute_result"
    },
    {
     "data": {
      "image/png": "[encoded data removed]",
      "text/plain": [
       "<matplotlib.figure.Figure at 0x7fa5ca0d3390>"
      ]
     },
     "metadata": {},
     "output_type": "display_data"
    }
   ],
   "source": [
    "import matplotlib.pyplot as plt\n",
    "%matplotlib inline\n",
    "\n",
    "cm = cm.astype('float') / cm.sum(axis=1)[:, np.newaxis]\n",
    "plt.imshow(cm)\n",
    "plt.colorbar()\n",
    "\n",
    "classes = [twenty_train.target_names[t] for t in np.unique(twenty_test.target)]\n",
    "\n",
    "plt.xticks(np.arange(len(classes)), classes, rotation=45)\n",
    "plt.yticks(np.arange(len(classes)), classes)"
   ]
  },
  {
   "cell_type": "code",
   "execution_count": null,
   "metadata": {
    "collapsed": true
   },
   "outputs": [],
   "source": []
  }
 ],
 "metadata": {
  "anaconda-cloud": {},
  "colab": {
   "default_view": {},
   "name": "text_features.ipynb",
   "provenance": [],
   "version": "0.3.2",
   "views": {}
  },
  "kernelspec": {
   "display_name": "Python [default]",
   "language": "python",
   "name": "python2"
  },
  "language_info": {
   "codemirror_mode": {
    "name": "ipython",
    "version": 2
   },
   "file_extension": ".py",
   "mimetype": "text/x-python",
   "name": "python",
   "nbconvert_exporter": "python",
   "pygments_lexer": "ipython2",
   "version": "2.7.14"
  }
 },
 "nbformat": 4,
 "nbformat_minor": 0
}
