{
  "nbformat": 4,
  "nbformat_minor": 0,
  "metadata": {
    "colab": {
      "name": "Pandas-01.ipynb",
      "version": "0.3.2",
      "provenance": []
    },
    "kernelspec": {
      "name": "python3",
      "display_name": "Python 3"
    }
  },
  "cells": [
    {
      "cell_type": "markdown",
      "metadata": {
        "id": "Bufeni2vF7rt",
        "colab_type": "text"
      },
      "source": [
        "## Pandas fornece ferramentas de análise de dados e estruturas de dados de alta performance"
      ]
    },
    {
      "cell_type": "code",
      "metadata": {
        "id": "WMKj6rBlE9Jd",
        "colab_type": "code",
        "colab": {}
      },
      "source": [
        "import pandas as pd\n",
        "import numpy as np\n",
        "import matplotlib.pyplot as plt\n",
        "\n",
        "%matplotlib inline"
      ],
      "execution_count": 0,
      "outputs": []
    },
    {
      "cell_type": "code",
      "metadata": {
        "id": "fu563K4wH-UI",
        "colab_type": "code",
        "colab": {}
      },
      "source": [
        "notas = pd.Series([1,2,3,4,5,6,7,8,9,10])\n",
        "#Cria uma serie unidimensional"
      ],
      "execution_count": 0,
      "outputs": []
    },
    {
      "cell_type": "code",
      "metadata": {
        "id": "xvyjjTxFITPj",
        "colab_type": "code",
        "outputId": "59282b85-fd65-459a-9f67-67eeabcaa452",
        "colab": {
          "base_uri": "https://localhost:8080/",
          "height": 166
        }
      },
      "source": [
        "notas.describe()\n",
        "#Descreve meu conjunto de dados com informações estatisticas"
      ],
      "execution_count": 64,
      "outputs": [
        {
          "output_type": "execute_result",
          "data": {
            "text/plain": [
              "count    10.00000\n",
              "mean      5.50000\n",
              "std       3.02765\n",
              "min       1.00000\n",
              "25%       3.25000\n",
              "50%       5.50000\n",
              "75%       7.75000\n",
              "max      10.00000\n",
              "dtype: float64"
            ]
          },
          "metadata": {
            "tags": []
          },
          "execution_count": 64
        }
      ]
    },
    {
      "cell_type": "code",
      "metadata": {
        "id": "hCOOUFNxIU2a",
        "colab_type": "code",
        "outputId": "789b08fa-ded9-4f1e-948e-e46fd1978f78",
        "colab": {
          "base_uri": "https://localhost:8080/",
          "height": 116
        }
      },
      "source": [
        "notas2 = pd.Series([2,10,5,10,6], index=[\"Wilfred\", \"Abbie\", \"Harry\", \"Julia\", \"Carrie\"])\n",
        "notas2\n",
        "#Atribui a cada elemento dessa minha serie um indetificador "
      ],
      "execution_count": 65,
      "outputs": [
        {
          "output_type": "execute_result",
          "data": {
            "text/plain": [
              "Wilfred     2\n",
              "Abbie      10\n",
              "Harry       5\n",
              "Julia      10\n",
              "Carrie      6\n",
              "dtype: int64"
            ]
          },
          "metadata": {
            "tags": []
          },
          "execution_count": 65
        }
      ]
    },
    {
      "cell_type": "code",
      "metadata": {
        "id": "cKPCTZM1Jtla",
        "colab_type": "code",
        "outputId": "71b119b9-7af8-4d91-d261-778b8f4dd16b",
        "colab": {
          "base_uri": "https://localhost:8080/",
          "height": 116
        }
      },
      "source": [
        "notas2.duplicated()\n",
        "#Indica quais dos index da serie"
      ],
      "execution_count": 66,
      "outputs": [
        {
          "output_type": "execute_result",
          "data": {
            "text/plain": [
              "Wilfred    False\n",
              "Abbie      False\n",
              "Harry      False\n",
              "Julia       True\n",
              "Carrie     False\n",
              "dtype: bool"
            ]
          },
          "metadata": {
            "tags": []
          },
          "execution_count": 66
        }
      ]
    },
    {
      "cell_type": "code",
      "metadata": {
        "id": "_ONVNRMAMVrK",
        "colab_type": "code",
        "outputId": "ca4af711-4da7-4c8d-da9a-998eb9fd8c3f",
        "colab": {
          "base_uri": "https://localhost:8080/",
          "height": 283
        }
      },
      "source": [
        "notas = notas.append(notas2)\n",
        "notas\n",
        "#Concatena series mantendo seus identificadores"
      ],
      "execution_count": 67,
      "outputs": [
        {
          "output_type": "execute_result",
          "data": {
            "text/plain": [
              "0           1\n",
              "1           2\n",
              "2           3\n",
              "3           4\n",
              "4           5\n",
              "5           6\n",
              "6           7\n",
              "7           8\n",
              "8           9\n",
              "9          10\n",
              "Wilfred     2\n",
              "Abbie      10\n",
              "Harry       5\n",
              "Julia      10\n",
              "Carrie      6\n",
              "dtype: int64"
            ]
          },
          "metadata": {
            "tags": []
          },
          "execution_count": 67
        }
      ]
    },
    {
      "cell_type": "markdown",
      "metadata": {
        "id": "bLIBxs25Qvw7",
        "colab_type": "text"
      },
      "source": [
        "##DataFrame\n",
        "Um DataFrame é uma estrutura bidimensional de dados, como uma planilha. Abaixo criaremos um DataFrame que possui valores de diferentes tipos, usando um dicionário como entrada dos dados:"
      ]
    },
    {
      "cell_type": "code",
      "metadata": {
        "id": "12X0C8RGMwwA",
        "colab_type": "code",
        "colab": {
          "base_uri": "https://localhost:8080/",
          "height": 197
        },
        "outputId": "f051242f-874b-4636-9f88-c8592b44a8c4"
      },
      "source": [
        "df = pd.DataFrame({'Aluno' : [\"Wilfred\", \"Abbie\", \"Harry\", \"Julia\", \"Carrie\"],\n",
        "                   'Faltas' : [3,4,2,1,4],\n",
        "                   'Prova' : [2,7,5,10,6],\n",
        "                   'Seminário': [8.5,7.5,9.0,7.5,8.0]})\n",
        "df\n",
        "#Criando um dataframe. É semelhante ao dicionario de python. Lista de listas com indexs alteraveis. "
      ],
      "execution_count": 68,
      "outputs": [
        {
          "output_type": "execute_result",
          "data": {
            "text/html": [
              "<div>\n",
              "<style scoped>\n",
              "    .dataframe tbody tr th:only-of-type {\n",
              "        vertical-align: middle;\n",
              "    }\n",
              "\n",
              "    .dataframe tbody tr th {\n",
              "        vertical-align: top;\n",
              "    }\n",
              "\n",
              "    .dataframe thead th {\n",
              "        text-align: right;\n",
              "    }\n",
              "</style>\n",
              "<table border=\"1\" class=\"dataframe\">\n",
              "  <thead>\n",
              "    <tr style=\"text-align: right;\">\n",
              "      <th></th>\n",
              "      <th>Aluno</th>\n",
              "      <th>Faltas</th>\n",
              "      <th>Prova</th>\n",
              "      <th>Seminário</th>\n",
              "    </tr>\n",
              "  </thead>\n",
              "  <tbody>\n",
              "    <tr>\n",
              "      <th>0</th>\n",
              "      <td>Wilfred</td>\n",
              "      <td>3</td>\n",
              "      <td>2</td>\n",
              "      <td>8.5</td>\n",
              "    </tr>\n",
              "    <tr>\n",
              "      <th>1</th>\n",
              "      <td>Abbie</td>\n",
              "      <td>4</td>\n",
              "      <td>7</td>\n",
              "      <td>7.5</td>\n",
              "    </tr>\n",
              "    <tr>\n",
              "      <th>2</th>\n",
              "      <td>Harry</td>\n",
              "      <td>2</td>\n",
              "      <td>5</td>\n",
              "      <td>9.0</td>\n",
              "    </tr>\n",
              "    <tr>\n",
              "      <th>3</th>\n",
              "      <td>Julia</td>\n",
              "      <td>1</td>\n",
              "      <td>10</td>\n",
              "      <td>7.5</td>\n",
              "    </tr>\n",
              "    <tr>\n",
              "      <th>4</th>\n",
              "      <td>Carrie</td>\n",
              "      <td>4</td>\n",
              "      <td>6</td>\n",
              "      <td>8.0</td>\n",
              "    </tr>\n",
              "  </tbody>\n",
              "</table>\n",
              "</div>"
            ],
            "text/plain": [
              "     Aluno  Faltas  Prova  Seminário\n",
              "0  Wilfred       3      2        8.5\n",
              "1    Abbie       4      7        7.5\n",
              "2    Harry       2      5        9.0\n",
              "3    Julia       1     10        7.5\n",
              "4   Carrie       4      6        8.0"
            ]
          },
          "metadata": {
            "tags": []
          },
          "execution_count": 68
        }
      ]
    },
    {
      "cell_type": "code",
      "metadata": {
        "id": "5j6BKK__RAUG",
        "colab_type": "code",
        "colab": {
          "base_uri": "https://localhost:8080/",
          "height": 100
        },
        "outputId": "1a687953-e0db-4334-fe67-c212511ae0ff"
      },
      "source": [
        "df.dtypes\n",
        "#Retorna o tipo de cada intem associado ao index"
      ],
      "execution_count": 69,
      "outputs": [
        {
          "output_type": "execute_result",
          "data": {
            "text/plain": [
              "Aluno         object\n",
              "Faltas         int64\n",
              "Prova          int64\n",
              "Seminário    float64\n",
              "dtype: object"
            ]
          },
          "metadata": {
            "tags": []
          },
          "execution_count": 69
        }
      ]
    },
    {
      "cell_type": "code",
      "metadata": {
        "id": "s0HScmcBRYp-",
        "colab_type": "code",
        "colab": {
          "base_uri": "https://localhost:8080/",
          "height": 33
        },
        "outputId": "013de4bc-6f2a-4eb2-b62a-1ed3eb6b7fa9"
      },
      "source": [
        "df.columns\n",
        "#Exibe quais são as coluna existentes no dataframe "
      ],
      "execution_count": 70,
      "outputs": [
        {
          "output_type": "execute_result",
          "data": {
            "text/plain": [
              "Index(['Aluno', 'Faltas', 'Prova', 'Seminário'], dtype='object')"
            ]
          },
          "metadata": {
            "tags": []
          },
          "execution_count": 70
        }
      ]
    },
    {
      "cell_type": "code",
      "metadata": {
        "id": "R1OulojpRmHd",
        "colab_type": "code",
        "colab": {
          "base_uri": "https://localhost:8080/",
          "height": 100
        },
        "outputId": "59119a1e-421d-470f-a355-91b44d2d98e2"
      },
      "source": [
        "df.iloc[1]\n",
        "#Acessando os dados da primeira linha"
      ],
      "execution_count": 71,
      "outputs": [
        {
          "output_type": "execute_result",
          "data": {
            "text/plain": [
              "Aluno        Abbie\n",
              "Faltas           4\n",
              "Prova            7\n",
              "Seminário      7.5\n",
              "Name: 1, dtype: object"
            ]
          },
          "metadata": {
            "tags": []
          },
          "execution_count": 71
        }
      ]
    },
    {
      "cell_type": "code",
      "metadata": {
        "id": "lexjQTthRpcp",
        "colab_type": "code",
        "colab": {
          "base_uri": "https://localhost:8080/",
          "height": 116
        },
        "outputId": "bc4cc000-425a-4648-f2d0-778dbbaf1756"
      },
      "source": [
        "df['Aluno']\n",
        "#Exibe os dados da coluna indicada"
      ],
      "execution_count": 72,
      "outputs": [
        {
          "output_type": "execute_result",
          "data": {
            "text/plain": [
              "0    Wilfred\n",
              "1      Abbie\n",
              "2      Harry\n",
              "3      Julia\n",
              "4     Carrie\n",
              "Name: Aluno, dtype: object"
            ]
          },
          "metadata": {
            "tags": []
          },
          "execution_count": 72
        }
      ]
    },
    {
      "cell_type": "code",
      "metadata": {
        "id": "cU7JQ1HITC1R",
        "colab_type": "code",
        "colab": {
          "base_uri": "https://localhost:8080/",
          "height": 33
        },
        "outputId": "e2beb940-0fb2-4593-8392-f311396ec1f4"
      },
      "source": [
        "df.shape\n",
        "#Informa as dimensões do dataframe (linha por coluna)"
      ],
      "execution_count": 73,
      "outputs": [
        {
          "output_type": "execute_result",
          "data": {
            "text/plain": [
              "(5, 4)"
            ]
          },
          "metadata": {
            "tags": []
          },
          "execution_count": 73
        }
      ]
    },
    {
      "cell_type": "code",
      "metadata": {
        "id": "MMQFf660Tq4x",
        "colab_type": "code",
        "colab": {
          "base_uri": "https://localhost:8080/",
          "height": 287
        },
        "outputId": "c53bef9a-6d5c-4129-8803-42aa0efcf4e4"
      },
      "source": [
        "df.describe()\n",
        "#Tira algumas estatisticas do dataframe"
      ],
      "execution_count": 74,
      "outputs": [
        {
          "output_type": "execute_result",
          "data": {
            "text/html": [
              "<div>\n",
              "<style scoped>\n",
              "    .dataframe tbody tr th:only-of-type {\n",
              "        vertical-align: middle;\n",
              "    }\n",
              "\n",
              "    .dataframe tbody tr th {\n",
              "        vertical-align: top;\n",
              "    }\n",
              "\n",
              "    .dataframe thead th {\n",
              "        text-align: right;\n",
              "    }\n",
              "</style>\n",
              "<table border=\"1\" class=\"dataframe\">\n",
              "  <thead>\n",
              "    <tr style=\"text-align: right;\">\n",
              "      <th></th>\n",
              "      <th>Faltas</th>\n",
              "      <th>Prova</th>\n",
              "      <th>Seminário</th>\n",
              "    </tr>\n",
              "  </thead>\n",
              "  <tbody>\n",
              "    <tr>\n",
              "      <th>count</th>\n",
              "      <td>5.00000</td>\n",
              "      <td>5.000000</td>\n",
              "      <td>5.00000</td>\n",
              "    </tr>\n",
              "    <tr>\n",
              "      <th>mean</th>\n",
              "      <td>2.80000</td>\n",
              "      <td>6.000000</td>\n",
              "      <td>8.10000</td>\n",
              "    </tr>\n",
              "    <tr>\n",
              "      <th>std</th>\n",
              "      <td>1.30384</td>\n",
              "      <td>2.915476</td>\n",
              "      <td>0.65192</td>\n",
              "    </tr>\n",
              "    <tr>\n",
              "      <th>min</th>\n",
              "      <td>1.00000</td>\n",
              "      <td>2.000000</td>\n",
              "      <td>7.50000</td>\n",
              "    </tr>\n",
              "    <tr>\n",
              "      <th>25%</th>\n",
              "      <td>2.00000</td>\n",
              "      <td>5.000000</td>\n",
              "      <td>7.50000</td>\n",
              "    </tr>\n",
              "    <tr>\n",
              "      <th>50%</th>\n",
              "      <td>3.00000</td>\n",
              "      <td>6.000000</td>\n",
              "      <td>8.00000</td>\n",
              "    </tr>\n",
              "    <tr>\n",
              "      <th>75%</th>\n",
              "      <td>4.00000</td>\n",
              "      <td>7.000000</td>\n",
              "      <td>8.50000</td>\n",
              "    </tr>\n",
              "    <tr>\n",
              "      <th>max</th>\n",
              "      <td>4.00000</td>\n",
              "      <td>10.000000</td>\n",
              "      <td>9.00000</td>\n",
              "    </tr>\n",
              "  </tbody>\n",
              "</table>\n",
              "</div>"
            ],
            "text/plain": [
              "        Faltas      Prova  Seminário\n",
              "count  5.00000   5.000000    5.00000\n",
              "mean   2.80000   6.000000    8.10000\n",
              "std    1.30384   2.915476    0.65192\n",
              "min    1.00000   2.000000    7.50000\n",
              "25%    2.00000   5.000000    7.50000\n",
              "50%    3.00000   6.000000    8.00000\n",
              "75%    4.00000   7.000000    8.50000\n",
              "max    4.00000  10.000000    9.00000"
            ]
          },
          "metadata": {
            "tags": []
          },
          "execution_count": 74
        }
      ]
    },
    {
      "cell_type": "code",
      "metadata": {
        "id": "6VyX0JeHT1WS",
        "colab_type": "code",
        "colab": {
          "base_uri": "https://localhost:8080/",
          "height": 197
        },
        "outputId": "368d1de4-11e4-4de0-884b-1884d4868a8d"
      },
      "source": [
        "df.sort_values(by=\"Prova\", ascending=False)\n",
        "#Função para ordenar a tabela pela coluna indicada no by, e de maneira decrescente em ascending=false"
      ],
      "execution_count": 75,
      "outputs": [
        {
          "output_type": "execute_result",
          "data": {
            "text/html": [
              "<div>\n",
              "<style scoped>\n",
              "    .dataframe tbody tr th:only-of-type {\n",
              "        vertical-align: middle;\n",
              "    }\n",
              "\n",
              "    .dataframe tbody tr th {\n",
              "        vertical-align: top;\n",
              "    }\n",
              "\n",
              "    .dataframe thead th {\n",
              "        text-align: right;\n",
              "    }\n",
              "</style>\n",
              "<table border=\"1\" class=\"dataframe\">\n",
              "  <thead>\n",
              "    <tr style=\"text-align: right;\">\n",
              "      <th></th>\n",
              "      <th>Aluno</th>\n",
              "      <th>Faltas</th>\n",
              "      <th>Prova</th>\n",
              "      <th>Seminário</th>\n",
              "    </tr>\n",
              "  </thead>\n",
              "  <tbody>\n",
              "    <tr>\n",
              "      <th>3</th>\n",
              "      <td>Julia</td>\n",
              "      <td>1</td>\n",
              "      <td>10</td>\n",
              "      <td>7.5</td>\n",
              "    </tr>\n",
              "    <tr>\n",
              "      <th>1</th>\n",
              "      <td>Abbie</td>\n",
              "      <td>4</td>\n",
              "      <td>7</td>\n",
              "      <td>7.5</td>\n",
              "    </tr>\n",
              "    <tr>\n",
              "      <th>4</th>\n",
              "      <td>Carrie</td>\n",
              "      <td>4</td>\n",
              "      <td>6</td>\n",
              "      <td>8.0</td>\n",
              "    </tr>\n",
              "    <tr>\n",
              "      <th>2</th>\n",
              "      <td>Harry</td>\n",
              "      <td>2</td>\n",
              "      <td>5</td>\n",
              "      <td>9.0</td>\n",
              "    </tr>\n",
              "    <tr>\n",
              "      <th>0</th>\n",
              "      <td>Wilfred</td>\n",
              "      <td>3</td>\n",
              "      <td>2</td>\n",
              "      <td>8.5</td>\n",
              "    </tr>\n",
              "  </tbody>\n",
              "</table>\n",
              "</div>"
            ],
            "text/plain": [
              "     Aluno  Faltas  Prova  Seminário\n",
              "3    Julia       1     10        7.5\n",
              "1    Abbie       4      7        7.5\n",
              "4   Carrie       4      6        8.0\n",
              "2    Harry       2      5        9.0\n",
              "0  Wilfred       3      2        8.5"
            ]
          },
          "metadata": {
            "tags": []
          },
          "execution_count": 75
        }
      ]
    },
    {
      "cell_type": "code",
      "metadata": {
        "id": "ZlUCvuE-UJ46",
        "colab_type": "code",
        "colab": {
          "base_uri": "https://localhost:8080/",
          "height": 33
        },
        "outputId": "4c0825ef-c423-4f7e-d4af-d4d79f067bb1"
      },
      "source": [
        "df.iloc[2][\"Prova\"]\n",
        "#Acessa o valor indicado (linha por coluna)"
      ],
      "execution_count": 76,
      "outputs": [
        {
          "output_type": "execute_result",
          "data": {
            "text/plain": [
              "5"
            ]
          },
          "metadata": {
            "tags": []
          },
          "execution_count": 76
        }
      ]
    },
    {
      "cell_type": "code",
      "metadata": {
        "id": "Fr0vTyK3UxCp",
        "colab_type": "code",
        "colab": {
          "base_uri": "https://localhost:8080/",
          "height": 271
        },
        "outputId": "03653ac0-e9b6-4c50-9af3-792267c37566"
      },
      "source": [
        "df.ix[:2]\n",
        "#Semelhante ao iloc(faz referencia pela posição), mas nesse caso ele inclui o ulitmo elemento"
      ],
      "execution_count": 77,
      "outputs": [
        {
          "output_type": "stream",
          "text": [
            "/usr/local/lib/python3.6/dist-packages/ipykernel_launcher.py:1: DeprecationWarning: \n",
            ".ix is deprecated. Please use\n",
            ".loc for label based indexing or\n",
            ".iloc for positional indexing\n",
            "\n",
            "See the documentation here:\n",
            "http://pandas.pydata.org/pandas-docs/stable/indexing.html#ix-indexer-is-deprecated\n",
            "  \"\"\"Entry point for launching an IPython kernel.\n"
          ],
          "name": "stderr"
        },
        {
          "output_type": "execute_result",
          "data": {
            "text/html": [
              "<div>\n",
              "<style scoped>\n",
              "    .dataframe tbody tr th:only-of-type {\n",
              "        vertical-align: middle;\n",
              "    }\n",
              "\n",
              "    .dataframe tbody tr th {\n",
              "        vertical-align: top;\n",
              "    }\n",
              "\n",
              "    .dataframe thead th {\n",
              "        text-align: right;\n",
              "    }\n",
              "</style>\n",
              "<table border=\"1\" class=\"dataframe\">\n",
              "  <thead>\n",
              "    <tr style=\"text-align: right;\">\n",
              "      <th></th>\n",
              "      <th>Aluno</th>\n",
              "      <th>Faltas</th>\n",
              "      <th>Prova</th>\n",
              "      <th>Seminário</th>\n",
              "    </tr>\n",
              "  </thead>\n",
              "  <tbody>\n",
              "    <tr>\n",
              "      <th>0</th>\n",
              "      <td>Wilfred</td>\n",
              "      <td>3</td>\n",
              "      <td>2</td>\n",
              "      <td>8.5</td>\n",
              "    </tr>\n",
              "    <tr>\n",
              "      <th>1</th>\n",
              "      <td>Abbie</td>\n",
              "      <td>4</td>\n",
              "      <td>7</td>\n",
              "      <td>7.5</td>\n",
              "    </tr>\n",
              "    <tr>\n",
              "      <th>2</th>\n",
              "      <td>Harry</td>\n",
              "      <td>2</td>\n",
              "      <td>5</td>\n",
              "      <td>9.0</td>\n",
              "    </tr>\n",
              "  </tbody>\n",
              "</table>\n",
              "</div>"
            ],
            "text/plain": [
              "     Aluno  Faltas  Prova  Seminário\n",
              "0  Wilfred       3      2        8.5\n",
              "1    Abbie       4      7        7.5\n",
              "2    Harry       2      5        9.0"
            ]
          },
          "metadata": {
            "tags": []
          },
          "execution_count": 77
        }
      ]
    },
    {
      "cell_type": "code",
      "metadata": {
        "id": "VrbG77j_ejUk",
        "colab_type": "code",
        "colab": {
          "base_uri": "https://localhost:8080/",
          "height": 227
        },
        "outputId": "ef1e0d0a-72d3-4eb1-e64c-48cd0ce5f97c"
      },
      "source": [
        "df.index = df['Aluno']\n",
        "df\n",
        "#Esse comando substitui os valores numericos padrões dos indexs por palavras, que no caso são os proprios alunos"
      ],
      "execution_count": 78,
      "outputs": [
        {
          "output_type": "execute_result",
          "data": {
            "text/html": [
              "<div>\n",
              "<style scoped>\n",
              "    .dataframe tbody tr th:only-of-type {\n",
              "        vertical-align: middle;\n",
              "    }\n",
              "\n",
              "    .dataframe tbody tr th {\n",
              "        vertical-align: top;\n",
              "    }\n",
              "\n",
              "    .dataframe thead th {\n",
              "        text-align: right;\n",
              "    }\n",
              "</style>\n",
              "<table border=\"1\" class=\"dataframe\">\n",
              "  <thead>\n",
              "    <tr style=\"text-align: right;\">\n",
              "      <th></th>\n",
              "      <th>Aluno</th>\n",
              "      <th>Faltas</th>\n",
              "      <th>Prova</th>\n",
              "      <th>Seminário</th>\n",
              "    </tr>\n",
              "    <tr>\n",
              "      <th>Aluno</th>\n",
              "      <th></th>\n",
              "      <th></th>\n",
              "      <th></th>\n",
              "      <th></th>\n",
              "    </tr>\n",
              "  </thead>\n",
              "  <tbody>\n",
              "    <tr>\n",
              "      <th>Wilfred</th>\n",
              "      <td>Wilfred</td>\n",
              "      <td>3</td>\n",
              "      <td>2</td>\n",
              "      <td>8.5</td>\n",
              "    </tr>\n",
              "    <tr>\n",
              "      <th>Abbie</th>\n",
              "      <td>Abbie</td>\n",
              "      <td>4</td>\n",
              "      <td>7</td>\n",
              "      <td>7.5</td>\n",
              "    </tr>\n",
              "    <tr>\n",
              "      <th>Harry</th>\n",
              "      <td>Harry</td>\n",
              "      <td>2</td>\n",
              "      <td>5</td>\n",
              "      <td>9.0</td>\n",
              "    </tr>\n",
              "    <tr>\n",
              "      <th>Julia</th>\n",
              "      <td>Julia</td>\n",
              "      <td>1</td>\n",
              "      <td>10</td>\n",
              "      <td>7.5</td>\n",
              "    </tr>\n",
              "    <tr>\n",
              "      <th>Carrie</th>\n",
              "      <td>Carrie</td>\n",
              "      <td>4</td>\n",
              "      <td>6</td>\n",
              "      <td>8.0</td>\n",
              "    </tr>\n",
              "  </tbody>\n",
              "</table>\n",
              "</div>"
            ],
            "text/plain": [
              "           Aluno  Faltas  Prova  Seminário\n",
              "Aluno                                     \n",
              "Wilfred  Wilfred       3      2        8.5\n",
              "Abbie      Abbie       4      7        7.5\n",
              "Harry      Harry       2      5        9.0\n",
              "Julia      Julia       1     10        7.5\n",
              "Carrie    Carrie       4      6        8.0"
            ]
          },
          "metadata": {
            "tags": []
          },
          "execution_count": 78
        }
      ]
    },
    {
      "cell_type": "code",
      "metadata": {
        "id": "FU8D2UB8e94s",
        "colab_type": "code",
        "colab": {
          "base_uri": "https://localhost:8080/",
          "height": 233
        },
        "outputId": "3bc1fbd9-663b-4bd2-8283-6d97b7b3e6f3"
      },
      "source": [
        "df.ix['Abbie']\n",
        "#Agora podemos encontrar os elementos referente ao aluno pelo proprio nome do aluno  "
      ],
      "execution_count": 79,
      "outputs": [
        {
          "output_type": "stream",
          "text": [
            "/usr/local/lib/python3.6/dist-packages/ipykernel_launcher.py:1: DeprecationWarning: \n",
            ".ix is deprecated. Please use\n",
            ".loc for label based indexing or\n",
            ".iloc for positional indexing\n",
            "\n",
            "See the documentation here:\n",
            "http://pandas.pydata.org/pandas-docs/stable/indexing.html#ix-indexer-is-deprecated\n",
            "  \"\"\"Entry point for launching an IPython kernel.\n"
          ],
          "name": "stderr"
        },
        {
          "output_type": "execute_result",
          "data": {
            "text/plain": [
              "Aluno        Abbie\n",
              "Faltas           4\n",
              "Prova            7\n",
              "Seminário      7.5\n",
              "Name: Abbie, dtype: object"
            ]
          },
          "metadata": {
            "tags": []
          },
          "execution_count": 79
        }
      ]
    },
    {
      "cell_type": "code",
      "metadata": {
        "id": "Vy8J8riefU3m",
        "colab_type": "code",
        "colab": {
          "base_uri": "https://localhost:8080/",
          "height": 227
        },
        "outputId": "55cac322-fc9b-430e-c9a9-2f091159fde5"
      },
      "source": [
        "del df['Aluno']\n",
        "#Deleta a coluna aluno pois os elementos alunos agora estão fixado pelo index\n",
        "df"
      ],
      "execution_count": 80,
      "outputs": [
        {
          "output_type": "execute_result",
          "data": {
            "text/html": [
              "<div>\n",
              "<style scoped>\n",
              "    .dataframe tbody tr th:only-of-type {\n",
              "        vertical-align: middle;\n",
              "    }\n",
              "\n",
              "    .dataframe tbody tr th {\n",
              "        vertical-align: top;\n",
              "    }\n",
              "\n",
              "    .dataframe thead th {\n",
              "        text-align: right;\n",
              "    }\n",
              "</style>\n",
              "<table border=\"1\" class=\"dataframe\">\n",
              "  <thead>\n",
              "    <tr style=\"text-align: right;\">\n",
              "      <th></th>\n",
              "      <th>Faltas</th>\n",
              "      <th>Prova</th>\n",
              "      <th>Seminário</th>\n",
              "    </tr>\n",
              "    <tr>\n",
              "      <th>Aluno</th>\n",
              "      <th></th>\n",
              "      <th></th>\n",
              "      <th></th>\n",
              "    </tr>\n",
              "  </thead>\n",
              "  <tbody>\n",
              "    <tr>\n",
              "      <th>Wilfred</th>\n",
              "      <td>3</td>\n",
              "      <td>2</td>\n",
              "      <td>8.5</td>\n",
              "    </tr>\n",
              "    <tr>\n",
              "      <th>Abbie</th>\n",
              "      <td>4</td>\n",
              "      <td>7</td>\n",
              "      <td>7.5</td>\n",
              "    </tr>\n",
              "    <tr>\n",
              "      <th>Harry</th>\n",
              "      <td>2</td>\n",
              "      <td>5</td>\n",
              "      <td>9.0</td>\n",
              "    </tr>\n",
              "    <tr>\n",
              "      <th>Julia</th>\n",
              "      <td>1</td>\n",
              "      <td>10</td>\n",
              "      <td>7.5</td>\n",
              "    </tr>\n",
              "    <tr>\n",
              "      <th>Carrie</th>\n",
              "      <td>4</td>\n",
              "      <td>6</td>\n",
              "      <td>8.0</td>\n",
              "    </tr>\n",
              "  </tbody>\n",
              "</table>\n",
              "</div>"
            ],
            "text/plain": [
              "         Faltas  Prova  Seminário\n",
              "Aluno                            \n",
              "Wilfred       3      2        8.5\n",
              "Abbie         4      7        7.5\n",
              "Harry         2      5        9.0\n",
              "Julia         1     10        7.5\n",
              "Carrie        4      6        8.0"
            ]
          },
          "metadata": {
            "tags": []
          },
          "execution_count": 80
        }
      ]
    },
    {
      "cell_type": "code",
      "metadata": {
        "id": "2m6w96l3fpDU",
        "colab_type": "code",
        "colab": {
          "base_uri": "https://localhost:8080/",
          "height": 137
        },
        "outputId": "eac90937-e04b-4c37-f242-10d5c295f683"
      },
      "source": [
        "df[df['Seminário'] > 8.0]\n",
        "#Mostra os elementos com base na condição\n",
        "#Aqui se usam operadores bitwise, ou seja, &, |, ~ ao invés de and, or, not,"
      ],
      "execution_count": 81,
      "outputs": [
        {
          "output_type": "execute_result",
          "data": {
            "text/html": [
              "<div>\n",
              "<style scoped>\n",
              "    .dataframe tbody tr th:only-of-type {\n",
              "        vertical-align: middle;\n",
              "    }\n",
              "\n",
              "    .dataframe tbody tr th {\n",
              "        vertical-align: top;\n",
              "    }\n",
              "\n",
              "    .dataframe thead th {\n",
              "        text-align: right;\n",
              "    }\n",
              "</style>\n",
              "<table border=\"1\" class=\"dataframe\">\n",
              "  <thead>\n",
              "    <tr style=\"text-align: right;\">\n",
              "      <th></th>\n",
              "      <th>Faltas</th>\n",
              "      <th>Prova</th>\n",
              "      <th>Seminário</th>\n",
              "    </tr>\n",
              "    <tr>\n",
              "      <th>Aluno</th>\n",
              "      <th></th>\n",
              "      <th></th>\n",
              "      <th></th>\n",
              "    </tr>\n",
              "  </thead>\n",
              "  <tbody>\n",
              "    <tr>\n",
              "      <th>Wilfred</th>\n",
              "      <td>3</td>\n",
              "      <td>2</td>\n",
              "      <td>8.5</td>\n",
              "    </tr>\n",
              "    <tr>\n",
              "      <th>Harry</th>\n",
              "      <td>2</td>\n",
              "      <td>5</td>\n",
              "      <td>9.0</td>\n",
              "    </tr>\n",
              "  </tbody>\n",
              "</table>\n",
              "</div>"
            ],
            "text/plain": [
              "         Faltas  Prova  Seminário\n",
              "Aluno                            \n",
              "Wilfred       3      2        8.5\n",
              "Harry         2      5        9.0"
            ]
          },
          "metadata": {
            "tags": []
          },
          "execution_count": 81
        }
      ]
    },
    {
      "cell_type": "code",
      "metadata": {
        "id": "zMlyMGnagW-u",
        "colab_type": "code",
        "colab": {
          "base_uri": "https://localhost:8080/",
          "height": 107
        },
        "outputId": "867d7be3-ba67-4e0a-b9ad-e3957229e08f"
      },
      "source": [
        "df[(df['Seminário'] > 8.0) & (df['Prova'] > 3)]\n",
        "#Como executar multiplas condições dentro do dataframe"
      ],
      "execution_count": 82,
      "outputs": [
        {
          "output_type": "execute_result",
          "data": {
            "text/html": [
              "<div>\n",
              "<style scoped>\n",
              "    .dataframe tbody tr th:only-of-type {\n",
              "        vertical-align: middle;\n",
              "    }\n",
              "\n",
              "    .dataframe tbody tr th {\n",
              "        vertical-align: top;\n",
              "    }\n",
              "\n",
              "    .dataframe thead th {\n",
              "        text-align: right;\n",
              "    }\n",
              "</style>\n",
              "<table border=\"1\" class=\"dataframe\">\n",
              "  <thead>\n",
              "    <tr style=\"text-align: right;\">\n",
              "      <th></th>\n",
              "      <th>Faltas</th>\n",
              "      <th>Prova</th>\n",
              "      <th>Seminário</th>\n",
              "    </tr>\n",
              "    <tr>\n",
              "      <th>Aluno</th>\n",
              "      <th></th>\n",
              "      <th></th>\n",
              "      <th></th>\n",
              "    </tr>\n",
              "  </thead>\n",
              "  <tbody>\n",
              "    <tr>\n",
              "      <th>Harry</th>\n",
              "      <td>2</td>\n",
              "      <td>5</td>\n",
              "      <td>9.0</td>\n",
              "    </tr>\n",
              "  </tbody>\n",
              "</table>\n",
              "</div>"
            ],
            "text/plain": [
              "       Faltas  Prova  Seminário\n",
              "Aluno                          \n",
              "Harry       2      5        9.0"
            ]
          },
          "metadata": {
            "tags": []
          },
          "execution_count": 82
        }
      ]
    },
    {
      "cell_type": "code",
      "metadata": {
        "id": "iW2R_TCug7lW",
        "colab_type": "code",
        "colab": {}
      },
      "source": [
        ""
      ],
      "execution_count": 0,
      "outputs": []
    }
  ]
}