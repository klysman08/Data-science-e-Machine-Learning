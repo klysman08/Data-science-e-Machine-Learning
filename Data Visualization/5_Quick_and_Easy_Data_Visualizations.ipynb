{
  "nbformat": 4,
  "nbformat_minor": 0,
  "metadata": {
    "colab": {
      "name": "5 Quick and Easy Data Visualizations.ipynb",
      "provenance": []
    },
    "kernelspec": {
      "name": "python3",
      "display_name": "Python 3"
    }
  },
  "cells": [
    {
      "cell_type": "markdown",
      "metadata": {
        "id": "mcnw8E75wMdp",
        "colab_type": "text"
      },
      "source": [
        "#Scatter Plots"
      ]
    },
    {
      "cell_type": "code",
      "metadata": {
        "id": "e9ZjGg-QvpQi",
        "colab_type": "code",
        "colab": {}
      },
      "source": [
        "import matplotlib.pyplot as plt\n",
        "import numpy as np\n",
        "\n",
        "def scatterplot(x_data, y_data, x_label=\"\", y_label=\"\", title=\"\", color = \"r\", yscale_log=False):\n",
        "\n",
        "    # Create the plot object\n",
        "    _, ax = plt.subplots()\n",
        "\n",
        "    # Plot the data, set the size (s), color and transparency (alpha)\n",
        "    # of the points\n",
        "    ax.scatter(x_data, y_data, s = 10, color = color, alpha = 0.75)\n",
        "\n",
        "    if yscale_log == True:\n",
        "        ax.set_yscale('log')\n",
        "\n",
        "    # Label the axes and provide a title\n",
        "    ax.set_title(title)\n",
        "    ax.set_xlabel(x_label)\n",
        "    ax.set_ylabel(y_label)"
      ],
      "execution_count": 0,
      "outputs": []
    },
    {
      "cell_type": "markdown",
      "metadata": {
        "id": "XO-sZrPHwX1E",
        "colab_type": "text"
      },
      "source": [
        "#Line Plots"
      ]
    },
    {
      "cell_type": "code",
      "metadata": {
        "id": "gCKPKOsIwZJX",
        "colab_type": "code",
        "colab": {}
      },
      "source": [
        "def lineplot(x_data, y_data, x_label=\"\", y_label=\"\", title=\"\"):\n",
        "    # Create the plot object\n",
        "    _, ax = plt.subplots()\n",
        "\n",
        "    # Plot the best fit line, set the linewidth (lw), color and\n",
        "    # transparency (alpha) of the line\n",
        "    ax.plot(x_data, y_data, lw = 2, color = '#539caf', alpha = 1)\n",
        "\n",
        "    # Label the axes and provide a title\n",
        "    ax.set_title(title)\n",
        "    ax.set_xlabel(x_label)\n",
        "    ax.set_ylabel(y_label)\n"
      ],
      "execution_count": 0,
      "outputs": []
    },
    {
      "cell_type": "markdown",
      "metadata": {
        "id": "pIj0F-6nxUfj",
        "colab_type": "text"
      },
      "source": [
        "#Histograms"
      ]
    },
    {
      "cell_type": "code",
      "metadata": {
        "id": "5-iWHn-mxXA3",
        "colab_type": "code",
        "colab": {}
      },
      "source": [
        "\n",
        "def histogram(data, n_bins, cumulative=False, x_label = \"\", y_label = \"\", title = \"\"):\n",
        "    _, ax = plt.subplots()\n",
        "    ax.hist(data, n_bins = n_bins, cumulative = cumulative, color = '#539caf')\n",
        "    ax.set_ylabel(y_label)\n",
        "    ax.set_xlabel(x_label)\n",
        "    ax.set_title(title)"
      ],
      "execution_count": 0,
      "outputs": []
    },
    {
      "cell_type": "code",
      "metadata": {
        "id": "6Z0P3qdqxsdG",
        "colab_type": "code",
        "colab": {}
      },
      "source": [
        "# Overlay 2 histograms to compare them\n",
        "def overlaid_histogram(data1, data2, n_bins = 0, data1_name=\"\", data1_color=\"#539caf\", data2_name=\"\", data2_color=\"#7663b0\", x_label=\"\", y_label=\"\", title=\"\"):\n",
        "    # Set the bounds for the bins so that the two distributions are fairly compared\n",
        "    max_nbins = 10\n",
        "    data_range = [min(min(data1), min(data2)), max(max(data1), max(data2))]\n",
        "    binwidth = (data_range[1] - data_range[0]) / max_nbins\n",
        "\n",
        "\n",
        "    if n_bins == 0\n",
        "    \tbins = np.arange(data_range[0], data_range[1] + binwidth, binwidth)\n",
        "    else: \n",
        "    \tbins = n_bins\n",
        "\n",
        "    # Create the plot\n",
        "    _, ax = plt.subplots()\n",
        "    ax.hist(data1, bins = bins, color = data1_color, alpha = 1, label = data1_name)\n",
        "    ax.hist(data2, bins = bins, color = data2_color, alpha = 0.75, label = data2_name)\n",
        "    ax.set_ylabel(y_label)\n",
        "    ax.set_xlabel(x_label)\n",
        "    ax.set_title(title)\n",
        "    ax.legend(loc = 'best')"
      ],
      "execution_count": 0,
      "outputs": []
    },
    {
      "cell_type": "markdown",
      "metadata": {
        "id": "NnfIPyRdyeVq",
        "colab_type": "text"
      },
      "source": [
        "#Bar Plots"
      ]
    },
    {
      "cell_type": "code",
      "metadata": {
        "id": "XqPclsbMyms6",
        "colab_type": "code",
        "colab": {}
      },
      "source": [
        "def barplot(x_data, y_data, error_data, x_label=\"\", y_label=\"\", title=\"\"):\n",
        "    _, ax = plt.subplots()\n",
        "    # Draw bars, position them in the center of the tick mark on the x-axis\n",
        "    ax.bar(x_data, y_data, color = '#539caf', align = 'center')\n",
        "    # Draw error bars to show standard deviation, set ls to 'none'\n",
        "    # to remove line between points\n",
        "    ax.errorbar(x_data, y_data, yerr = error_data, color = '#297083', ls = 'none', lw = 2, capthick = 2)\n",
        "    ax.set_ylabel(y_label)\n",
        "    ax.set_xlabel(x_label)\n",
        "    ax.set_title(title)\n",
        "\n",
        "\n",
        "\n",
        "def stackedbarplot(x_data, y_data_list, colors, y_data_names=\"\", x_label=\"\", y_label=\"\", title=\"\"):\n",
        "    _, ax = plt.subplots()\n",
        "    # Draw bars, one category at a time\n",
        "    for i in range(0, len(y_data_list)):\n",
        "        if i == 0:\n",
        "            ax.bar(x_data, y_data_list[i], color = colors[i], align = 'center', label = y_data_names[i])\n",
        "        else:\n",
        "            # For each category after the first, the bottom of the\n",
        "            # bar will be the top of the last category\n",
        "            ax.bar(x_data, y_data_list[i], color = colors[i], bottom = y_data_list[i - 1], align = 'center', label = y_data_names[i])\n",
        "    ax.set_ylabel(y_label)\n",
        "    ax.set_xlabel(x_label)\n",
        "    ax.set_title(title)\n",
        "    ax.legend(loc = 'upper right')\n",
        "\n",
        "\n",
        "\n",
        "def groupedbarplot(x_data, y_data_list, colors, y_data_names=\"\", x_label=\"\", y_label=\"\", title=\"\"):\n",
        "    _, ax = plt.subplots()\n",
        "    # Total width for all bars at one x location\n",
        "    total_width = 0.8\n",
        "    # Width of each individual bar\n",
        "    ind_width = total_width / len(y_data_list)\n",
        "    # This centers each cluster of bars about the x tick mark\n",
        "    alteration = np.arange(-(total_width/2), total_width/2, ind_width)\n",
        "\n",
        "    # Draw bars, one category at a time\n",
        "    for i in range(0, len(y_data_list)):\n",
        "        # Move the bar to the right on the x-axis so it doesn't\n",
        "        # overlap with previously drawn ones\n",
        "        ax.bar(x_data + alteration[i], y_data_list[i], color = colors[i], label = y_data_names[i], width = ind_width)\n",
        "    ax.set_ylabel(y_label)\n",
        "    ax.set_xlabel(x_label)\n",
        "    ax.set_title(title)\n",
        "    ax.legend(loc = 'upper right')"
      ],
      "execution_count": 0,
      "outputs": []
    },
    {
      "cell_type": "markdown",
      "metadata": {
        "id": "xKGvaWe7ywdI",
        "colab_type": "text"
      },
      "source": [
        "#Box Plots"
      ]
    },
    {
      "cell_type": "code",
      "metadata": {
        "id": "FpSeLCIRyzuB",
        "colab_type": "code",
        "colab": {}
      },
      "source": [
        "def boxplot(x_data, y_data, base_color=\"#539caf\", median_color=\"#297083\", x_label=\"\", y_label=\"\", title=\"\"):\n",
        "    _, ax = plt.subplots()\n",
        "\n",
        "    # Draw boxplots, specifying desired style\n",
        "    ax.boxplot(y_data\n",
        "               # patch_artist must be True to control box fill\n",
        "               , patch_artist = True\n",
        "               # Properties of median line\n",
        "               , medianprops = {'color': median_color}\n",
        "               # Properties of box\n",
        "               , boxprops = {'color': base_color, 'facecolor': base_color}\n",
        "               # Properties of whiskers\n",
        "               , whiskerprops = {'color': base_color}\n",
        "               # Properties of whisker caps\n",
        "               , capprops = {'color': base_color})\n",
        "\n",
        "    # By default, the tick label starts at 1 and increments by 1 for\n",
        "    # each box drawn. This sets the labels to the ones we want\n",
        "    ax.set_xticklabels(x_data)\n",
        "    ax.set_ylabel(y_label)\n",
        "    ax.set_xlabel(x_label)\n",
        "    ax.set_title(title)"
      ],
      "execution_count": 0,
      "outputs": []
    }
  ]
}