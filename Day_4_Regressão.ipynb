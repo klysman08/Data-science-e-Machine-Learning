{
  "nbformat": 4,
  "nbformat_minor": 0,
  "metadata": {
    "colab": {
      "name": "Day 4 - Regressão.ipynb",
      "version": "0.3.2",
      "provenance": [],
      "include_colab_link": true
    },
    "kernelspec": {
      "name": "python3",
      "display_name": "Python 3"
    },
    "accelerator": "GPU"
  },
  "cells": [
    {
      "cell_type": "markdown",
      "metadata": {
        "id": "view-in-github",
        "colab_type": "text"
      },
      "source": [
        "<a href=\"https://colab.research.google.com/github/klysman08/Data-science-e-Machine-Learning/blob/master/Day_4_Regress%C3%A3o.ipynb\" target=\"_parent\"><img src=\"https://colab.research.google.com/assets/colab-badge.svg\" alt=\"Open In Colab\"/></a>"
      ]
    },
    {
      "cell_type": "markdown",
      "metadata": {
        "id": "f1v5mrlA-IxS",
        "colab_type": "text"
      },
      "source": [
        "# Regressão\n",
        "\n",
        "Técnica estatistica de modelagem que consiste no relacionamento entre variaveis dependentes e independentes. <br>\n",
        "Muito ulitilazada para análises preditivas e de series temporais e para amostras ruidosas de dados.\n",
        "\n",
        "É a utilização de uma reta que estima o melhor comportamento dos dados e minimiza o somatorio total dos erros de cada elemento sobre a reta.\n"
      ]
    },
    {
      "cell_type": "code",
      "metadata": {
        "id": "r4OcBjSN-Lep",
        "colab_type": "code",
        "colab": {}
      },
      "source": [
        "import pandas as pd\n",
        "import numpy as np\n",
        "import matplotlib.pyplot as plt"
      ],
      "execution_count": 0,
      "outputs": []
    },
    {
      "cell_type": "code",
      "metadata": {
        "id": "YyqaVIIABzVK",
        "colab_type": "code",
        "outputId": "b76d1afa-5a7a-4a6b-f3c9-500963412d7b",
        "colab": {
          "base_uri": "https://localhost:8080/",
          "height": 206
        }
      },
      "source": [
        "df = pd.read_csv('https://s3.amazonaws.com/pycourse/50_Startups.csv')\n",
        "df.head()"
      ],
      "execution_count": 45,
      "outputs": [
        {
          "output_type": "execute_result",
          "data": {
            "text/html": [
              "<div>\n",
              "<style scoped>\n",
              "    .dataframe tbody tr th:only-of-type {\n",
              "        vertical-align: middle;\n",
              "    }\n",
              "\n",
              "    .dataframe tbody tr th {\n",
              "        vertical-align: top;\n",
              "    }\n",
              "\n",
              "    .dataframe thead th {\n",
              "        text-align: right;\n",
              "    }\n",
              "</style>\n",
              "<table border=\"1\" class=\"dataframe\">\n",
              "  <thead>\n",
              "    <tr style=\"text-align: right;\">\n",
              "      <th></th>\n",
              "      <th>R&amp;D Spend</th>\n",
              "      <th>Administration</th>\n",
              "      <th>Marketing Spend</th>\n",
              "      <th>State</th>\n",
              "      <th>Profit</th>\n",
              "    </tr>\n",
              "  </thead>\n",
              "  <tbody>\n",
              "    <tr>\n",
              "      <th>0</th>\n",
              "      <td>165349.20</td>\n",
              "      <td>136897.80</td>\n",
              "      <td>471784.10</td>\n",
              "      <td>New York</td>\n",
              "      <td>192261.83</td>\n",
              "    </tr>\n",
              "    <tr>\n",
              "      <th>1</th>\n",
              "      <td>162597.70</td>\n",
              "      <td>151377.59</td>\n",
              "      <td>443898.53</td>\n",
              "      <td>California</td>\n",
              "      <td>191792.06</td>\n",
              "    </tr>\n",
              "    <tr>\n",
              "      <th>2</th>\n",
              "      <td>153441.51</td>\n",
              "      <td>101145.55</td>\n",
              "      <td>407934.54</td>\n",
              "      <td>Florida</td>\n",
              "      <td>191050.39</td>\n",
              "    </tr>\n",
              "    <tr>\n",
              "      <th>3</th>\n",
              "      <td>144372.41</td>\n",
              "      <td>118671.85</td>\n",
              "      <td>383199.62</td>\n",
              "      <td>New York</td>\n",
              "      <td>182901.99</td>\n",
              "    </tr>\n",
              "    <tr>\n",
              "      <th>4</th>\n",
              "      <td>142107.34</td>\n",
              "      <td>91391.77</td>\n",
              "      <td>366168.42</td>\n",
              "      <td>Florida</td>\n",
              "      <td>166187.94</td>\n",
              "    </tr>\n",
              "  </tbody>\n",
              "</table>\n",
              "</div>"
            ],
            "text/plain": [
              "   R&D Spend  Administration  Marketing Spend       State     Profit\n",
              "0  165349.20       136897.80        471784.10    New York  192261.83\n",
              "1  162597.70       151377.59        443898.53  California  191792.06\n",
              "2  153441.51       101145.55        407934.54     Florida  191050.39\n",
              "3  144372.41       118671.85        383199.62    New York  182901.99\n",
              "4  142107.34        91391.77        366168.42     Florida  166187.94"
            ]
          },
          "metadata": {
            "tags": []
          },
          "execution_count": 45
        }
      ]
    },
    {
      "cell_type": "code",
      "metadata": {
        "id": "Lq3fApD8CLFF",
        "colab_type": "code",
        "colab": {}
      },
      "source": [
        "#Extrair as matrizes X e y para regrassão do dataset\n",
        "\n",
        "X = df.iloc[:, :-1].values\n",
        "y = df.iloc[:, -1].values"
      ],
      "execution_count": 0,
      "outputs": []
    },
    {
      "cell_type": "code",
      "metadata": {
        "id": "RflMhN_kDe-s",
        "colab_type": "code",
        "colab": {}
      },
      "source": [
        "from sklearn.model_selection import train_test_split\n",
        "X_train, X_test, y_train, y_test = train_test_split(X, y, test_size = 0.20, random_state = 0) #random embaralha #stratify mantem proporcional a divisão das labels"
      ],
      "execution_count": 0,
      "outputs": []
    },
    {
      "cell_type": "code",
      "metadata": {
        "id": "iH_3T2dpEY91",
        "colab_type": "code",
        "colab": {}
      },
      "source": [
        "#Normalizando os dados\n",
        "from sklearn.preprocessing import StandardScaler"
      ],
      "execution_count": 0,
      "outputs": []
    },
    {
      "cell_type": "code",
      "metadata": {
        "id": "yLm-67UpFA2f",
        "colab_type": "code",
        "colab": {
          "base_uri": "https://localhost:8080/",
          "height": 34
        },
        "outputId": "7157737a-a38f-4977-87ff-f28e4b0a3d09"
      },
      "source": [
        "sc = StandardScaler()\n",
        "X_train.shape"
      ],
      "execution_count": 49,
      "outputs": [
        {
          "output_type": "execute_result",
          "data": {
            "text/plain": [
              "(40, 4)"
            ]
          },
          "metadata": {
            "tags": []
          },
          "execution_count": 49
        }
      ]
    },
    {
      "cell_type": "code",
      "metadata": {
        "id": "lD_-RRcMFDeR",
        "colab_type": "code",
        "colab": {
          "base_uri": "https://localhost:8080/",
          "height": 104
        },
        "outputId": "6d7e2068-0133-4ba3-f2fe-e8f533ba7b17"
      },
      "source": [
        "X_train[:, :-1] = sc.fit_transform(X_train[:, :-1])  #Fit é somente para treino na base de dados de treino, aplica em todas as colunas exeto a ultima coluna que é uma str\n",
        "X_test[:, :-1] = sc.transform(X_test[:, :-1]) # Aplica a formula nos dados\n",
        "print(X_train[:5, :])"
      ],
      "execution_count": 50,
      "outputs": [
        {
          "output_type": "stream",
          "text": [
            "[[-0.3500645436227844 -0.7854710924793271 0.1011968019362538 'Florida']\n",
            " [-0.555303187426314 -1.481174262628151 0.02734979174277092 'New York']\n",
            " [0.07935762307586282 0.8013338146656704 -0.551521323997471 'Florida']\n",
            " [-0.5463823849331263 1.3250581707161837 0.07011683779235604 'California']\n",
            " [0.4348537132854595 -0.3559866348200946 0.7514851578736048 'Florida']]\n"
          ],
          "name": "stdout"
        }
      ]
    },
    {
      "cell_type": "code",
      "metadata": {
        "id": "rj8kZDRNHC22",
        "colab_type": "code",
        "colab": {}
      },
      "source": [
        "#Tratamento de variaveis categoricas -one-hot-encoding\n",
        "\n",
        "from sklearn.preprocessing import LabelEncoder, OneHotEncoder\n"
      ],
      "execution_count": 0,
      "outputs": []
    },
    {
      "cell_type": "code",
      "metadata": {
        "id": "AOy_NubGOptl",
        "colab_type": "code",
        "colab": {
          "base_uri": "https://localhost:8080/",
          "height": 104
        },
        "outputId": "152c4509-78d8-4627-ad1b-18876ed840b1"
      },
      "source": [
        "le_X = LabelEncoder() #converte as coluna str dos paiseis em int\n",
        "X_train[:, -1] = le_X.fit_transform(X_train[: ,-1])\n",
        "X_test[:, -1] = le_X.fit_transform(X_test[: ,-1])\n",
        "print(X_train[:5, :])"
      ],
      "execution_count": 52,
      "outputs": [
        {
          "output_type": "stream",
          "text": [
            "[[-0.3500645436227844 -0.7854710924793271 0.1011968019362538 1]\n",
            " [-0.555303187426314 -1.481174262628151 0.02734979174277092 2]\n",
            " [0.07935762307586282 0.8013338146656704 -0.551521323997471 1]\n",
            " [-0.5463823849331263 1.3250581707161837 0.07011683779235604 0]\n",
            " [0.4348537132854595 -0.3559866348200946 0.7514851578736048 1]]\n"
          ],
          "name": "stdout"
        }
      ]
    },
    {
      "cell_type": "code",
      "metadata": {
        "id": "iqmOu9lDPKdd",
        "colab_type": "code",
        "colab": {
          "base_uri": "https://localhost:8080/",
          "height": 141
        },
        "outputId": "fd87e86d-1c01-44a0-ee88-4b9ca549bf87"
      },
      "source": [
        "#Aplicando o one-hote encoding\n",
        "\n",
        "ohe = OneHotEncoder(categorical_features=[3])\n",
        "X_train = ohe.fit_transform(X_train).toarray()\n",
        "X_test = ohe.transform(X_test).toarray()"
      ],
      "execution_count": 53,
      "outputs": [
        {
          "output_type": "stream",
          "text": [
            "/usr/local/lib/python3.6/dist-packages/sklearn/preprocessing/_encoders.py:415: FutureWarning: The handling of integer data will change in version 0.22. Currently, the categories are determined based on the range [0, max(values)], while in the future they will be determined based on the unique values.\n",
            "If you want the future behaviour and silence this warning, you can specify \"categories='auto'\".\n",
            "In case you used a LabelEncoder before this OneHotEncoder to convert the categories to integers, then you can now use the OneHotEncoder directly.\n",
            "  warnings.warn(msg, FutureWarning)\n",
            "/usr/local/lib/python3.6/dist-packages/sklearn/preprocessing/_encoders.py:451: DeprecationWarning: The 'categorical_features' keyword is deprecated in version 0.20 and will be removed in 0.22. You can use the ColumnTransformer instead.\n",
            "  \"use the ColumnTransformer instead.\", DeprecationWarning)\n"
          ],
          "name": "stderr"
        }
      ]
    },
    {
      "cell_type": "code",
      "metadata": {
        "id": "Ja0bba7ZRbKv",
        "colab_type": "code",
        "colab": {
          "base_uri": "https://localhost:8080/",
          "height": 104
        },
        "outputId": "e14604ed-ed47-452e-e82f-6f61ea7b2fce"
      },
      "source": [
        "print(X_train[:5,:])"
      ],
      "execution_count": 54,
      "outputs": [
        {
          "output_type": "stream",
          "text": [
            "[[ 0.          1.          0.         -0.35006454 -0.78547109  0.1011968 ]\n",
            " [ 0.          0.          1.         -0.55530319 -1.48117426  0.02734979]\n",
            " [ 0.          1.          0.          0.07935762  0.80133381 -0.55152132]\n",
            " [ 1.          0.          0.         -0.54638238  1.32505817  0.07011684]\n",
            " [ 0.          1.          0.          0.43485371 -0.35598663  0.75148516]]\n"
          ],
          "name": "stdout"
        }
      ]
    },
    {
      "cell_type": "code",
      "metadata": {
        "id": "vHv67g9nRvoA",
        "colab_type": "code",
        "colab": {}
      },
      "source": [
        "#evitando Dummy varible trap\n",
        "X_train = X_train[:,1:]\n",
        "X_test = X_test[:,1:]"
      ],
      "execution_count": 0,
      "outputs": []
    },
    {
      "cell_type": "code",
      "metadata": {
        "id": "M4_GYDJ2WvVA",
        "colab_type": "code",
        "colab": {
          "base_uri": "https://localhost:8080/",
          "height": 34
        },
        "outputId": "3cbc5ff6-2c31-4e40-ed62-b53ed9f16544"
      },
      "source": [
        "from sklearn.linear_model import LinearRegression\n",
        "regressor = LinearRegression()\n",
        "regressor.fit(X_train, y_train)\n",
        "LinearRegression(copy_X=True, fit_intercept=True, n_jobs=None, normalize=False)"
      ],
      "execution_count": 58,
      "outputs": [
        {
          "output_type": "execute_result",
          "data": {
            "text/plain": [
              "LinearRegression(copy_X=True, fit_intercept=True, n_jobs=None, normalize=False)"
            ]
          },
          "metadata": {
            "tags": []
          },
          "execution_count": 58
        }
      ]
    },
    {
      "cell_type": "code",
      "metadata": {
        "id": "ToSyH62bYdKm",
        "colab_type": "code",
        "colab": {}
      },
      "source": [
        "y_pred = regressor.predict(X_test)"
      ],
      "execution_count": 0,
      "outputs": []
    },
    {
      "cell_type": "code",
      "metadata": {
        "id": "adXUdIYtZsXP",
        "colab_type": "code",
        "colab": {
          "base_uri": "https://localhost:8080/",
          "height": 34
        },
        "outputId": "d4a86ff8-28ea-4489-f0b2-c58e06b001bd"
      },
      "source": [
        "#calculo rmse\n",
        "\n",
        "rmse = np.sqrt(np.mean((y_test - y_pred)**2))\n",
        "print(rmse)"
      ],
      "execution_count": 61,
      "outputs": [
        {
          "output_type": "stream",
          "text": [
            "9137.990152794953\n"
          ],
          "name": "stdout"
        }
      ]
    },
    {
      "cell_type": "code",
      "metadata": {
        "id": "xYJ6NlccbMBE",
        "colab_type": "code",
        "colab": {}
      },
      "source": [
        ""
      ],
      "execution_count": 0,
      "outputs": []
    }
  ]
}