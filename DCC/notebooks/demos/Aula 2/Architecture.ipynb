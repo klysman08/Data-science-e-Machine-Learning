{
 "cells": [
  {
   "cell_type": "markdown",
   "metadata": {},
   "source": [
    "# Defining an Architecture"
   ]
  },
  {
   "cell_type": "code",
   "execution_count": null,
   "metadata": {
    "collapsed": true
   },
   "outputs": [],
   "source": [
    "from skimage import io\n",
    "from skimage import transform\n",
    "\n",
    "import numpy as np\n",
    "import torch\n",
    "import torch.nn as nn\n",
    "import torch.nn.functional as F"
   ]
  },
  {
   "cell_type": "markdown",
   "metadata": {},
   "source": [
    "## Extending a Module\n",
    "\n",
    "A customized neural network is implemented as a class that extends the superclass $nn.Module$. The most common methods are $\\_\\_init\\_\\_()$ and $forward()$."
   ]
  },
  {
   "cell_type": "code",
   "execution_count": null,
   "metadata": {
    "collapsed": true
   },
   "outputs": [],
   "source": [
    "# Customized Network.\n",
    "class CustomNetwork(nn.Module):\n",
    "    \n",
    "    def __init__(self, in_channels, num_classes=2):\n",
    "\n",
    "        super(CustomNetwork, self).__init__()\n",
    "\n",
    "        self.features = nn.Sequential(\n",
    "            nn.Conv2d(in_channels, 4, 3, 1, 1),\n",
    "            nn.BatchNorm2d(4),\n",
    "            nn.ReLU(inplace=True),\n",
    "            nn.MaxPool2d(2, stride=2), # 256 -> 128\n",
    "\n",
    "            nn.Conv2d(4, 8, 3, 1, 1),\n",
    "            nn.MaxPool2d(2, stride=2),\n",
    "            nn.BatchNorm2d(8),\n",
    "            nn.ReLU(inplace=True), # 128 -> 64\n",
    "\n",
    "            nn.Conv2d(8, 16, 3, 1, 1),\n",
    "            nn.MaxPool2d(2, stride=2),\n",
    "            nn.BatchNorm2d(16),\n",
    "            nn.ReLU(inplace=True), # 64 -> 32\n",
    "\n",
    "            nn.Conv2d(16, 32, 3, 1, 1),\n",
    "            nn.MaxPool2d(2, stride=2),\n",
    "            nn.BatchNorm2d(32),\n",
    "            nn.ReLU(inplace=True), # 32 -> 16\n",
    "\n",
    "            nn.Conv2d(32, 32, 1, 1, 0),\n",
    "            nn.MaxPool2d(2, stride=2),\n",
    "            nn.BatchNorm2d(32),\n",
    "            nn.ReLU(inplace=True), # 16 -> 8\n",
    "\n",
    "            nn.Conv2d(32, 16, 1, 1, 0),\n",
    "            nn.MaxPool2d(2, stride=2),\n",
    "            nn.BatchNorm2d(16),\n",
    "            nn.ReLU(inplace=True), # 8 -> 4\n",
    "        )\n",
    "\n",
    "        self.classifier = nn.Sequential(\n",
    "            nn.Linear(16 * 4 * 4, 256),\n",
    "            nn.ReLU(True),\n",
    "            nn.Dropout(),\n",
    "            nn.Linear(256, 128),\n",
    "            nn.ReLU(True),\n",
    "            nn.Dropout(),\n",
    "            nn.Linear(128, num_classes),\n",
    "        )\n",
    "        \n",
    "        self.initialize_weights()\n",
    "    \n",
    "    def initialize_weights(self):\n",
    "        for m in self.modules():\n",
    "            if isinstance(m, nn.Conv2d):\n",
    "                nn.init.kaiming_normal_(m.weight, mode='fan_out', nonlinearity='relu')\n",
    "                if m.bias is not None:\n",
    "                    nn.init.constant_(m.bias, 0)\n",
    "            elif isinstance(m, nn.BatchNorm2d):\n",
    "                nn.init.constant_(m.weight, 1)\n",
    "                nn.init.constant_(m.bias, 0)\n",
    "            elif isinstance(m, nn.Linear):\n",
    "                nn.init.normal_(m.weight, 0, 0.01)\n",
    "                nn.init.constant_(m.bias, 0)\n",
    "                \n",
    "    def forward(self, x):\n",
    "        \n",
    "        # Feature extraction.\n",
    "        x = self.features(x)\n",
    "        #print('feats: ', x.size())\n",
    "        \n",
    "        # Changing tensor shape.\n",
    "        x = x.view(x.size(0), -1)\n",
    "        #print('new view: ', x.size())\n",
    "        \n",
    "        # Classification.\n",
    "        x = self.classifier(x)\n",
    "        #print('class: ', x.size())\n",
    "        \n",
    "        return x"
   ]
  },
  {
   "cell_type": "markdown",
   "metadata": {},
   "source": [
    "## Loading image.\n",
    "\n",
    "Image load can be done using any image library. Pytorch has a direct link with the $PIL$ library."
   ]
  },
  {
   "cell_type": "code",
   "execution_count": null,
   "metadata": {},
   "outputs": [],
   "source": [
    "# Loading image, resizing to 256x256 and normalizing.\n",
    "img = io.imread('../../../data/lena.png')\n",
    "img = transform.resize(img, (256, 256)).astype(np.float32)\n",
    "if len(img.shape) > 2:\n",
    "    img = img[:,:,0]\n",
    "img = (img - img.mean()) / img.std()\n",
    "\n",
    "print(img.shape)"
   ]
  },
  {
   "cell_type": "markdown",
   "metadata": {},
   "source": [
    "## From ndarray to tensor\n",
    "\n",
    "If one choses an image lib that loads images as ndarrays (such as $scikit-image$), transforming to tensor prior to feeding the image to the network is necessary."
   ]
  },
  {
   "cell_type": "code",
   "execution_count": null,
   "metadata": {},
   "outputs": [],
   "source": [
    "# Transforming to tensor.\n",
    "tensor = torch.from_numpy(img)\n",
    "tensor = tensor.unsqueeze(0)\n",
    "tensor = tensor.unsqueeze(0)\n",
    "# tensor = tensor.cuda() # For GPU casting.\n",
    "\n",
    "print(tensor.size())\n",
    "print(tensor)"
   ]
  },
  {
   "cell_type": "markdown",
   "metadata": {},
   "source": [
    "## Forwarding tensor\n",
    "\n",
    "Forwarding tensor through network."
   ]
  },
  {
   "cell_type": "code",
   "execution_count": null,
   "metadata": {},
   "outputs": [],
   "source": [
    "# Forwarding image.\n",
    "in_channels = 1\n",
    "num_classes = 2\n",
    "\n",
    "net = CustomNetwork(in_channels, num_classes)\n",
    "# net = CustomNetwork(in_channels, num_classes).cuda() # For GPU casting.\n",
    "\n",
    "output = net(tensor)\n",
    "prob = F.softmax(output)\n",
    "\n",
    "print('output: ', output)\n",
    "print('class probabilities: ', prob)"
   ]
  },
  {
   "cell_type": "code",
   "execution_count": null,
   "metadata": {
    "collapsed": true
   },
   "outputs": [],
   "source": []
  }
 ],
 "metadata": {
  "kernelspec": {
   "display_name": "Python 3",
   "language": "python",
   "name": "python3"
  },
  "language_info": {
   "codemirror_mode": {
    "name": "ipython",
    "version": 3
   },
   "file_extension": ".py",
   "mimetype": "text/x-python",
   "name": "python",
   "nbconvert_exporter": "python",
   "pygments_lexer": "ipython3",
   "version": "3.6.5"
  }
 },
 "nbformat": 4,
 "nbformat_minor": 2
}
