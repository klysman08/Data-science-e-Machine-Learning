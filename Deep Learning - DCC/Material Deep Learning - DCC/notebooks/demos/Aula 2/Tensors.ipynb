{
 "cells": [
  {
   "cell_type": "markdown",
   "metadata": {},
   "source": [
    "# Tensors\n",
    "\n",
    "\n",
    "A $torch.Tensor$ is a multi-dimensional matrix containing elements of a single data type. More information on tensors can be found in <https://pytorch.org/docs/stable/tensors.html>."
   ]
  },
  {
   "cell_type": "code",
   "execution_count": null,
   "metadata": {},
   "outputs": [],
   "source": [
    "import torch\n",
    "\n",
    "import torch.nn as nn\n",
    "\n",
    "print('###')\n",
    "tns = torch.Tensor([[1, 2, 3], [4, 5, 6]])\n",
    "print(tns.size())\n",
    "print(tns)\n",
    "\n",
    "print('###')\n",
    "tns = torch.FloatTensor([[1, 2, 3], [4, 5, 6]])\n",
    "print(tns.size())\n",
    "print(tns)\n",
    "\n",
    "print('###')\n",
    "tns = torch.LongTensor([[1, 2, 3], [4, 5, 6]])\n",
    "print(tns.size())\n",
    "print(tns)\n",
    "\n",
    "print('###')\n",
    "tns = torch.ByteTensor([[0, 0, 1], [1, 0, 0]])\n",
    "print(tns.size())\n",
    "print(tns)\n",
    "\n",
    "print('###')\n",
    "tns = torch.IntTensor([[1, 2, 3], [4, 5, 6]])\n",
    "print(tns.size())\n",
    "print(tns)\n",
    "\n",
    "print('###')\n",
    "tns = torch.DoubleTensor([[[1, 2, 3], [4, 5, 6]], [[7, 8, 9], [10, 11, 12]]])\n",
    "print(tns.size())\n",
    "print(tns)"
   ]
  },
  {
   "cell_type": "markdown",
   "metadata": {},
   "source": [
    "## Indexing"
   ]
  },
  {
   "cell_type": "code",
   "execution_count": null,
   "metadata": {},
   "outputs": [],
   "source": [
    "print('size: ', tns.size())\n",
    "\n",
    "print('tns: ', tns)\n",
    "\n",
    "print('tns[0, 1, 1]: ', tns[0, 1, 1])\n",
    "tns[0, 1, 1] = 20\n",
    "print('tns[0, 1, 1]: ', tns[0, 1, 1])\n",
    "print('tns[0, :, 1]: ', tns[:, 1, 1])\n",
    "\n",
    "print('tns[0, 1, 1] > 10: ', (tns[0, 1, 1] > 10))\n",
    "print('tns[0, 1, 1].item() > 10: ', (tns[0, 1, 1].item() > 10))"
   ]
  },
  {
   "cell_type": "markdown",
   "metadata": {},
   "source": [
    "## Other tensor creation methods\n",
    "\n",
    "$torch.from\\_numpy()$ -> Creates a tensor based on an ndarray.\n",
    "\n",
    "$torch.ones()$ -> Creates a tensor filled with ones.\n",
    "\n",
    "$torch.zeros()$ -> Creates a tensor filled with zeros."
   ]
  },
  {
   "cell_type": "code",
   "execution_count": null,
   "metadata": {},
   "outputs": [],
   "source": [
    "import numpy as np\n",
    "\n",
    "arr = np.array([[1, 2, 4], [8, 16, 32]])\n",
    "np_tns = torch.from_numpy(arr)\n",
    "\n",
    "ones = torch.ones((4, 5))\n",
    "zeros = torch.zeros((4, 5))\n",
    "\n",
    "print('arr: ', arr)\n",
    "print('tns: ', np_tns)\n",
    "\n",
    "print('ones: ', ones)\n",
    "print('zeros: ', zeros)"
   ]
  },
  {
   "cell_type": "markdown",
   "metadata": {},
   "source": [
    "## GPU\n",
    "Casting a tensor $tns$ to a GPU requires only calling: $tns.cuda()$. If a specific GPU is required, the method $tns.to()$ should be used."
   ]
  },
  {
   "cell_type": "code",
   "execution_count": null,
   "metadata": {},
   "outputs": [],
   "source": [
    "torch.ones([2, 4]).cuda()\n",
    "\n",
    "cuda0 = torch.device('cuda:0')\n",
    "torch.ones([2, 4], dtype=torch.float64, device=cuda0)"
   ]
  },
  {
   "cell_type": "markdown",
   "metadata": {},
   "source": [
    "## Automatic Differentiation\n",
    "The parameter $requires\\_grad$ controls if a tensor is intended to be used to compute gradients in backpropagation or not."
   ]
  },
  {
   "cell_type": "code",
   "execution_count": null,
   "metadata": {},
   "outputs": [],
   "source": [
    "tns = torch.tensor([[1., -1.], [1., 1.]], requires_grad=True)\n",
    "out = tns.pow(2).sum()\n",
    "out.backward()\n",
    "print(tns)\n",
    "print(tns.grad)"
   ]
  }
 ],
 "metadata": {
  "kernelspec": {
   "display_name": "Python 3",
   "language": "python",
   "name": "python3"
  },
  "language_info": {
   "codemirror_mode": {
    "name": "ipython",
    "version": 3
   },
   "file_extension": ".py",
   "mimetype": "text/x-python",
   "name": "python",
   "nbconvert_exporter": "python",
   "pygments_lexer": "ipython3",
   "version": "3.6.5"
  }
 },
 "nbformat": 4,
 "nbformat_minor": 2
}
