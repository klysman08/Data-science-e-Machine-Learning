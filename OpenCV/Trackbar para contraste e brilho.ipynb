{
 "cells": [
  {
   "cell_type": "raw",
   "metadata": {},
   "source": [
    "Importando bibliotecas"
   ]
  },
  {
   "cell_type": "code",
   "execution_count": 19,
   "metadata": {},
   "outputs": [],
   "source": [
    "from __future__ import print_function\n",
    "import cv2\n",
    "import numpy as np\n",
    "from matplotlib import pyplot as plt\n",
    "from builtins import input\n",
    "import argparse"
   ]
  },
  {
   "cell_type": "raw",
   "metadata": {},
   "source": [
    "Lendo uma imagem"
   ]
  },
  {
   "cell_type": "code",
   "execution_count": 42,
   "metadata": {},
   "outputs": [],
   "source": [
    "img = cv2.imread('image.jpg',1)"
   ]
  },
  {
   "cell_type": "raw",
   "metadata": {},
   "source": [
    "Separando canais e juntando novamente com \"split\" e \"merge\""
   ]
  },
  {
   "cell_type": "code",
   "execution_count": 22,
   "metadata": {},
   "outputs": [],
   "source": [
    "b,g,r = cv2.split(img)\n",
    "img_BRG = cv2.merge((b,g,r))\n",
    "\n",
    "cv2.imshow('image2',img_BRG)\n",
    "cv2.waitKey(0)\n",
    "cv2.destroyAllWindows()"
   ]
  },
  {
   "cell_type": "raw",
   "metadata": {},
   "source": [
    "Extraindo canais RGB de uma imagem (azul)"
   ]
  },
  {
   "cell_type": "code",
   "execution_count": 11,
   "metadata": {},
   "outputs": [
    {
     "name": "stdout",
     "output_type": "stream",
     "text": [
      "(500, 500, 3)\n"
     ]
    }
   ],
   "source": [
    "b,g,r = cv2.split(img)\n",
    "mzero=np.zeros(b.shape,np.uint8)\n",
    "img_B = cv2.merge((b,mzero,mzero))\n",
    "cv2.imshow('imageB',img_B)\n",
    "\n",
    "cv2.waitKey(0)\n",
    "cv2.destroyAllWindows()\n",
    "print (img_B.shape)"
   ]
  },
  {
   "cell_type": "raw",
   "metadata": {},
   "source": [
    "Alternativamente:"
   ]
  },
  {
   "cell_type": "code",
   "execution_count": 14,
   "metadata": {},
   "outputs": [
    {
     "name": "stdout",
     "output_type": "stream",
     "text": [
      "(500, 500, 3)\n"
     ]
    }
   ],
   "source": [
    "img_B2 = img.copy()\n",
    "img_B2[:, :, 1] = 0\n",
    "img_B2[:, :, 2] = 0\n",
    "cv2.imshow('imageB2', img_B2)\n",
    "\n",
    "cv2.waitKey(0)\n",
    "cv2.destroyAllWindows()\n",
    "print (img_B2.shape)"
   ]
  },
  {
   "cell_type": "raw",
   "metadata": {},
   "source": [
    "Salvar uma imagem:"
   ]
  },
  {
   "cell_type": "code",
   "execution_count": null,
   "metadata": {},
   "outputs": [],
   "source": [
    "cv2.imwrite(\"ImagemSalva.jpg\", img)"
   ]
  },
  {
   "cell_type": "raw",
   "metadata": {},
   "source": [
    "Criar duas trackbar para mudar contraste e brilho:"
   ]
  },
  {
   "cell_type": "code",
   "execution_count": 40,
   "metadata": {},
   "outputs": [],
   "source": [
    "img = cv2.imread('image.jpg',1)\n",
    "new_img = np.zeros(img.shape, img.dtype)\n",
    "\n",
    "#os valores máximos de alpha e beta dependem um do outro, assim como dependem da equação g(i,j)=α⋅f(i,j)+β. Além disso,\n",
    "#g(i,j) deve estar no intervalo entre 0 e 255.\n",
    "\n",
    "alpha_slider_max = 100\n",
    "beta_slider_max = 100\n",
    "title_window = 'Contraste e brilho'\n",
    "\n",
    "def on_trackbar(alpha):\n",
    "    alpha = alpha + 1\n",
    "    beta = 0\n",
    "    new_img = cv2.convertScaleAbs(img, alpha=alpha, beta=beta)\n",
    "    cv2.imshow(title_window, new_img)\n",
    "\n",
    "cv2.namedWindow(title_window)\n",
    "trackbar_name = 'Alpha'\n",
    "cv2.createTrackbar(trackbar_name, title_window , 0, alpha_slider_max, on_trackbar)   \n",
    "    \n",
    "def on_trackbar2(beta):\n",
    "    alpha = 1\n",
    "    beta = beta+1\n",
    "    new_img = cv2.convertScaleAbs(img, alpha=alpha, beta=beta)\n",
    "    cv2.imshow(title_window, new_img)\n",
    "\n",
    "cv2.namedWindow(title_window)\n",
    "trackbar_name = 'Beta'\n",
    "cv2.createTrackbar(trackbar_name, title_window , 0, beta_slider_max, on_trackbar2) \n",
    "\n",
    "cv2.waitKey(0)\n",
    "cv2.destroyAllWindows()"
   ]
  },
  {
   "cell_type": "raw",
   "metadata": {},
   "source": [
    "Alternativamente, a trackbar poderia ser feita por um loop de for, porém o custo computacional é maior. Ficaria assim:"
   ]
  },
  {
   "cell_type": "code",
   "execution_count": null,
   "metadata": {},
   "outputs": [],
   "source": [
    "def on_trackbar(val):\n",
    "    alpha = val / alpha_slider_max\n",
    "    beta = 0\n",
    "    for y in range(img.shape[0]):\n",
    "        for x in range(img.shape[1]):\n",
    "            for c in range(img.shape[2]):\n",
    "                new_img[y,x,c] = np.clip(alpha*img[y,x,c] + beta, 0, 255)\n",
    "    cv2.imshow(title_window, new_img)\n",
    "\n",
    "cv2.namedWindow(title_window)\n",
    "trackbar_name = 'Alpha x %d' % alpha_slider_max\n",
    "cv2.createTrackbar(trackbar_name, title_window , 0, alpha_slider_max, on_trackbar)  "
   ]
  }
 ],
 "metadata": {
  "kernelspec": {
   "display_name": "Python 3",
   "language": "python",
   "name": "python3"
  },
  "language_info": {
   "codemirror_mode": {
    "name": "ipython",
    "version": 3
   },
   "file_extension": ".py",
   "mimetype": "text/x-python",
   "name": "python",
   "nbconvert_exporter": "python",
   "pygments_lexer": "ipython3",
   "version": "3.7.4"
  }
 },
 "nbformat": 4,
 "nbformat_minor": 2
}
