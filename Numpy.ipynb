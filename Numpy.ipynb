{
  "nbformat": 4,
  "nbformat_minor": 0,
  "metadata": {
    "colab": {
      "name": "Numpy.ipynb",
      "version": "0.3.2",
      "provenance": [],
      "toc_visible": true
    },
    "kernelspec": {
      "name": "python3",
      "display_name": "Python 3"
    }
  },
  "cells": [
    {
      "cell_type": "markdown",
      "metadata": {
        "id": "VOis4O6JIMnX",
        "colab_type": "text"
      },
      "source": [
        "##O NumPy é uma poderosa biblioteca Python que é usada principalmente para realizar cálculos em Arrays multidimensionais. O NumPy fornece um grande conjunto de funções e operações de biblioteca que ajudam os programadores a executar facilmente cálculos numéricos."
      ]
    },
    {
      "cell_type": "code",
      "metadata": {
        "id": "yt_b7gRlGfw2",
        "colab_type": "code",
        "colab": {}
      },
      "source": [
        "import numpy as np"
      ],
      "execution_count": 0,
      "outputs": []
    },
    {
      "cell_type": "code",
      "metadata": {
        "id": "UyWipu2fHITk",
        "colab_type": "code",
        "colab": {
          "base_uri": "https://localhost:8080/",
          "height": 33
        },
        "outputId": "8455e22f-a912-4b6e-9661-c8bdda971a96"
      },
      "source": [
        "a = np.array([1,2,3,4,5,])\n",
        "#Cria um array a partir de uma lista\n",
        "\n",
        "mat = np.array([[2,2],[8,3]])\n",
        "mat\n",
        "#Cria uma matriz \n",
        "\n",
        "mat[:][1]\n",
        "#Acesar o elemento de nxn"
      ],
      "execution_count": 243,
      "outputs": [
        {
          "output_type": "execute_result",
          "data": {
            "text/plain": [
              "array([8, 3])"
            ]
          },
          "metadata": {
            "tags": []
          },
          "execution_count": 243
        }
      ]
    },
    {
      "cell_type": "code",
      "metadata": {
        "id": "yhyJ-q52HYU6",
        "colab_type": "code",
        "colab": {
          "base_uri": "https://localhost:8080/",
          "height": 50
        },
        "outputId": "33aee7e2-7526-41c5-975d-eb25608b2793"
      },
      "source": [
        "mat.transpose() \n",
        "#Imprime a transposta da matriz. mat.T() também funciona"
      ],
      "execution_count": 244,
      "outputs": [
        {
          "output_type": "execute_result",
          "data": {
            "text/plain": [
              "array([[2, 8],\n",
              "       [2, 3]])"
            ]
          },
          "metadata": {
            "tags": []
          },
          "execution_count": 244
        }
      ]
    },
    {
      "cell_type": "code",
      "metadata": {
        "id": "3ZVSAmBGIsgW",
        "colab_type": "code",
        "colab": {
          "base_uri": "https://localhost:8080/",
          "height": 33
        },
        "outputId": "b5ce017d-1e03-420a-f6b4-30b2b13d1467"
      },
      "source": [
        "mat.sum()\n",
        "#Soma os elementos do array"
      ],
      "execution_count": 245,
      "outputs": [
        {
          "output_type": "execute_result",
          "data": {
            "text/plain": [
              "15"
            ]
          },
          "metadata": {
            "tags": []
          },
          "execution_count": 245
        }
      ]
    },
    {
      "cell_type": "code",
      "metadata": {
        "id": "ze0n_xdCKKzA",
        "colab_type": "code",
        "colab": {
          "base_uri": "https://localhost:8080/",
          "height": 33
        },
        "outputId": "814f7902-06da-41f7-b908-9c6d6cc40b12"
      },
      "source": [
        "mat.argmax()\n",
        "#mat.argmin()\n",
        "#Obtem o maior valor e menor valor do array"
      ],
      "execution_count": 246,
      "outputs": [
        {
          "output_type": "execute_result",
          "data": {
            "text/plain": [
              "2"
            ]
          },
          "metadata": {
            "tags": []
          },
          "execution_count": 246
        }
      ]
    },
    {
      "cell_type": "code",
      "metadata": {
        "id": "3UGoxsZCLQW2",
        "colab_type": "code",
        "colab": {
          "base_uri": "https://localhost:8080/",
          "height": 33
        },
        "outputId": "a43e16fc-662b-4783-aef4-144284903293"
      },
      "source": [
        "lista = np.arange(1, 10000)\n",
        "lista\n",
        "#Cria um array de 0 a 10000 pulando de 1 em 1"
      ],
      "execution_count": 247,
      "outputs": [
        {
          "output_type": "execute_result",
          "data": {
            "text/plain": [
              "array([   1,    2,    3, ..., 9997, 9998, 9999])"
            ]
          },
          "metadata": {
            "tags": []
          },
          "execution_count": 247
        }
      ]
    },
    {
      "cell_type": "code",
      "metadata": {
        "id": "w_5pT5teL0WE",
        "colab_type": "code",
        "colab": {}
      },
      "source": [
        "lista = lista[::500]\n",
        "#Fatiamento de array. Vai do primeiro ao ultimo elemento da lista pulando de 500 em 500"
      ],
      "execution_count": 0,
      "outputs": []
    },
    {
      "cell_type": "code",
      "metadata": {
        "id": "bjN8JKqmMcl4",
        "colab_type": "code",
        "colab": {}
      },
      "source": [
        "lista2 = lista.copy()\n",
        "#Copia os elementos da lista1 para a lista2"
      ],
      "execution_count": 0,
      "outputs": []
    },
    {
      "cell_type": "code",
      "metadata": {
        "id": "tyFlMAXrNM9i",
        "colab_type": "code",
        "colab": {
          "base_uri": "https://localhost:8080/",
          "height": 33
        },
        "outputId": "80e8574e-b47e-458e-d5e3-2fa806e18904"
      },
      "source": [
        "lista2.shape\n",
        "#A função shape me fornece a dimensão do array"
      ],
      "execution_count": 250,
      "outputs": [
        {
          "output_type": "execute_result",
          "data": {
            "text/plain": [
              "(20,)"
            ]
          },
          "metadata": {
            "tags": []
          },
          "execution_count": 250
        }
      ]
    },
    {
      "cell_type": "code",
      "metadata": {
        "id": "HZpptJAvQnie",
        "colab_type": "code",
        "colab": {
          "base_uri": "https://localhost:8080/",
          "height": 66
        },
        "outputId": "d6254117-a49a-4979-844d-40c82a3434fa"
      },
      "source": [
        "a = np.arange(1,12,2).reshape((3,2))\n",
        "#Trasforma o array de uma dimensão e 6 elementos em uma matriz de 3 linhas e 2 colunas\n",
        "a"
      ],
      "execution_count": 251,
      "outputs": [
        {
          "output_type": "execute_result",
          "data": {
            "text/plain": [
              "array([[ 1,  3],\n",
              "       [ 5,  7],\n",
              "       [ 9, 11]])"
            ]
          },
          "metadata": {
            "tags": []
          },
          "execution_count": 251
        }
      ]
    },
    {
      "cell_type": "code",
      "metadata": {
        "id": "x53V3VPwQvt5",
        "colab_type": "code",
        "colab": {
          "base_uri": "https://localhost:8080/",
          "height": 33
        },
        "outputId": "8f2bbc6c-4a29-41c0-a771-a5de0a8b5467"
      },
      "source": [
        "a[1][1]\n",
        "#Exibe o elemento na posição indicada\n",
        "a.item(4)\n",
        "#Interpreta a matriz como uma unica dimensão e exibe o valor na posição escolhida"
      ],
      "execution_count": 252,
      "outputs": [
        {
          "output_type": "execute_result",
          "data": {
            "text/plain": [
              "9"
            ]
          },
          "metadata": {
            "tags": []
          },
          "execution_count": 252
        }
      ]
    },
    {
      "cell_type": "code",
      "metadata": {
        "id": "s29HFKl3iebK",
        "colab_type": "code",
        "colab": {
          "base_uri": "https://localhost:8080/",
          "height": 33
        },
        "outputId": "50bab595-7cb0-4189-e7ce-d939596e7415"
      },
      "source": [
        "np.unique(a)\n",
        "#Retorna os elementos que aparecem pelo menos 1 vez"
      ],
      "execution_count": 280,
      "outputs": [
        {
          "output_type": "execute_result",
          "data": {
            "text/plain": [
              "array([ 1,  3,  5,  7,  9, 11])"
            ]
          },
          "metadata": {
            "tags": []
          },
          "execution_count": 280
        }
      ]
    },
    {
      "cell_type": "markdown",
      "metadata": {
        "id": "g_tkWyIPhNjK",
        "colab_type": "text"
      },
      "source": [
        "## Visualizando dados com matplotlib"
      ]
    },
    {
      "cell_type": "code",
      "metadata": {
        "id": "K-YZcTLHSW8q",
        "colab_type": "code",
        "colab": {}
      },
      "source": [
        "import matplotlib.pyplot as plt\n",
        "%matplotlib inline"
      ],
      "execution_count": 0,
      "outputs": []
    },
    {
      "cell_type": "code",
      "metadata": {
        "id": "zEUiHddShZup",
        "colab_type": "code",
        "colab": {
          "base_uri": "https://localhost:8080/",
          "height": 285
        },
        "outputId": "a747954c-7d31-484f-877d-180a0b30baf6"
      },
      "source": [
        "salario = np.array([100,150,100,200,500,150,200,10,400])\n",
        "plt.plot(salario, marker='s')"
      ],
      "execution_count": 254,
      "outputs": [
        {
          "output_type": "execute_result",
          "data": {
            "text/plain": [
              "[<matplotlib.lines.Line2D at 0x7fa225e3b358>]"
            ]
          },
          "metadata": {
            "tags": []
          },
          "execution_count": 254
        },
        {
          "output_type": "display_data",
          "data": {
            "image/png": "[encoded data removed]",
            "text/plain": [
              "<Figure size 432x288 with 1 Axes>"
            ]
          },
          "metadata": {
            "tags": []
          }
        }
      ]
    },
    {
      "cell_type": "code",
      "metadata": {
        "id": "4qxMi4lWhvE3",
        "colab_type": "code",
        "colab": {}
      },
      "source": [
        "salario2 = np.arange(100,500,50)"
      ],
      "execution_count": 0,
      "outputs": []
    },
    {
      "cell_type": "code",
      "metadata": {
        "id": "HVHLVbcgia8E",
        "colab_type": "code",
        "colab": {
          "base_uri": "https://localhost:8080/",
          "height": 268
        },
        "outputId": "2d9824f5-cb14-4c0d-aa2f-0c60a6a50e2f"
      },
      "source": [
        "plt.plot(salario2, marker='s', label='Salarios 1')\n",
        "plt.plot(salario, c='red' , ls='--', marker='s', label='Salarios 2')\n",
        "plt.legend() #Cria legenda das curvas. Os dados devem ter uma label\n",
        "plt.show()"
      ],
      "execution_count": 256,
      "outputs": [
        {
          "output_type": "display_data",
          "data": {
            "image/png": "[encoded data removed]",
            "text/plain": [
              "<Figure size 432x288 with 1 Axes>"
            ]
          },
          "metadata": {
            "tags": []
          }
        }
      ]
    },
    {
      "cell_type": "code",
      "metadata": {
        "id": "LYz5KKhVieLl",
        "colab_type": "code",
        "colab": {
          "base_uri": "https://localhost:8080/",
          "height": 33
        },
        "outputId": "41843570-2681-444b-e101-babc9bf473f0"
      },
      "source": [
        "np.insert(salario, 1, 100)\n",
        "#Função para inserir um novo elemento em uma dada posição em um conjunto de dados"
      ],
      "execution_count": 257,
      "outputs": [
        {
          "output_type": "execute_result",
          "data": {
            "text/plain": [
              "array([100, 100, 150, 100, 200, 500, 150, 200,  10, 400])"
            ]
          },
          "metadata": {
            "tags": []
          },
          "execution_count": 257
        }
      ]
    },
    {
      "cell_type": "code",
      "metadata": {
        "id": "GDdkrB5ql30c",
        "colab_type": "code",
        "colab": {
          "base_uri": "https://localhost:8080/",
          "height": 50
        },
        "outputId": "ebbd9dd7-0b63-478d-e3b0-d6207b0c92d3"
      },
      "source": [
        "np.insert(mat, 1, 5, axis=1)\n",
        "#Insere na matriz mat, na posição 1 e no eixo axis (coluna) 1 o elemento 5"
      ],
      "execution_count": 258,
      "outputs": [
        {
          "output_type": "execute_result",
          "data": {
            "text/plain": [
              "array([[2, 5, 2],\n",
              "       [8, 5, 3]])"
            ]
          },
          "metadata": {
            "tags": []
          },
          "execution_count": 258
        }
      ]
    },
    {
      "cell_type": "code",
      "metadata": {
        "id": "yIM5RiXRmvna",
        "colab_type": "code",
        "colab": {
          "base_uri": "https://localhost:8080/",
          "height": 66
        },
        "outputId": "56eb5219-4491-41e5-bd63-ba56fa49e347"
      },
      "source": [
        "np.insert(mat, 0, 8, axis=0)\n",
        "#Insere na matriz mat, na posição 0 e na linha 0 o elemento 8"
      ],
      "execution_count": 259,
      "outputs": [
        {
          "output_type": "execute_result",
          "data": {
            "text/plain": [
              "array([[8, 8],\n",
              "       [2, 2],\n",
              "       [8, 3]])"
            ]
          },
          "metadata": {
            "tags": []
          },
          "execution_count": 259
        }
      ]
    },
    {
      "cell_type": "code",
      "metadata": {
        "id": "gh_nof7wny_4",
        "colab_type": "code",
        "colab": {}
      },
      "source": [
        "c = np.append(mat, [[5,6]])\n",
        "#O metodo append retorna uma copia do array com os valores novos anexados\n"
      ],
      "execution_count": 0,
      "outputs": []
    },
    {
      "cell_type": "code",
      "metadata": {
        "id": "AoHF-iPUrNpM",
        "colab_type": "code",
        "colab": {
          "base_uri": "https://localhost:8080/",
          "height": 50
        },
        "outputId": "d2db7991-ed30-4d19-ec42-5e0ed92129fd"
      },
      "source": [
        "c.reshape(2,3)"
      ],
      "execution_count": 261,
      "outputs": [
        {
          "output_type": "execute_result",
          "data": {
            "text/plain": [
              "array([[2, 2, 8],\n",
              "       [3, 5, 6]])"
            ]
          },
          "metadata": {
            "tags": []
          },
          "execution_count": 261
        }
      ]
    },
    {
      "cell_type": "code",
      "metadata": {
        "id": "4eWxBaZJrRqS",
        "colab_type": "code",
        "colab": {
          "base_uri": "https://localhost:8080/",
          "height": 100
        },
        "outputId": "89cdd4d6-5aa4-48c6-e25e-e3c333afe69f"
      },
      "source": [
        "d = np.random.rand(5,5)*10\n",
        "#Gera um matriz de valores aleatorios nas dimensões 5x5\n",
        "d"
      ],
      "execution_count": 262,
      "outputs": [
        {
          "output_type": "execute_result",
          "data": {
            "text/plain": [
              "array([[2.16010158, 2.20723552, 3.7274695 , 0.44322423, 4.66313106],\n",
              "       [5.23783133, 5.74516092, 5.69648768, 0.44413832, 7.590701  ],\n",
              "       [9.15236746, 1.26918082, 7.71991415, 4.50095477, 9.177776  ],\n",
              "       [0.20846249, 2.27953373, 5.73844536, 8.25605187, 8.23868945],\n",
              "       [3.48305262, 3.57477025, 9.06086867, 4.25505216, 7.83755056]])"
            ]
          },
          "metadata": {
            "tags": []
          },
          "execution_count": 262
        }
      ]
    },
    {
      "cell_type": "code",
      "metadata": {
        "id": "COpm0N2lBTp2",
        "colab_type": "code",
        "colab": {
          "base_uri": "https://localhost:8080/",
          "height": 100
        },
        "outputId": "62cc43bd-0a5f-4b6b-a82e-e909b5695666"
      },
      "source": [
        "np.delete(d, 4,axis = 1)\n",
        "#Deleta a 4º coluna da matriz. axis 0 para dimensão x(linha) e axis 1 para dimensão y (coluna)"
      ],
      "execution_count": 263,
      "outputs": [
        {
          "output_type": "execute_result",
          "data": {
            "text/plain": [
              "array([[2.16010158, 2.20723552, 3.7274695 , 0.44322423],\n",
              "       [5.23783133, 5.74516092, 5.69648768, 0.44413832],\n",
              "       [9.15236746, 1.26918082, 7.71991415, 4.50095477],\n",
              "       [0.20846249, 2.27953373, 5.73844536, 8.25605187],\n",
              "       [3.48305262, 3.57477025, 9.06086867, 4.25505216]])"
            ]
          },
          "metadata": {
            "tags": []
          },
          "execution_count": 263
        }
      ]
    },
    {
      "cell_type": "code",
      "metadata": {
        "id": "kh_l57RPBWu3",
        "colab_type": "code",
        "colab": {
          "base_uri": "https://localhost:8080/",
          "height": 50
        },
        "outputId": "1e637359-0e54-4170-ebe7-684382963eee"
      },
      "source": [
        "np.delete(d, np.s_[::2], axis=0)\n",
        "#Dada a matriz, deleta as linhas pulando de 2 em 2"
      ],
      "execution_count": 264,
      "outputs": [
        {
          "output_type": "execute_result",
          "data": {
            "text/plain": [
              "array([[5.23783133, 5.74516092, 5.69648768, 0.44413832, 7.590701  ],\n",
              "       [0.20846249, 2.27953373, 5.73844536, 8.25605187, 8.23868945]])"
            ]
          },
          "metadata": {
            "tags": []
          },
          "execution_count": 264
        }
      ]
    },
    {
      "cell_type": "code",
      "metadata": {
        "id": "YWHdv_I_CkIE",
        "colab_type": "code",
        "colab": {
          "base_uri": "https://localhost:8080/",
          "height": 268
        },
        "outputId": "3df9ccf3-be30-47b4-88be-e70763251b41"
      },
      "source": [
        "image = np.random.rand(30, 30)*10\n",
        "plt.imshow(image, cmap=plt.cm.jet)    \n",
        "plt.colorbar()    \n",
        "plt.show()"
      ],
      "execution_count": 265,
      "outputs": [
        {
          "output_type": "display_data",
          "data": {
            "image/png": "[encoded data removed]",
            "text/plain": [
              "<Figure size 432x288 with 2 Axes>"
            ]
          },
          "metadata": {
            "tags": []
          }
        }
      ]
    },
    {
      "cell_type": "code",
      "metadata": {
        "id": "97N4MQZuCyiM",
        "colab_type": "code",
        "colab": {
          "base_uri": "https://localhost:8080/",
          "height": 66
        },
        "outputId": "f0a901f9-a3d8-4fb7-cabe-a25a2db4b636"
      },
      "source": [
        " np.eye(3)\n",
        "#Cria uma matriz identidade 3x3"
      ],
      "execution_count": 266,
      "outputs": [
        {
          "output_type": "execute_result",
          "data": {
            "text/plain": [
              "array([[1., 0., 0.],\n",
              "       [0., 1., 0.],\n",
              "       [0., 0., 1.]])"
            ]
          },
          "metadata": {
            "tags": []
          },
          "execution_count": 266
        }
      ]
    },
    {
      "cell_type": "code",
      "metadata": {
        "id": "cEYut81IDp47",
        "colab_type": "code",
        "colab": {
          "base_uri": "https://localhost:8080/",
          "height": 50
        },
        "outputId": "2873e46e-4e6e-48a2-f039-96ded4a106d2"
      },
      "source": [
        "g = np.random.rand(2,2)\n",
        "g"
      ],
      "execution_count": 267,
      "outputs": [
        {
          "output_type": "execute_result",
          "data": {
            "text/plain": [
              "array([[0.62743114, 0.5606832 ],\n",
              "       [0.19461817, 0.52190756]])"
            ]
          },
          "metadata": {
            "tags": []
          },
          "execution_count": 267
        }
      ]
    },
    {
      "cell_type": "code",
      "metadata": {
        "id": "jGxulwrNEYuL",
        "colab_type": "code",
        "colab": {
          "base_uri": "https://localhost:8080/",
          "height": 83
        },
        "outputId": "0ce7f7d0-b2e4-4683-a497-d9216926f1a5"
      },
      "source": [
        "g = np.repeat(g, 2 )\n",
        "#Duplica os elementos de g em dois, sequencialmente\n",
        "g = np.reshape(g, (4,2))\n",
        "print(g)"
      ],
      "execution_count": 268,
      "outputs": [
        {
          "output_type": "stream",
          "text": [
            "[[0.62743114 0.62743114]\n",
            " [0.5606832  0.5606832 ]\n",
            " [0.19461817 0.19461817]\n",
            " [0.52190756 0.52190756]]\n"
          ],
          "name": "stdout"
        }
      ]
    },
    {
      "cell_type": "code",
      "metadata": {
        "id": "-o96qSojFwla",
        "colab_type": "code",
        "colab": {
          "base_uri": "https://localhost:8080/",
          "height": 83
        },
        "outputId": "1743a9d2-9448-48ff-936f-df1228e9f733"
      },
      "source": [
        "g1 = np.repeat(g, 2, axis=1)\n",
        "g1\n",
        "#Duplica os elementos 2 vezes e duas novas colunas"
      ],
      "execution_count": 269,
      "outputs": [
        {
          "output_type": "execute_result",
          "data": {
            "text/plain": [
              "array([[0.62743114, 0.62743114, 0.62743114, 0.62743114],\n",
              "       [0.5606832 , 0.5606832 , 0.5606832 , 0.5606832 ],\n",
              "       [0.19461817, 0.19461817, 0.19461817, 0.19461817],\n",
              "       [0.52190756, 0.52190756, 0.52190756, 0.52190756]])"
            ]
          },
          "metadata": {
            "tags": []
          },
          "execution_count": 269
        }
      ]
    },
    {
      "cell_type": "code",
      "metadata": {
        "id": "hnuB3x-JF9LK",
        "colab_type": "code",
        "colab": {
          "base_uri": "https://localhost:8080/",
          "height": 66
        },
        "outputId": "e68a54a9-dad0-4683-c01d-d947c91f604d"
      },
      "source": [
        "g2 = np.array_split(g1, 2, axis=0)\n",
        "print(g2)\n",
        "#Divide a matriz em dois, no index 2 pelas linnha"
      ],
      "execution_count": 270,
      "outputs": [
        {
          "output_type": "stream",
          "text": [
            "[array([[0.62743114, 0.62743114, 0.62743114, 0.62743114],\n",
            "       [0.5606832 , 0.5606832 , 0.5606832 , 0.5606832 ]]), array([[0.19461817, 0.19461817, 0.19461817, 0.19461817],\n",
            "       [0.52190756, 0.52190756, 0.52190756, 0.52190756]])]\n"
          ],
          "name": "stdout"
        }
      ]
    },
    {
      "cell_type": "code",
      "metadata": {
        "id": "EffgnSPmHFrP",
        "colab_type": "code",
        "colab": {}
      },
      "source": [
        "f0 = np.zeros((5,5))\n",
        "f1 = np.ones((4,4))\n",
        "#Cria uma matriz 5x5 com zeros ou ums"
      ],
      "execution_count": 0,
      "outputs": []
    },
    {
      "cell_type": "code",
      "metadata": {
        "id": "wr_lCgqoJY_F",
        "colab_type": "code",
        "colab": {
          "base_uri": "https://localhost:8080/",
          "height": 50
        },
        "outputId": "948e901e-0116-442a-a236-ba5c85ba5377"
      },
      "source": [
        "h = np.random.rand(3,3)*10\n",
        "h[h>4]\n",
        "#Imprime um array dada a condição entre couchetes - Indexação booleana"
      ],
      "execution_count": 272,
      "outputs": [
        {
          "output_type": "execute_result",
          "data": {
            "text/plain": [
              "array([7.58628699, 5.48049093, 5.78161496, 8.76932077, 8.30572459,\n",
              "       5.81996553, 6.27536317])"
            ]
          },
          "metadata": {
            "tags": []
          },
          "execution_count": 272
        }
      ]
    },
    {
      "cell_type": "code",
      "metadata": {
        "id": "TRcu57dvKIK7",
        "colab_type": "code",
        "colab": {
          "base_uri": "https://localhost:8080/",
          "height": 66
        },
        "outputId": "6d2589ac-f5a3-4e44-dc07-88c4e5ab6e08"
      },
      "source": [
        "idx = (h>5)\n",
        "idx\n",
        "##Imprime um array dada a condição entre couchetes - Indexação booleana"
      ],
      "execution_count": 273,
      "outputs": [
        {
          "output_type": "execute_result",
          "data": {
            "text/plain": [
              "array([[False,  True,  True],\n",
              "       [ True,  True,  True],\n",
              "       [False,  True,  True]])"
            ]
          },
          "metadata": {
            "tags": []
          },
          "execution_count": 273
        }
      ]
    },
    {
      "cell_type": "markdown",
      "metadata": {
        "id": "-Hk6e-xfZW8O",
        "colab_type": "text"
      },
      "source": [
        "##Carregando dados de arquivos"
      ]
    },
    {
      "cell_type": "code",
      "metadata": {
        "id": "U5q-sArmKbv6",
        "colab_type": "code",
        "colab": {}
      },
      "source": [
        "val1, val2, val3 = np.loadtxt('dados.txt', skiprows=1, unpack=True)\n",
        "#Recebe os valores do arquivo em armazena nas calunas de val123"
      ],
      "execution_count": 0,
      "outputs": []
    },
    {
      "cell_type": "code",
      "metadata": {
        "id": "MFwPHQiCZsy6",
        "colab_type": "code",
        "colab": {}
      },
      "source": [
        "my_array = np.genfromtxt('dados2.txt', skip_header=1, filling_values = 000)\n",
        "#Recebe os dados do arquivo e amarzena na variavel, caso haja dados faltantes, a função filling preenche com valores 0"
      ],
      "execution_count": 0,
      "outputs": []
    },
    {
      "cell_type": "code",
      "metadata": {
        "id": "bgq3ktEwbF_o",
        "colab_type": "code",
        "colab": {
          "base_uri": "https://localhost:8080/",
          "height": 83
        },
        "outputId": "b887a18f-4c99-4132-aeae-43d6ec6a039e"
      },
      "source": [
        "my_array"
      ],
      "execution_count": 276,
      "outputs": [
        {
          "output_type": "execute_result",
          "data": {
            "text/plain": [
              "array([[0.1212  , 0.842   , 0.3672  ],\n",
              "       [0.      , 0.5422  , 0.34551 ],\n",
              "       [0.5661  , 0.932   , 0.      ],\n",
              "       [0.762   , 0.847361, 0.1538  ]])"
            ]
          },
          "metadata": {
            "tags": []
          },
          "execution_count": 276
        }
      ]
    },
    {
      "cell_type": "code",
      "metadata": {
        "id": "bYKeiYu3bR07",
        "colab_type": "code",
        "colab": {
          "base_uri": "https://localhost:8080/",
          "height": 166
        },
        "outputId": "5f6dfc39-279f-4e0a-843f-faead26ea0cc"
      },
      "source": [
        "i = np.random.rand(5,2)*10\n",
        "j = np.random.rand(4,2)*10\n",
        "\n",
        "juntos = np.concatenate((i,j), axis=0)\n",
        "#Junta os dois arrays em um. O numero de colunas do primeiro deve ser igual ao numero de colunas da segunda\n",
        "juntos"
      ],
      "execution_count": 277,
      "outputs": [
        {
          "output_type": "execute_result",
          "data": {
            "text/plain": [
              "array([[7.90809425, 4.90256596],\n",
              "       [1.49547958, 5.1342976 ],\n",
              "       [6.43280747, 7.51100432],\n",
              "       [1.99414077, 3.00645901],\n",
              "       [4.17981907, 7.67166012],\n",
              "       [2.40203263, 8.62535094],\n",
              "       [8.89989962, 2.30712749],\n",
              "       [6.31906198, 0.30221803],\n",
              "       [0.9396036 , 3.2533514 ]])"
            ]
          },
          "metadata": {
            "tags": []
          },
          "execution_count": 277
        }
      ]
    },
    {
      "cell_type": "code",
      "metadata": {
        "id": "PLISEu3ib1G-",
        "colab_type": "code",
        "colab": {
          "base_uri": "https://localhost:8080/",
          "height": 166
        },
        "outputId": "9fec423c-b2cd-4056-f782-f97c2790d301"
      },
      "source": [
        "j = np.random.shuffle(juntos)\n",
        "juntos\n",
        "#Metodo que embaralha os elementos dentro da matriz"
      ],
      "execution_count": 278,
      "outputs": [
        {
          "output_type": "execute_result",
          "data": {
            "text/plain": [
              "array([[8.89989962, 2.30712749],\n",
              "       [4.17981907, 7.67166012],\n",
              "       [1.99414077, 3.00645901],\n",
              "       [7.90809425, 4.90256596],\n",
              "       [1.49547958, 5.1342976 ],\n",
              "       [0.9396036 , 3.2533514 ],\n",
              "       [2.40203263, 8.62535094],\n",
              "       [6.31906198, 0.30221803],\n",
              "       [6.43280747, 7.51100432]])"
            ]
          },
          "metadata": {
            "tags": []
          },
          "execution_count": 278
        }
      ]
    },
    {
      "cell_type": "code",
      "metadata": {
        "id": "oFOcH0I9dK18",
        "colab_type": "code",
        "colab": {
          "base_uri": "https://localhost:8080/",
          "height": 183
        },
        "outputId": "9b1a6149-603b-418d-de1f-2b32dededbd0"
      },
      "source": [
        "lin = np.linspace(0, 10, 50)\n",
        "lin\n",
        "#Gera um array dentro do intervalo 0 a 10 uniformimento espaçados pela quantidade definida, que neste faso é 50 valores."
      ],
      "execution_count": 279,
      "outputs": [
        {
          "output_type": "execute_result",
          "data": {
            "text/plain": [
              "array([ 0.        ,  0.20408163,  0.40816327,  0.6122449 ,  0.81632653,\n",
              "        1.02040816,  1.2244898 ,  1.42857143,  1.63265306,  1.83673469,\n",
              "        2.04081633,  2.24489796,  2.44897959,  2.65306122,  2.85714286,\n",
              "        3.06122449,  3.26530612,  3.46938776,  3.67346939,  3.87755102,\n",
              "        4.08163265,  4.28571429,  4.48979592,  4.69387755,  4.89795918,\n",
              "        5.10204082,  5.30612245,  5.51020408,  5.71428571,  5.91836735,\n",
              "        6.12244898,  6.32653061,  6.53061224,  6.73469388,  6.93877551,\n",
              "        7.14285714,  7.34693878,  7.55102041,  7.75510204,  7.95918367,\n",
              "        8.16326531,  8.36734694,  8.57142857,  8.7755102 ,  8.97959184,\n",
              "        9.18367347,  9.3877551 ,  9.59183673,  9.79591837, 10.        ])"
            ]
          },
          "metadata": {
            "tags": []
          },
          "execution_count": 279
        }
      ]
    },
    {
      "cell_type": "code",
      "metadata": {
        "id": "RLF-aNggeqtw",
        "colab_type": "code",
        "colab": {}
      },
      "source": [
        ""
      ],
      "execution_count": 0,
      "outputs": []
    }
  ]
}