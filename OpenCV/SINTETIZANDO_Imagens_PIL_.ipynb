{
  "nbformat": 4,
  "nbformat_minor": 0,
  "metadata": {
    "colab": {
      "name": "SINTETIZANDO Imagens - PIL .ipynb",
      "provenance": []
    },
    "kernelspec": {
      "name": "python3",
      "display_name": "Python 3"
    }
  },
  "cells": [
    {
      "cell_type": "code",
      "metadata": {
        "id": "dN2XjnNA-cOb",
        "colab_type": "code",
        "colab": {
          "base_uri": "https://localhost:8080/",
          "height": 344
        },
        "outputId": "8f46358d-dcbd-4fc6-b4fc-8eff39551aad"
      },
      "source": [
        "from PIL import Image\n",
        "import os\n",
        "\n",
        "INPUT_DIR = \"input\"\n",
        "OUTPUT_DIR = \"output\"\n",
        "\n",
        "\n",
        "def triangulo(size):\n",
        "    WHITE = (255, 255, 255)\n",
        "    BLACK = (0, 0, 0)\n",
        "\n",
        "    image = Image.new(\"RGB\", (size, size), WHITE)\n",
        "    for x in range(size):\n",
        "        for y in range(size):\n",
        "            if x < y:\n",
        "                image.putpixel((x,y), BLACK)\n",
        "    \n",
        "    return image\n",
        "\n",
        "\n",
        "def bandeira_franca(height):\n",
        "    WHITE = (255, 255, 255)\n",
        "    BLUE = (0, 85, 164)\n",
        "    RED = (239, 65, 53)\n",
        "    width = 3*height//2\n",
        "    offset = width//3\n",
        "\n",
        "    image = Image.new(\"RGB\", (width, height), WHITE)\n",
        "    for x in range(offset):\n",
        "        for y in range(height):\n",
        "            image.putpixel((x, y), BLUE)\n",
        "            image.putpixel((x + 2*offset, y), RED)\n",
        "\n",
        "    return image\n",
        "\n",
        "\n",
        "def bandeira_japao(height):\n",
        "    WHITE = (255, 255, 255)\n",
        "    RED = (173, 35, 51)\n",
        "    width = 3*height//2\n",
        "    r = 3*height//10\n",
        "    c = (width//2, height//2)\n",
        "\n",
        "    image = Image.new(\"RGB\", (width, height), WHITE)\n",
        "    for x in range(c[0]-r, c[0]+ r):\n",
        "        for y in range(c[1]-r, c[1]+ r):\n",
        "            if (x-c[0])**2 + (y-c[1])**2 <= r**2:\n",
        "                image.putpixel((x, y), RED)\n",
        "\n",
        "    return image\n",
        "\n",
        "\n",
        "if __name__ == \"__main__\":\n",
        "    teste = triangulo(700)\n",
        "    teste.save(os.path.join(OUTPUT_DIR, \"triangulo.jpg\"))\n",
        "    teste = bandeira_franca(700)\n",
        "    teste.save(os.path.join(OUTPUT_DIR, \"bandeira_franca.jpg\"))\n",
        "    teste = bandeira_japao(700)\n",
        "    teste.save(os.path.join(OUTPUT_DIR, \"bandeira_japao.jpg\"))\n",
        "    print(\"Imagem salvas na pasta {}\".format(OUTPUT_DIR))\n",
        "    teste.show()"
      ],
      "execution_count": 8,
      "outputs": [
        {
          "output_type": "error",
          "ename": "FileNotFoundError",
          "evalue": "ignored",
          "traceback": [
            "\u001b[0;31m---------------------------------------------------------------------------\u001b[0m",
            "\u001b[0;31mFileNotFoundError\u001b[0m                         Traceback (most recent call last)",
            "\u001b[0;32m<ipython-input-8-c04e8be14354>\u001b[0m in \u001b[0;36m<module>\u001b[0;34m()\u001b[0m\n\u001b[1;32m     53\u001b[0m \u001b[0;32mif\u001b[0m \u001b[0m__name__\u001b[0m \u001b[0;34m==\u001b[0m \u001b[0;34m\"__main__\"\u001b[0m\u001b[0;34m:\u001b[0m\u001b[0;34m\u001b[0m\u001b[0;34m\u001b[0m\u001b[0m\n\u001b[1;32m     54\u001b[0m     \u001b[0mteste\u001b[0m \u001b[0;34m=\u001b[0m \u001b[0mtriangulo\u001b[0m\u001b[0;34m(\u001b[0m\u001b[0;36m700\u001b[0m\u001b[0;34m)\u001b[0m\u001b[0;34m\u001b[0m\u001b[0;34m\u001b[0m\u001b[0m\n\u001b[0;32m---> 55\u001b[0;31m     \u001b[0mteste\u001b[0m\u001b[0;34m.\u001b[0m\u001b[0msave\u001b[0m\u001b[0;34m(\u001b[0m\u001b[0mos\u001b[0m\u001b[0;34m.\u001b[0m\u001b[0mpath\u001b[0m\u001b[0;34m.\u001b[0m\u001b[0mjoin\u001b[0m\u001b[0;34m(\u001b[0m\u001b[0mOUTPUT_DIR\u001b[0m\u001b[0;34m,\u001b[0m \u001b[0;34m\"triangulo.jpg\"\u001b[0m\u001b[0;34m)\u001b[0m\u001b[0;34m)\u001b[0m\u001b[0;34m\u001b[0m\u001b[0;34m\u001b[0m\u001b[0m\n\u001b[0m\u001b[1;32m     56\u001b[0m     \u001b[0mteste\u001b[0m \u001b[0;34m=\u001b[0m \u001b[0mbandeira_franca\u001b[0m\u001b[0;34m(\u001b[0m\u001b[0;36m700\u001b[0m\u001b[0;34m)\u001b[0m\u001b[0;34m\u001b[0m\u001b[0;34m\u001b[0m\u001b[0m\n\u001b[1;32m     57\u001b[0m     \u001b[0mteste\u001b[0m\u001b[0;34m.\u001b[0m\u001b[0msave\u001b[0m\u001b[0;34m(\u001b[0m\u001b[0mos\u001b[0m\u001b[0;34m.\u001b[0m\u001b[0mpath\u001b[0m\u001b[0;34m.\u001b[0m\u001b[0mjoin\u001b[0m\u001b[0;34m(\u001b[0m\u001b[0mOUTPUT_DIR\u001b[0m\u001b[0;34m,\u001b[0m \u001b[0;34m\"bandeira_franca.jpg\"\u001b[0m\u001b[0;34m)\u001b[0m\u001b[0;34m)\u001b[0m\u001b[0;34m\u001b[0m\u001b[0;34m\u001b[0m\u001b[0m\n",
            "\u001b[0;32m/usr/local/lib/python3.6/dist-packages/PIL/Image.py\u001b[0m in \u001b[0;36msave\u001b[0;34m(self, fp, format, **params)\u001b[0m\n\u001b[1;32m   2079\u001b[0m                 \u001b[0mfp\u001b[0m \u001b[0;34m=\u001b[0m \u001b[0mbuiltins\u001b[0m\u001b[0;34m.\u001b[0m\u001b[0mopen\u001b[0m\u001b[0;34m(\u001b[0m\u001b[0mfilename\u001b[0m\u001b[0;34m,\u001b[0m \u001b[0;34m\"r+b\"\u001b[0m\u001b[0;34m)\u001b[0m\u001b[0;34m\u001b[0m\u001b[0;34m\u001b[0m\u001b[0m\n\u001b[1;32m   2080\u001b[0m             \u001b[0;32melse\u001b[0m\u001b[0;34m:\u001b[0m\u001b[0;34m\u001b[0m\u001b[0;34m\u001b[0m\u001b[0m\n\u001b[0;32m-> 2081\u001b[0;31m                 \u001b[0mfp\u001b[0m \u001b[0;34m=\u001b[0m \u001b[0mbuiltins\u001b[0m\u001b[0;34m.\u001b[0m\u001b[0mopen\u001b[0m\u001b[0;34m(\u001b[0m\u001b[0mfilename\u001b[0m\u001b[0;34m,\u001b[0m \u001b[0;34m\"w+b\"\u001b[0m\u001b[0;34m)\u001b[0m\u001b[0;34m\u001b[0m\u001b[0;34m\u001b[0m\u001b[0m\n\u001b[0m\u001b[1;32m   2082\u001b[0m \u001b[0;34m\u001b[0m\u001b[0m\n\u001b[1;32m   2083\u001b[0m         \u001b[0;32mtry\u001b[0m\u001b[0;34m:\u001b[0m\u001b[0;34m\u001b[0m\u001b[0;34m\u001b[0m\u001b[0m\n",
            "\u001b[0;31mFileNotFoundError\u001b[0m: [Errno 2] No such file or directory: 'output/triangulo.jpg'"
          ]
        }
      ]
    },
    {
      "cell_type": "code",
      "metadata": {
        "id": "7UJxxkyn-eOS",
        "colab_type": "code",
        "colab": {}
      },
      "source": [
        ""
      ],
      "execution_count": 0,
      "outputs": []
    }
  ]
}