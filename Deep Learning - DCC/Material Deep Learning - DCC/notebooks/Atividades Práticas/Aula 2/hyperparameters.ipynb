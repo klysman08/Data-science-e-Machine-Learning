{
 "cells": [
  {
   "cell_type": "code",
   "execution_count": null,
   "metadata": {
    "collapsed": false
   },
   "outputs": [],
   "source": [
    "import numpy as np\n",
    "import matplotlib.pyplot as plt\n",
    "\n",
    "%matplotlib inline"
   ]
  },
  {
   "cell_type": "markdown",
   "metadata": {},
   "source": [
    "## Gerando Dados"
   ]
  },
  {
   "cell_type": "code",
   "execution_count": null,
   "metadata": {
    "collapsed": false
   },
   "outputs": [],
   "source": [
    "num_samples = 600\n",
    "class_A = [np.linspace(0,1,num_samples)-np.random.rand(num_samples), #X\n",
    "         np.linspace(0,1,num_samples)-np.random.rand(num_samples)] #Y\n",
    "\n",
    "class_B  = [np.linspace(1,2,num_samples)-np.random.rand(num_samples), #X\n",
    "         np.linspace(0,1,num_samples)-np.random.rand(num_samples)] #Y\n",
    "\n",
    "fig, ax = plt.subplots()\n",
    "ax.scatter(class_A[0], class_A[1])\n",
    "ax.scatter(class_B[0], class_B[1])\n",
    "\n",
    "X = np.append(class_A, class_B, axis=-1)\n",
    "Y = np.append(np.zeros(len(class_A[0]), dtype=float), np.ones(len(class_B[0]), dtype=float))\n",
    "\n",
    "from sklearn.model_selection import train_test_split\n",
    "\n",
    "X_train, X_test, Y_train, Y_test = train_test_split(X.T, Y, test_size=0.4)\n",
    "Y_train = np.expand_dims(Y_train, axis=-1)\n",
    "Y_test =  np.expand_dims(Y_test, axis=-1)"
   ]
  },
  {
   "cell_type": "markdown",
   "metadata": {},
   "source": [
    "## Construindo a rede"
   ]
  },
  {
   "cell_type": "code",
   "execution_count": null,
   "metadata": {
    "collapsed": true
   },
   "outputs": [],
   "source": [
    "def sigmoid(x):\n",
    "    return 1/(1+np.exp(-x))\n",
    "\n",
    "def sigmoid_derivative(x):\n",
    "    return x*(1-x)"
   ]
  },
  {
   "cell_type": "code",
   "execution_count": null,
   "metadata": {
    "collapsed": false
   },
   "outputs": [],
   "source": [
    "class NeuralNetwork:\n",
    "    def __init__(self, x, y, lr=1, num_units = 20):\n",
    "        self.input      = x\n",
    "        self.weights1   = np.random.rand(self.input.shape[1],num_units) \n",
    "        self.bias1      = np.random.rand(1, num_units)\n",
    "        self.weights2   = np.random.rand(num_units,1)\n",
    "        self.bias2      = np.random.random()\n",
    "        self.y          = y\n",
    "        self.output     = np.zeros(self.y.shape)\n",
    "        self.error      = np.zeros(self.y.shape)\n",
    "        \n",
    "        self.learning_rate = lr\n",
    "\n",
    "    def forward(self):\n",
    "        self.layer1 = sigmoid(np.dot(self.input, self.weights1)  + self.bias1)\n",
    "        self.output = sigmoid(np.dot(self.layer1, self.weights2) + self.bias2)\n",
    "\n",
    "    def backprop(self):\n",
    "        self.error = abs(self.y - self.output)\n",
    "        # Layer 2\n",
    "        delta2 = 2*(self.y - self.output) * sigmoid_derivative(self.output)\n",
    "        d_weights2 = np.dot(self.layer1.T, delta2)\n",
    "        d_bias2    = np.sum(delta2)\n",
    "        # Layer 1\n",
    "        delta1     = np.dot(delta2, self.weights2.T) * sigmoid_derivative(self.layer1)\n",
    "        d_weights1 = np.dot(self.input.T,  delta1)\n",
    "        d_bias1    = np.sum(delta1)\n",
    "        \n",
    "        # update the weights with the derivative (slope) of the loss function\n",
    "        self.weights1 += self.learning_rate * d_weights1\n",
    "        self.weights2 += self.learning_rate * d_weights2\n",
    "        self.bias1    += self.learning_rate * d_bias1\n",
    "        self.bias2    += self.learning_rate * d_bias2\n",
    "    \n",
    "    def calc_error(self, y):\n",
    "        return abs(y - self.output)\n",
    "        \n",
    "    def predict(self, x):\n",
    "        train_input = self.input\n",
    "        self.input = x\n",
    "        self.forward()\n",
    "        self.input = train_input\n",
    "        return self.output"
   ]
  },
  {
   "cell_type": "markdown",
   "metadata": {},
   "source": [
    "## Qual o efeito de alterar a taxa de aprendizado? (*learning rate*)"
   ]
  },
  {
   "cell_type": "code",
   "execution_count": null,
   "metadata": {
    "collapsed": false
   },
   "outputs": [],
   "source": [
    "########################\n",
    "learning_rates = [1]\n",
    "########################\n",
    "\n",
    "plt.figure(figsize=(10,7))\n",
    "for lr in learning_rates:\n",
    "    nn = NeuralNetwork(X_train, Y_train, lr=lr) \n",
    "    all_error = []\n",
    "    for i in range(1000):\n",
    "        nn.forward()\n",
    "        nn.backprop()\n",
    "        all_error.append(np.squeeze(nn.error))\n",
    "\n",
    "    plt.plot(range(len(all_error)), np.sum(all_error, axis=1) ,label=lr)\n",
    "\n",
    "plt.legend()\n",
    "plt.xlabel('epochs')\n",
    "plt.ylabel('error')\n",
    "plt.title('error')"
   ]
  },
  {
   "cell_type": "markdown",
   "metadata": {},
   "source": [
    "## Qual o efeito de alterar o número de unidades na camada escondida?\n",
    "**fixe a taxa de aprendizado para aquela de melhor desempenho na etapa anterior**"
   ]
  },
  {
   "cell_type": "code",
   "execution_count": null,
   "metadata": {
    "collapsed": false
   },
   "outputs": [],
   "source": [
    "########################\n",
    "lr = 1e-3\n",
    "num_units = [1,5,10,20]\n",
    "plt.figure(figsize=(10,7))\n",
    "\n",
    "for nu in num_units:\n",
    "    nn = NeuralNetwork(X_train, Y_train, lr=lr, num_units=nu) \n",
    "    all_error = []\n",
    "    for i in range(1000):\n",
    "        nn.forward()\n",
    "        nn.backprop()\n",
    "        all_error.append(np.squeeze(nn.error))\n",
    "\n",
    "    plt.plot(range(len(all_error)), np.sum(all_error, axis=1) ,label=nu)\n",
    "\n",
    "plt.legend()\n",
    "plt.xlabel('epochs')\n",
    "plt.ylabel('error')\n",
    "plt.title('Number of Units')"
   ]
  }
 ],
 "metadata": {
  "anaconda-cloud": {},
  "kernelspec": {
   "display_name": "Python [conda root]",
   "language": "python",
   "name": "conda-root-py"
  },
  "language_info": {
   "codemirror_mode": {
    "name": "ipython",
    "version": 2
   },
   "file_extension": ".py",
   "mimetype": "text/x-python",
   "name": "python",
   "nbconvert_exporter": "python",
   "pygments_lexer": "ipython2",
   "version": "2.7.14"
  }
 },
 "nbformat": 4,
 "nbformat_minor": 1
}
