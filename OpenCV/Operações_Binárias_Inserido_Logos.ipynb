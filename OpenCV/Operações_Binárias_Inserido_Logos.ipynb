{
  "nbformat": 4,
  "nbformat_minor": 0,
  "metadata": {
    "colab": {
      "name": "Operações Binárias - Inserido Logos.ipynb",
      "provenance": []
    },
    "kernelspec": {
      "name": "python3",
      "display_name": "Python 3"
    }
  },
  "cells": [
    {
      "cell_type": "code",
      "metadata": {
        "id": "kwgFslKuJIWK",
        "colab_type": "code",
        "colab": {}
      },
      "source": [
        "import numpy as np\n",
        "import cv2\n",
        "from google.colab.patches import cv2_imshow\n"
      ],
      "execution_count": 0,
      "outputs": []
    },
    {
      "cell_type": "markdown",
      "metadata": {
        "id": "rHrCYYcrKSlA",
        "colab_type": "text"
      },
      "source": [
        "##Função de redimencionar imagens"
      ]
    },
    {
      "cell_type": "code",
      "metadata": {
        "id": "8d9eKiJxJOdG",
        "colab_type": "code",
        "colab": {}
      },
      "source": [
        "def redimensionaImagem(image, tamanho):\n",
        "    altura, largura, _ = image.shape\n",
        "    return cv2.resize(image, (int(altura * tamanho), int(largura * tamanho)))"
      ],
      "execution_count": 0,
      "outputs": []
    },
    {
      "cell_type": "markdown",
      "metadata": {
        "id": "GyTrgCHcKWQ0",
        "colab_type": "text"
      },
      "source": [
        "##Carregando imagem e logo"
      ]
    },
    {
      "cell_type": "code",
      "metadata": {
        "id": "ODijoWhEJzgN",
        "colab_type": "code",
        "colab": {}
      },
      "source": [
        "#caregando o logo\n",
        "\n",
        "logo = cv2.imread(\"logo.png\")\n",
        "logo = redimensionaImagem(logo, 0.25)\n",
        "\n",
        "#carregando a imagem\n",
        "\n",
        "img = cv2.imread(\"klysman.jpg\")\n",
        "img = redimensionaImagem(img, 0.8)"
      ],
      "execution_count": 0,
      "outputs": []
    },
    {
      "cell_type": "markdown",
      "metadata": {
        "id": "AEw2Y0cBKaJM",
        "colab_type": "text"
      },
      "source": [
        "##Marcando a posição na onde a logo será inserida"
      ]
    },
    {
      "cell_type": "code",
      "metadata": {
        "id": "93oSV8a1KfFw",
        "colab_type": "code",
        "colab": {
          "base_uri": "https://localhost:8080/",
          "height": 177
        },
        "outputId": "f118103f-d1bc-4190-9ad3-b83d41511194"
      },
      "source": [
        "alturaLogo, larguraLogo, _ = logo.shape\n",
        "regiaoOndeFicaraOLogo = img[0:altura, 0:largura]"
      ],
      "execution_count": 9,
      "outputs": [
        {
          "output_type": "error",
          "ename": "NameError",
          "evalue": "ignored",
          "traceback": [
            "\u001b[0;31m---------------------------------------------------------------------------\u001b[0m",
            "\u001b[0;31mNameError\u001b[0m                                 Traceback (most recent call last)",
            "\u001b[0;32m<ipython-input-9-1b5e95c163d5>\u001b[0m in \u001b[0;36m<module>\u001b[0;34m()\u001b[0m\n\u001b[1;32m      1\u001b[0m \u001b[0malturaLogo\u001b[0m\u001b[0;34m,\u001b[0m \u001b[0mlarguraLogo\u001b[0m\u001b[0;34m,\u001b[0m \u001b[0m_\u001b[0m \u001b[0;34m=\u001b[0m \u001b[0mlogo\u001b[0m\u001b[0;34m.\u001b[0m\u001b[0mshape\u001b[0m\u001b[0;34m\u001b[0m\u001b[0;34m\u001b[0m\u001b[0m\n\u001b[0;32m----> 2\u001b[0;31m \u001b[0mregiaoOndeFicaraOLogo\u001b[0m \u001b[0;34m=\u001b[0m \u001b[0mimg\u001b[0m\u001b[0;34m[\u001b[0m\u001b[0;36m0\u001b[0m\u001b[0;34m:\u001b[0m\u001b[0maltura\u001b[0m\u001b[0;34m,\u001b[0m \u001b[0;36m0\u001b[0m\u001b[0;34m:\u001b[0m\u001b[0mlargura\u001b[0m\u001b[0;34m]\u001b[0m\u001b[0;34m\u001b[0m\u001b[0;34m\u001b[0m\u001b[0m\n\u001b[0m",
            "\u001b[0;31mNameError\u001b[0m: name 'altura' is not defined"
          ]
        }
      ]
    },
    {
      "cell_type": "markdown",
      "metadata": {
        "id": "GIpWXaI6Kyp8",
        "colab_type": "text"
      },
      "source": [
        "##Convertando a logo em preto e branco (Mascara)"
      ]
    },
    {
      "cell_type": "code",
      "metadata": {
        "id": "j9D2J-arK2dD",
        "colab_type": "code",
        "colab": {}
      },
      "source": [
        "logoPretoEBranco = cv2.cvtColor(logo, cv2.COLOR_BGR2GRAY)\n",
        "\n",
        "#limiarização/binarizacao do logo\n",
        "\n",
        "_, logoBinarizado = cv2.threshold(logoPretoEBranco, 150, 255, cv2.THRESH_BINARY_INV)"
      ],
      "execution_count": 0,
      "outputs": []
    },
    {
      "cell_type": "markdown",
      "metadata": {
        "id": "Lnak3F5LMGIL",
        "colab_type": "text"
      },
      "source": [
        "##Exibindo as imagens"
      ]
    },
    {
      "cell_type": "code",
      "metadata": {
        "id": "21LawYn3MJfr",
        "colab_type": "code",
        "colab": {
          "base_uri": "https://localhost:8080/",
          "height": 337
        },
        "outputId": "59a5f2b4-d0d6-4d5c-e1fe-fe4afbbbce64"
      },
      "source": [
        "cv2_imshow(logo)\n",
        "cv2_imshow(logoPretoEBranco)\n",
        "cv2_imshow(logoBinarizado)"
      ],
      "execution_count": 12,
      "outputs": [
        {
          "output_type": "display_data",
          "data": {
            "image/png": "[encoded data removed]",
            "text/plain": [
              "<PIL.Image.Image image mode=RGB size=94x107 at 0x7F2EB222A940>"
            ]
          },
          "metadata": {
            "tags": []
          }
        },
        {
          "output_type": "display_data",
          "data": {
            "image/png": "[encoded data removed]",
            "text/plain": [
              "<PIL.Image.Image image mode=L size=94x107 at 0x7F2EB222A8D0>"
            ]
          },
          "metadata": {
            "tags": []
          }
        },
        {
          "output_type": "display_data",
          "data": {
            "image/png": "[encoded data removed]",
            "text/plain": [
              "<PIL.Image.Image image mode=L size=94x107 at 0x7F2EB222A860>"
            ]
          },
          "metadata": {
            "tags": []
          }
        }
      ]
    },
    {
      "cell_type": "code",
      "metadata": {
        "id": "oqNzclIMMt5i",
        "colab_type": "code",
        "colab": {}
      },
      "source": [
        ""
      ],
      "execution_count": 0,
      "outputs": []
    }
  ]
}