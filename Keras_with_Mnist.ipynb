{
  "nbformat": 4,
  "nbformat_minor": 0,
  "metadata": {
    "colab": {
      "name": "Keras with Mnist.ipynb",
      "provenance": [],
      "include_colab_link": true
    },
    "kernelspec": {
      "name": "python3",
      "display_name": "Python 3"
    }
  },
  "cells": [
    {
      "cell_type": "markdown",
      "metadata": {
        "id": "view-in-github",
        "colab_type": "text"
      },
      "source": [
        "<a href=\"https://colab.research.google.com/github/klysman08/Machine-Learning/blob/master/Keras_with_Mnist.ipynb\" target=\"_parent\"><img src=\"https://colab.research.google.com/assets/colab-badge.svg\" alt=\"Open In Colab\"/></a>"
      ]
    },
    {
      "cell_type": "markdown",
      "metadata": {
        "id": "rloYV2I_EiJN",
        "colab_type": "text"
      },
      "source": [
        "### Carregando o modelo para aprendizado"
      ]
    },
    {
      "cell_type": "code",
      "metadata": {
        "id": "3YQUtZrgBlAy",
        "colab_type": "code",
        "colab": {}
      },
      "source": [
        "import tensorflow.keras as keras\n",
        "import numpy as np"
      ],
      "execution_count": 0,
      "outputs": []
    },
    {
      "cell_type": "code",
      "metadata": {
        "id": "HKKsfRLfBsr1",
        "colab_type": "code",
        "colab": {
          "base_uri": "https://localhost:8080/",
          "height": 33
        },
        "outputId": "f2bf5d4e-42ee-4f58-ad8c-8b55292e2932"
      },
      "source": [
        "import tensorflow as tf\n",
        "\n",
        "print(tf.__version__)"
      ],
      "execution_count": 27,
      "outputs": [
        {
          "output_type": "stream",
          "text": [
            "1.15.0\n"
          ],
          "name": "stdout"
        }
      ]
    },
    {
      "cell_type": "markdown",
      "metadata": {
        "id": "t56yMiWcEogT",
        "colab_type": "text"
      },
      "source": [
        "###Carregando o bando de dados e atribuindo o dataframe de trino e teste"
      ]
    },
    {
      "cell_type": "code",
      "metadata": {
        "id": "gPkWHy_WB3Yb",
        "colab_type": "code",
        "colab": {}
      },
      "source": [
        "mnist = tf.keras.datasets.mnist\n",
        "(x_train, y_train),(x_test, y_test) = mnist.load_data()"
      ],
      "execution_count": 0,
      "outputs": []
    },
    {
      "cell_type": "code",
      "metadata": {
        "id": "M1lgAACiCc5U",
        "colab_type": "code",
        "colab": {
          "base_uri": "https://localhost:8080/",
          "height": 264
        },
        "outputId": "e4e3d74a-2d82-417f-aaa8-76ef83c8ba32"
      },
      "source": [
        "import matplotlib.pyplot as plt\n",
        "\n",
        "plt.imshow(x_train[954],cmap=plt.cm.binary)\n",
        "plt.show()"
      ],
      "execution_count": 29,
      "outputs": [
        {
          "output_type": "display_data",
          "data": {
            "image/png": "[encoded data removed]",
            "text/plain": [
              "<Figure size 432x288 with 1 Axes>"
            ]
          },
          "metadata": {
            "tags": []
          }
        }
      ]
    },
    {
      "cell_type": "markdown",
      "metadata": {
        "id": "RqatAVeLEUNM",
        "colab_type": "text"
      },
      "source": [
        "### Normalizando os dados de entrada. Por se tratar de uma imagen, o correto é normalizar esses atributos de 0 a 255."
      ]
    },
    {
      "cell_type": "code",
      "metadata": {
        "id": "G1eWWURDDGGc",
        "colab_type": "code",
        "colab": {}
      },
      "source": [
        "x_train = tf.keras.utils.normalize(x_train, axis=1)\n",
        "x_test = tf.keras.utils.normalize(x_test, axis=1)"
      ],
      "execution_count": 0,
      "outputs": []
    },
    {
      "cell_type": "code",
      "metadata": {
        "id": "t2tSKkeZEhRj",
        "colab_type": "code",
        "colab": {
          "base_uri": "https://localhost:8080/",
          "height": 264
        },
        "outputId": "2216407b-a9d0-471f-e504-05fe04a49478"
      },
      "source": [
        "#Verificando se após a normalização o dado ainda corresponte a label correta. \n",
        "\n",
        "plt.imshow(x_train[954],cmap=plt.cm.binary)\n",
        "plt.show()"
      ],
      "execution_count": 31,
      "outputs": [
        {
          "output_type": "display_data",
          "data": {
            "image/png": "[encoded data removed]",
            "text/plain": [
              "<Figure size 432x288 with 1 Axes>"
            ]
          },
          "metadata": {
            "tags": []
          }
        }
      ]
    },
    {
      "cell_type": "markdown",
      "metadata": {
        "id": "04sz5orSG7_P",
        "colab_type": "text"
      },
      "source": [
        "###Criando um modelo sequecinal \n",
        "####É um tipo de modelo que aprende com o tempo."
      ]
    },
    {
      "cell_type": "code",
      "metadata": {
        "id": "EEKsojWvE6l5",
        "colab_type": "code",
        "colab": {}
      },
      "source": [
        "model = tf.keras.models.Sequential()"
      ],
      "execution_count": 0,
      "outputs": []
    },
    {
      "cell_type": "code",
      "metadata": {
        "id": "IhA-3yGHIQe-",
        "colab_type": "code",
        "colab": {}
      },
      "source": [
        "#Precisamos transformar essa imagem de 28x28 em um array de 1x784 (28 vezes 28)(valor proporcional a matriz 28x28)\n",
        "#O Keras tem uma função que faz isso.\n",
        "\n",
        "model.add(tf.keras.layers.Flatten())\n",
        "\n",
        "#Isso servirá como nossa camada de entrada. Irá pegar os dados e achatá-los.\n"
      ],
      "execution_count": 0,
      "outputs": []
    },
    {
      "cell_type": "markdown",
      "metadata": {
        "id": "8Lzs6TqDJuPh",
        "colab_type": "text"
      },
      "source": [
        "###Criando as camadas ocultas\n",
        "####Será uma camada densamente conectadas (totalmente conectada) - Cada nó da rede conecta a ao nó subsequente."
      ]
    },
    {
      "cell_type": "code",
      "metadata": {
        "id": "OnhpRMEDJLpt",
        "colab_type": "code",
        "colab": {}
      },
      "source": [
        "#Essa camada tem 128 nós. Sua função de ativação é a Relu (linear retificado) \n",
        "model.add(tf.keras.layers.Dense(128, activation=tf.nn.relu))\n",
        "\n",
        "#Acrescentando outra camada de mesmas dimensões\n",
        "\n",
        "model.add(tf.keras.layers.Dense(128, activation=tf.nn.relu))"
      ],
      "execution_count": 0,
      "outputs": []
    },
    {
      "cell_type": "markdown",
      "metadata": {
        "id": "_SUYiLM2KlZX",
        "colab_type": "text"
      },
      "source": [
        "####Camada de sáida"
      ]
    },
    {
      "cell_type": "code",
      "metadata": {
        "id": "qC64ef8fKnrY",
        "colab_type": "code",
        "colab": {}
      },
      "source": [
        "#Essa camada possui 10 nós. Um nó por previsão de qual será o numero. \n",
        "#A função softmax é semelhante a distribuição de probabilidade, de qual das possiveis opçoes de previsao esses dados que estamos passando é.\n",
        "model.add(tf.keras.layers.Dense(10, activation=tf.nn.softmax))"
      ],
      "execution_count": 0,
      "outputs": []
    },
    {
      "cell_type": "markdown",
      "metadata": {
        "id": "y3a0_I9vLU8U",
        "colab_type": "text"
      },
      "source": [
        "###Entendendo a rede"
      ]
    },
    {
      "cell_type": "code",
      "metadata": {
        "id": "YH3YDxwgLays",
        "colab_type": "code",
        "colab": {}
      },
      "source": [
        "#Como função de ativação temos o optimizer Adam (ótima opão para tratar grandes volumes de dados)\n",
        "#Loss: A rede, na verdade, nao tenta maximizar a precisão, Ela tenta minimizar a perda. Neste caso estamos utilizado a entropia cruzada categorica.\n",
        "\n",
        "model.compile(optimizer='adam',\n",
        "              loss='sparse_categorical_crossentropy',\n",
        "              metrics=['accuracy'])"
      ],
      "execution_count": 0,
      "outputs": []
    },
    {
      "cell_type": "markdown",
      "metadata": {
        "id": "Fy51las1MNj0",
        "colab_type": "text"
      },
      "source": [
        "###Treinando a rede"
      ]
    },
    {
      "cell_type": "code",
      "metadata": {
        "id": "ANyRMHHmMWq6",
        "colab_type": "code",
        "colab": {
          "base_uri": "https://localhost:8080/",
          "height": 453
        },
        "outputId": "145922cb-cc00-43c5-ccc5-3c5e55e2032a"
      },
      "source": [
        "#A medida que treinamos podemos ver a perda e a melhora da precisão.\n",
        "\n",
        "model.fit(x_train, y_train, epochs=10)\n",
        "\n",
        "#Obter alta precisao e baixo errr de perde pode significar que o modelo aprendeu a classificar bem (generalizou), ou simplesmente memorizou todos os exemplos (overfiting)\n",
        "#Por isso a necessidade de de testar com dados fora do treino."
      ],
      "execution_count": 37,
      "outputs": [
        {
          "output_type": "stream",
          "text": [
            "WARNING:tensorflow:From /usr/local/lib/python3.6/dist-packages/tensorflow_core/python/ops/resource_variable_ops.py:1630: calling BaseResourceVariable.__init__ (from tensorflow.python.ops.resource_variable_ops) with constraint is deprecated and will be removed in a future version.\n",
            "Instructions for updating:\n",
            "If using Keras pass *_constraint arguments to layers.\n",
            "Train on 60000 samples\n",
            "Epoch 1/10\n",
            "60000/60000 [==============================] - 5s 81us/sample - loss: 0.2633 - acc: 0.9239\n",
            "Epoch 2/10\n",
            "60000/60000 [==============================] - 5s 76us/sample - loss: 0.1054 - acc: 0.9678\n",
            "Epoch 3/10\n",
            "60000/60000 [==============================] - 4s 74us/sample - loss: 0.0712 - acc: 0.9780\n",
            "Epoch 4/10\n",
            "60000/60000 [==============================] - 4s 73us/sample - loss: 0.0522 - acc: 0.9833\n",
            "Epoch 5/10\n",
            "60000/60000 [==============================] - 4s 72us/sample - loss: 0.0391 - acc: 0.9873\n",
            "Epoch 6/10\n",
            "60000/60000 [==============================] - 5s 77us/sample - loss: 0.0311 - acc: 0.9898\n",
            "Epoch 7/10\n",
            "60000/60000 [==============================] - 5s 85us/sample - loss: 0.0242 - acc: 0.9919\n",
            "Epoch 8/10\n",
            "60000/60000 [==============================] - 4s 73us/sample - loss: 0.0203 - acc: 0.9931\n",
            "Epoch 9/10\n",
            "60000/60000 [==============================] - 4s 74us/sample - loss: 0.0183 - acc: 0.9932\n",
            "Epoch 10/10\n",
            "60000/60000 [==============================] - 4s 73us/sample - loss: 0.0141 - acc: 0.9952\n"
          ],
          "name": "stdout"
        },
        {
          "output_type": "execute_result",
          "data": {
            "text/plain": [
              "<tensorflow.python.keras.callbacks.History at 0x7f62c34ab2b0>"
            ]
          },
          "metadata": {
            "tags": []
          },
          "execution_count": 37
        }
      ]
    },
    {
      "cell_type": "code",
      "metadata": {
        "id": "Bfvr2nGiNJtj",
        "colab_type": "code",
        "colab": {
          "base_uri": "https://localhost:8080/",
          "height": 66
        },
        "outputId": "0b1eb2a6-6b94-4384-d6b8-25fe64edc65d"
      },
      "source": [
        "val_loss, val_acc = model.evaluate(x_test, y_test)\n",
        "print(val_loss)\n",
        "print(val_acc)"
      ],
      "execution_count": 39,
      "outputs": [
        {
          "output_type": "stream",
          "text": [
            "10000/10000 [==============================] - 0s 31us/sample - loss: 0.1137 - acc: 0.9735\n",
            "0.1136637788841006\n",
            "0.9735\n"
          ],
          "name": "stdout"
        }
      ]
    },
    {
      "cell_type": "markdown",
      "metadata": {
        "id": "L4Z6gJ5XQm_Q",
        "colab_type": "text"
      },
      "source": [
        "###Salvando o modelo descrito acima"
      ]
    },
    {
      "cell_type": "code",
      "metadata": {
        "id": "HW3Oa-scQNo3",
        "colab_type": "code",
        "colab": {}
      },
      "source": [
        "model.save('epic_num_reader.model')"
      ],
      "execution_count": 0,
      "outputs": []
    },
    {
      "cell_type": "markdown",
      "metadata": {
        "id": "d4rMeq9OQrDY",
        "colab_type": "text"
      },
      "source": [
        "###Carregando o modelo"
      ]
    },
    {
      "cell_type": "code",
      "metadata": {
        "id": "Q1a-go7FPqWp",
        "colab_type": "code",
        "colab": {
          "base_uri": "https://localhost:8080/",
          "height": 153
        },
        "outputId": "47e2545c-bc8e-4073-fbf3-2feef7f71e7a"
      },
      "source": [
        "new_model = tf.keras.models.load_model('epic_num_reader.model')"
      ],
      "execution_count": 43,
      "outputs": [
        {
          "output_type": "stream",
          "text": [
            "WARNING:tensorflow:From /usr/local/lib/python3.6/dist-packages/tensorflow_core/python/ops/init_ops.py:97: calling GlorotUniform.__init__ (from tensorflow.python.ops.init_ops) with dtype is deprecated and will be removed in a future version.\n",
            "Instructions for updating:\n",
            "Call initializer instance with the dtype argument instead of passing it to the constructor\n",
            "WARNING:tensorflow:From /usr/local/lib/python3.6/dist-packages/tensorflow_core/python/ops/init_ops.py:97: calling Zeros.__init__ (from tensorflow.python.ops.init_ops) with dtype is deprecated and will be removed in a future version.\n",
            "Instructions for updating:\n",
            "Call initializer instance with the dtype argument instead of passing it to the constructor\n",
            "WARNING:tensorflow:Sequential models without an `input_shape` passed to the first layer cannot reload their optimizer state. As a result, your model isstarting with a freshly initialized optimizer.\n"
          ],
          "name": "stdout"
        }
      ]
    },
    {
      "cell_type": "markdown",
      "metadata": {
        "id": "eLGMR_xgQv4o",
        "colab_type": "text"
      },
      "source": [
        "###Fazendo as previsões sobre os dados de teste"
      ]
    },
    {
      "cell_type": "code",
      "metadata": {
        "id": "hsJnbv6vPhir",
        "colab_type": "code",
        "colab": {}
      },
      "source": [
        "predictions = new_model.predict(x_test)"
      ],
      "execution_count": 0,
      "outputs": []
    },
    {
      "cell_type": "code",
      "metadata": {
        "id": "vZ7aXNzLPjvP",
        "colab_type": "code",
        "colab": {
          "base_uri": "https://localhost:8080/",
          "height": 233
        },
        "outputId": "387ad39f-23a6-4d36-a689-b96d8725f3a2"
      },
      "source": [
        "print(predictions)"
      ],
      "execution_count": 54,
      "outputs": [
        {
          "output_type": "stream",
          "text": [
            "[[1.2676237e-16 2.2966348e-13 4.4502536e-13 ... 1.0000000e+00\n",
            "  1.1319519e-15 2.6580065e-13]\n",
            " [1.2083252e-16 1.1802502e-10 1.0000000e+00 ... 2.8927876e-17\n",
            "  4.0480002e-17 3.7122571e-26]\n",
            " [2.7987720e-13 9.9999917e-01 2.3901952e-08 ... 4.9393100e-07\n",
            "  7.2129957e-08 1.1449299e-10]\n",
            " ...\n",
            " [1.0619353e-15 2.7978507e-13 5.6399868e-14 ... 4.3384745e-09\n",
            "  1.2098750e-12 7.4309170e-08]\n",
            " [1.9765383e-15 2.8792118e-18 7.3417419e-15 ... 4.0246947e-14\n",
            "  4.8126063e-09 3.1760831e-20]\n",
            " [9.8876463e-12 2.4717218e-15 1.8870723e-12 ... 1.1402027e-16\n",
            "  6.7491711e-12 1.2774677e-17]]\n"
          ],
          "name": "stdout"
        }
      ]
    },
    {
      "cell_type": "code",
      "metadata": {
        "id": "4QL4gp0qPmUH",
        "colab_type": "code",
        "colab": {
          "base_uri": "https://localhost:8080/",
          "height": 33
        },
        "outputId": "10b16a5f-35c1-47e6-dcfc-cad8e5705e9a"
      },
      "source": [
        "import numpy as np\n",
        "\n",
        "print(np.argmax(predictions[2356]))"
      ],
      "execution_count": 62,
      "outputs": [
        {
          "output_type": "stream",
          "text": [
            "1\n"
          ],
          "name": "stdout"
        }
      ]
    },
    {
      "cell_type": "code",
      "metadata": {
        "id": "JWpNWwgDQTmM",
        "colab_type": "code",
        "colab": {
          "base_uri": "https://localhost:8080/",
          "height": 264
        },
        "outputId": "48def7c2-f0e3-4d01-d42f-a1613306a6ca"
      },
      "source": [
        "plt.imshow(x_test[2356],cmap=plt.cm.binary)\n",
        "plt.show()"
      ],
      "execution_count": 63,
      "outputs": [
        {
          "output_type": "display_data",
          "data": {
            "image/png": "[encoded data removed]",
            "text/plain": [
              "<Figure size 432x288 with 1 Axes>"
            ]
          },
          "metadata": {
            "tags": []
          }
        }
      ]
    },
    {
      "cell_type": "code",
      "metadata": {
        "id": "VR5-QXh-RP03",
        "colab_type": "code",
        "colab": {}
      },
      "source": [
        ""
      ],
      "execution_count": 0,
      "outputs": []
    }
  ]
}