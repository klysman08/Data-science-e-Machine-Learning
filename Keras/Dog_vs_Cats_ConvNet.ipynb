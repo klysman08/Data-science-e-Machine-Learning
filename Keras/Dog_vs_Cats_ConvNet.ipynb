{
  "nbformat": 4,
  "nbformat_minor": 0,
  "metadata": {
    "kernelspec": {
      "name": "python3",
      "display_name": "Python 3"
    },
    "language_info": {
      "codemirror_mode": {
        "name": "ipython",
        "version": 3
      },
      "file_extension": ".py",
      "mimetype": "text/x-python",
      "name": "python",
      "nbconvert_exporter": "python",
      "pygments_lexer": "ipython3",
      "version": "3.7.4"
    },
    "toc": {
      "base_numbering": 1,
      "nav_menu": {},
      "number_sections": false,
      "sideBar": false,
      "skip_h1_title": false,
      "title_cell": "Table of Contents",
      "title_sidebar": "Contents",
      "toc_cell": false,
      "toc_position": {},
      "toc_section_display": false,
      "toc_window_display": false
    },
    "colab": {
      "name": "Dog_vs_Cats_ConvNet.ipynb",
      "provenance": []
    },
    "accelerator": "GPU"
  },
  "cells": [
    {
      "cell_type": "markdown",
      "metadata": {
        "id": "Jm6SU2qCJLs1",
        "colab_type": "text"
      },
      "source": [
        "# Importando modulos para rede neural"
      ]
    },
    {
      "cell_type": "code",
      "metadata": {
        "id": "7BqZ12MBYdJ5",
        "colab_type": "code",
        "colab": {}
      },
      "source": [
        "import tensorflow as tf\n",
        "from tensorflow.keras.datasets import cifar10\n",
        "from tensorflow.keras.preprocessing.image import ImageDataGenerator\n",
        "from tensorflow.keras.models import Sequential\n",
        "from tensorflow.keras.layers import Dense, Dropout, Activation, Flatten\n",
        "from tensorflow.keras.layers import Conv2D, MaxPooling2D\n",
        "# more info on callbakcs: https://keras.io/callbacks/ model saver is cool too.\n",
        "from tensorflow.keras.callbacks import TensorBoard\n",
        "import time\n",
        "\n",
        "import pickle\n",
        "import numpy as np"
      ],
      "execution_count": 0,
      "outputs": []
    },
    {
      "cell_type": "markdown",
      "metadata": {
        "id": "c9g1yHcHJTAq",
        "colab_type": "text"
      },
      "source": [
        "## Permite acessar arquivos direto do google drive"
      ]
    },
    {
      "cell_type": "code",
      "metadata": {
        "id": "u-6lf7rtYuBI",
        "colab_type": "code",
        "outputId": "93ce40ad-a10c-40fb-dd8c-dced9803f3ee",
        "colab": {
          "base_uri": "https://localhost:8080/",
          "height": 33
        }
      },
      "source": [
        "from google.colab import drive\n",
        "drive.mount('/content/drive')"
      ],
      "execution_count": 0,
      "outputs": [
        {
          "output_type": "stream",
          "text": [
            "Drive already mounted at /content/drive; to attempt to forcibly remount, call drive.mount(\"/content/drive\", force_remount=True).\n"
          ],
          "name": "stdout"
        }
      ]
    },
    {
      "cell_type": "code",
      "metadata": {
        "id": "5MoRlwMlYdJ-",
        "colab_type": "code",
        "colab": {}
      },
      "source": [
        "#'drive/My Drive/Machine Learning/Keras/Cats_Dogs_with_Keras/train.csv'\n",
        "\n",
        "pickle_in = open(\"drive/My Drive/Machine Learning/Keras/Cats_Dogs_with_Keras/X.pickle\",\"rb\")\n",
        "X = pickle.load(pickle_in)\n",
        "\n",
        "pickle_in = open(\"drive/My Drive/Machine Learning/Keras/Cats_Dogs_with_Keras/y.pickle\",\"rb\")\n",
        "y = pickle.load(pickle_in)\n",
        "\n",
        "X = X/255.0\n",
        "\n"
      ],
      "execution_count": 0,
      "outputs": []
    },
    {
      "cell_type": "code",
      "metadata": {
        "id": "OgJg5KMaYdKC",
        "colab_type": "code",
        "colab": {}
      },
      "source": [
        "NAME = \"Cats-vs-dogs-CNN\"\n",
        "\n",
        "tensorboard = TensorBoard(log_dir=\"logs/{}\".format(NAME))\n",
        "\n",
        "IMG_SIZE = 100\n",
        "\n",
        "X = np.array(X).reshape(-1, IMG_SIZE, IMG_SIZE, 1)\n",
        "\n",
        "y = np.array(y)"
      ],
      "execution_count": 0,
      "outputs": []
    },
    {
      "cell_type": "markdown",
      "metadata": {
        "id": "JBRvM6yGJc2w",
        "colab_type": "text"
      },
      "source": [
        "#Criando a rede"
      ]
    },
    {
      "cell_type": "code",
      "metadata": {
        "id": "7oYTAjqtYdKF",
        "colab_type": "code",
        "outputId": "fa5afb6c-a88c-4e35-c883-c278a45ab02b",
        "colab": {
          "base_uri": "https://localhost:8080/",
          "height": 366
        }
      },
      "source": [
        "model = Sequential()\n",
        "\n",
        "model.add(Conv2D(64, (3, 3), input_shape=X.shape[1:]))\n",
        "model.add(Activation('relu'))\n",
        "model.add(MaxPooling2D(pool_size=(2, 2)))\n",
        "\n",
        "model.add(Conv2D(64, (3, 3)))\n",
        "model.add(Activation('relu'))\n",
        "model.add(MaxPooling2D(pool_size=(2, 2)))\n",
        "\n",
        "model.add(Flatten())  # this converts our 3D feature maps to 1D feature vectors\n",
        "model.add(Dense(64))\n",
        "model.add(Activation('relu'))\n",
        "\n",
        "model.add(Dense(1))\n",
        "model.add(Activation('sigmoid'))\n",
        "\n",
        "tensorboard = TensorBoard(log_dir=\"logs/{}\".format(NAME))\n",
        "\n",
        "model.compile(loss='binary_crossentropy',\n",
        "              optimizer='adam',\n",
        "              metrics=['accuracy'])\n",
        "\n",
        "model.fit(X, y, batch_size=32, epochs=10, validation_split=0.3, callbacks=[tensorboard])"
      ],
      "execution_count": 0,
      "outputs": [
        {
          "output_type": "stream",
          "text": [
            "Epoch 1/10\n",
            "546/546 [==============================] - 8s 15ms/step - loss: 0.6671 - accuracy: 0.5958 - val_loss: 0.6334 - val_accuracy: 0.6446\n",
            "Epoch 2/10\n",
            "546/546 [==============================] - 7s 13ms/step - loss: 0.5886 - accuracy: 0.6886 - val_loss: 0.5529 - val_accuracy: 0.7238\n",
            "Epoch 3/10\n",
            "546/546 [==============================] - 7s 13ms/step - loss: 0.4824 - accuracy: 0.7673 - val_loss: 0.4855 - val_accuracy: 0.7695\n",
            "Epoch 4/10\n",
            "546/546 [==============================] - 7s 13ms/step - loss: 0.3933 - accuracy: 0.8196 - val_loss: 0.5072 - val_accuracy: 0.7622\n",
            "Epoch 5/10\n",
            "546/546 [==============================] - 7s 13ms/step - loss: 0.2927 - accuracy: 0.8734 - val_loss: 0.5243 - val_accuracy: 0.7672\n",
            "Epoch 6/10\n",
            "546/546 [==============================] - 7s 13ms/step - loss: 0.1780 - accuracy: 0.9313 - val_loss: 0.6017 - val_accuracy: 0.7680\n",
            "Epoch 7/10\n",
            "546/546 [==============================] - 7s 13ms/step - loss: 0.0947 - accuracy: 0.9668 - val_loss: 0.7564 - val_accuracy: 0.7607\n",
            "Epoch 8/10\n",
            "546/546 [==============================] - 7s 13ms/step - loss: 0.0490 - accuracy: 0.9851 - val_loss: 1.0021 - val_accuracy: 0.7650\n",
            "Epoch 9/10\n",
            "546/546 [==============================] - 7s 13ms/step - loss: 0.0255 - accuracy: 0.9935 - val_loss: 1.0931 - val_accuracy: 0.7572\n",
            "Epoch 10/10\n",
            "546/546 [==============================] - 7s 13ms/step - loss: 0.0205 - accuracy: 0.9947 - val_loss: 1.2462 - val_accuracy: 0.7659\n"
          ],
          "name": "stdout"
        },
        {
          "output_type": "execute_result",
          "data": {
            "text/plain": [
              "<tensorflow.python.keras.callbacks.History at 0x7f9a4e0710b8>"
            ]
          },
          "metadata": {
            "tags": []
          },
          "execution_count": 12
        }
      ]
    },
    {
      "cell_type": "code",
      "metadata": {
        "id": "jgS7FA18YdKJ",
        "colab_type": "code",
        "colab": {}
      },
      "source": [
        ""
      ],
      "execution_count": 0,
      "outputs": []
    }
  ]
}