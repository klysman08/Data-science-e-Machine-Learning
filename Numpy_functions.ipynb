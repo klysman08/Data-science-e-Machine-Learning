{
  "nbformat": 4,
  "nbformat_minor": 0,
  "metadata": {
    "kernelspec": {
      "display_name": "Python 2",
      "language": "python",
      "name": "python2"
    },
    "language_info": {
      "codemirror_mode": {
        "name": "ipython",
        "version": 2
      },
      "file_extension": ".py",
      "mimetype": "text/x-python",
      "name": "python",
      "nbconvert_exporter": "python",
      "pygments_lexer": "ipython2",
      "version": "2.7.15"
    },
    "colab": {
      "name": "Introduction_Numpy.ipynb",
      "version": "0.3.2",
      "provenance": [],
      "include_colab_link": true
    }
  },
  "cells": [
    {
      "cell_type": "markdown",
      "metadata": {
        "id": "view-in-github",
        "colab_type": "text"
      },
      "source": [
        "<a href=\"https://colab.research.google.com/github/klysman08/Machine-Learning/blob/master/Introduction_Numpy.ipynb\" target=\"_parent\"><img src=\"https://colab.research.google.com/assets/colab-badge.svg\" alt=\"Open In Colab\"/></a>"
      ]
    },
    {
      "cell_type": "markdown",
      "metadata": {
        "id": "dBjCJy4p0mKa",
        "colab_type": "text"
      },
      "source": [
        "# Numpy Tutorial."
      ]
    },
    {
      "cell_type": "markdown",
      "metadata": {
        "id": "Y81IMvdo0mKc",
        "colab_type": "text"
      },
      "source": [
        "## Importing numpy."
      ]
    },
    {
      "cell_type": "code",
      "metadata": {
        "id": "wrwJyXdk0mKd",
        "colab_type": "code",
        "colab": {}
      },
      "source": [
        "import numpy as np"
      ],
      "execution_count": 0,
      "outputs": []
    },
    {
      "cell_type": "markdown",
      "metadata": {
        "id": "Sh20u15M0mKg",
        "colab_type": "text"
      },
      "source": [
        "## Creating an ndarray from a list."
      ]
    },
    {
      "cell_type": "code",
      "metadata": {
        "id": "IrlqtPfU0mKh",
        "colab_type": "code",
        "colab": {},
        "outputId": "adda4407-03fe-41ed-e309-f9eaeb21bf6e"
      },
      "source": [
        "a = np.array([4, 3, 2, 1], dtype=np.int)\n",
        "\n",
        "print(a)"
      ],
      "execution_count": 0,
      "outputs": [
        {
          "output_type": "stream",
          "text": [
            "[4 3 2 1]\n"
          ],
          "name": "stdout"
        }
      ]
    },
    {
      "cell_type": "markdown",
      "metadata": {
        "id": "x7G_ZtRx0mKl",
        "colab_type": "text"
      },
      "source": [
        "## ndarray properties."
      ]
    },
    {
      "cell_type": "code",
      "metadata": {
        "id": "ePG6VfaP0mKm",
        "colab_type": "code",
        "colab": {},
        "outputId": "a19599c5-71c5-452d-ff40-386786210d50"
      },
      "source": [
        "print(a)\n",
        "print('a.ndim: ' + str(a.ndim))\n",
        "print('a.shape: ' + str(a.shape))\n",
        "print('a.dtype: ' + str(a.dtype))\n",
        "print('a.size: ' + str(a.size))\n",
        "print('type(a): ' + str(type(a)))"
      ],
      "execution_count": 0,
      "outputs": [
        {
          "output_type": "stream",
          "text": [
            "[4 3 2 1]\n",
            "a.ndim: 1\n",
            "a.shape: (4,)\n",
            "a.dtype: int64\n",
            "a.size: 4\n",
            "type(a): <type 'numpy.ndarray'>\n"
          ],
          "name": "stdout"
        }
      ]
    },
    {
      "cell_type": "markdown",
      "metadata": {
        "id": "m4q25Ocr0mKp",
        "colab_type": "text"
      },
      "source": [
        "## Ascending numbers."
      ]
    },
    {
      "cell_type": "code",
      "metadata": {
        "id": "ok1sIq3T0mKq",
        "colab_type": "code",
        "colab": {},
        "outputId": "16335cc8-df66-49ac-8129-55859a990c1c"
      },
      "source": [
        "a = np.arange(50)\n",
        "b = np.arange(20, 100, 10)\n",
        "\n",
        "print(a)\n",
        "print(b)"
      ],
      "execution_count": 0,
      "outputs": [
        {
          "output_type": "stream",
          "text": [
            "[ 0  1  2  3  4  5  6  7  8  9 10 11 12 13 14 15 16 17 18 19 20 21 22 23\n",
            " 24 25 26 27 28 29 30 31 32 33 34 35 36 37 38 39 40 41 42 43 44 45 46 47\n",
            " 48 49]\n",
            "[20 30 40 50 60 70 80 90]\n"
          ],
          "name": "stdout"
        }
      ]
    },
    {
      "cell_type": "markdown",
      "metadata": {
        "id": "Nn9GG8uj0mK0",
        "colab_type": "text"
      },
      "source": [
        "## Reshape."
      ]
    },
    {
      "cell_type": "code",
      "metadata": {
        "id": "l5wUu8nB0mK1",
        "colab_type": "code",
        "colab": {},
        "outputId": "7c8600c8-8f40-45a7-a1d3-4d23cbb83c7e"
      },
      "source": [
        "a = np.arange(50)\n",
        "a = a.reshape(5, 10)\n",
        "b = a.ravel()\n",
        "\n",
        "print(a)\n",
        "print(b)"
      ],
      "execution_count": 0,
      "outputs": [
        {
          "output_type": "stream",
          "text": [
            "[[ 0  1  2  3  4  5  6  7  8  9]\n",
            " [10 11 12 13 14 15 16 17 18 19]\n",
            " [20 21 22 23 24 25 26 27 28 29]\n",
            " [30 31 32 33 34 35 36 37 38 39]\n",
            " [40 41 42 43 44 45 46 47 48 49]]\n",
            "[ 0  1  2  3  4  5  6  7  8  9 10 11 12 13 14 15 16 17 18 19 20 21 22 23\n",
            " 24 25 26 27 28 29 30 31 32 33 34 35 36 37 38 39 40 41 42 43 44 45 46 47\n",
            " 48 49]\n"
          ],
          "name": "stdout"
        }
      ]
    },
    {
      "cell_type": "markdown",
      "metadata": {
        "id": "8JqV2W7I0mK4",
        "colab_type": "text"
      },
      "source": [
        "## Numerical Operations."
      ]
    },
    {
      "cell_type": "code",
      "metadata": {
        "id": "_YPfYkZ_0mK4",
        "colab_type": "code",
        "colab": {},
        "outputId": "50a8b820-de08-4ae3-e8a3-a13a885ce195"
      },
      "source": [
        "b = np.arange(50) * 2\n",
        "b = b.reshape(5, 10)\n",
        "\n",
        "c = a + b\n",
        "\n",
        "print(a)\n",
        "print(b)\n",
        "print(c)"
      ],
      "execution_count": 0,
      "outputs": [
        {
          "output_type": "stream",
          "text": [
            "[[ 0  1  2  3  4  5  6  7  8  9]\n",
            " [10 11 12 13 14 15 16 17 18 19]\n",
            " [20 21 22 23 24 25 26 27 28 29]\n",
            " [30 31 32 33 34 35 36 37 38 39]\n",
            " [40 41 42 43 44 45 46 47 48 49]]\n",
            "[[ 0  2  4  6  8 10 12 14 16 18]\n",
            " [20 22 24 26 28 30 32 34 36 38]\n",
            " [40 42 44 46 48 50 52 54 56 58]\n",
            " [60 62 64 66 68 70 72 74 76 78]\n",
            " [80 82 84 86 88 90 92 94 96 98]]\n",
            "[[  0   3   6   9  12  15  18  21  24  27]\n",
            " [ 30  33  36  39  42  45  48  51  54  57]\n",
            " [ 60  63  66  69  72  75  78  81  84  87]\n",
            " [ 90  93  96  99 102 105 108 111 114 117]\n",
            " [120 123 126 129 132 135 138 141 144 147]]\n"
          ],
          "name": "stdout"
        }
      ]
    },
    {
      "cell_type": "code",
      "metadata": {
        "id": "6tJD7oHO0mK7",
        "colab_type": "code",
        "colab": {},
        "outputId": "406e059b-551e-4098-c284-39422c808beb"
      },
      "source": [
        "b = (np.arange(50, dtype=np.float) + 1) * 2\n",
        "b = b.reshape(5, 10)\n",
        "\n",
        "c = b / (a + 1)\n",
        "\n",
        "print(a)\n",
        "print(b)\n",
        "print(c)"
      ],
      "execution_count": 0,
      "outputs": [
        {
          "output_type": "stream",
          "text": [
            "[[ 0  1  2  3  4  5  6  7  8  9]\n",
            " [10 11 12 13 14 15 16 17 18 19]\n",
            " [20 21 22 23 24 25 26 27 28 29]\n",
            " [30 31 32 33 34 35 36 37 38 39]\n",
            " [40 41 42 43 44 45 46 47 48 49]]\n",
            "[[  2.   4.   6.   8.  10.  12.  14.  16.  18.  20.]\n",
            " [ 22.  24.  26.  28.  30.  32.  34.  36.  38.  40.]\n",
            " [ 42.  44.  46.  48.  50.  52.  54.  56.  58.  60.]\n",
            " [ 62.  64.  66.  68.  70.  72.  74.  76.  78.  80.]\n",
            " [ 82.  84.  86.  88.  90.  92.  94.  96.  98. 100.]]\n",
            "[[2. 2. 2. 2. 2. 2. 2. 2. 2. 2.]\n",
            " [2. 2. 2. 2. 2. 2. 2. 2. 2. 2.]\n",
            " [2. 2. 2. 2. 2. 2. 2. 2. 2. 2.]\n",
            " [2. 2. 2. 2. 2. 2. 2. 2. 2. 2.]\n",
            " [2. 2. 2. 2. 2. 2. 2. 2. 2. 2.]]\n"
          ],
          "name": "stdout"
        }
      ]
    },
    {
      "cell_type": "markdown",
      "metadata": {
        "id": "uMQpw7td0mK-",
        "colab_type": "text"
      },
      "source": [
        "## Indexing."
      ]
    },
    {
      "cell_type": "code",
      "metadata": {
        "id": "DN7RxJ870mK_",
        "colab_type": "code",
        "colab": {},
        "outputId": "e5aa2fbd-1369-477c-dacc-6227f4de939b"
      },
      "source": [
        "a = a.reshape(5, 10)\n",
        "\n",
        "b = a[0:2, 0:2]\n",
        "c = a[1:4, 2:8]\n",
        "\n",
        "print(a)\n",
        "print(b)\n",
        "print(c)"
      ],
      "execution_count": 0,
      "outputs": [
        {
          "output_type": "stream",
          "text": [
            "[[ 0  1  2  3  4  5  6  7  8  9]\n",
            " [10 11 12 13 14 15 16 17 18 19]\n",
            " [20 21 22 23 24 25 26 27 28 29]\n",
            " [30 31 32 33 34 35 36 37 38 39]\n",
            " [40 41 42 43 44 45 46 47 48 49]]\n",
            "[[ 0  1]\n",
            " [10 11]]\n",
            "[[12 13 14 15 16 17]\n",
            " [22 23 24 25 26 27]\n",
            " [32 33 34 35 36 37]]\n"
          ],
          "name": "stdout"
        }
      ]
    },
    {
      "cell_type": "markdown",
      "metadata": {
        "id": "IwtWJHFP0mLC",
        "colab_type": "text"
      },
      "source": [
        "## Array of Zeros or Ones."
      ]
    },
    {
      "cell_type": "code",
      "metadata": {
        "id": "95p_KK_O0mLD",
        "colab_type": "code",
        "colab": {},
        "outputId": "d867b9f9-0082-44d8-c3dc-62278efce2ec"
      },
      "source": [
        "ones = np.ones((2, 3, 3))\n",
        "zeros = np.zeros((2, 3, 3))\n",
        "\n",
        "print(ones)\n",
        "print(zeros)"
      ],
      "execution_count": 0,
      "outputs": [
        {
          "output_type": "stream",
          "text": [
            "[[[1. 1. 1.]\n",
            "  [1. 1. 1.]\n",
            "  [1. 1. 1.]]\n",
            "\n",
            " [[1. 1. 1.]\n",
            "  [1. 1. 1.]\n",
            "  [1. 1. 1.]]]\n",
            "[[[0. 0. 0.]\n",
            "  [0. 0. 0.]\n",
            "  [0. 0. 0.]]\n",
            "\n",
            " [[0. 0. 0.]\n",
            "  [0. 0. 0.]\n",
            "  [0. 0. 0.]]]\n"
          ],
          "name": "stdout"
        }
      ]
    },
    {
      "cell_type": "markdown",
      "metadata": {
        "id": "EsEpNMpu0mLF",
        "colab_type": "text"
      },
      "source": [
        "## Linear Spaces."
      ]
    },
    {
      "cell_type": "code",
      "metadata": {
        "id": "fSwngHk80mLG",
        "colab_type": "code",
        "colab": {},
        "outputId": "a4dd282d-8a12-4fbb-c54b-223a7ca23209"
      },
      "source": [
        "ls = np.linspace(0, 2, 10)\n",
        "\n",
        "print(ls)"
      ],
      "execution_count": 0,
      "outputs": [
        {
          "output_type": "stream",
          "text": [
            "[0.         0.22222222 0.44444444 0.66666667 0.88888889 1.11111111\n",
            " 1.33333333 1.55555556 1.77777778 2.        ]\n"
          ],
          "name": "stdout"
        }
      ]
    },
    {
      "cell_type": "markdown",
      "metadata": {
        "id": "NZwY-aYg0mLI",
        "colab_type": "text"
      },
      "source": [
        "## Random numbers."
      ]
    },
    {
      "cell_type": "code",
      "metadata": {
        "id": "Sf2DfZIn0mLJ",
        "colab_type": "code",
        "colab": {},
        "outputId": "61c6ff94-576a-4cc3-a336-24b1e24ea945"
      },
      "source": [
        "integer = np.random.randint(0, 5)\n",
        "uniform = np.random.random((5, 5))\n",
        "normal = np.random.randn(5, 5)\n",
        "\n",
        "print(integer)\n",
        "print(uniform)\n",
        "print(normal)"
      ],
      "execution_count": 0,
      "outputs": [
        {
          "output_type": "stream",
          "text": [
            "3\n",
            "[[0.25417115 0.9563316  0.59273709 0.50647984 0.68746201]\n",
            " [0.18361068 0.3426837  0.66019849 0.90492182 0.5379276 ]\n",
            " [0.30451523 0.59043437 0.08731383 0.20010446 0.97497534]\n",
            " [0.22584421 0.89533297 0.1877737  0.70445073 0.18497326]\n",
            " [0.95753614 0.10527721 0.20217178 0.40393133 0.59374149]]\n",
            "[[ 0.73792513  0.44866067 -0.81261535  0.27769866 -1.30845964]\n",
            " [ 0.32030549 -0.385629    0.18495295 -1.41361449  0.39078949]\n",
            " [ 0.23671481  1.0411309   0.58821633  0.01557563  0.22637883]\n",
            " [ 0.27128109 -1.13219193 -1.5553568  -0.17945856 -0.93218447]\n",
            " [-0.25776496  0.50027233 -1.96188735  0.58853199 -0.04714048]]\n"
          ],
          "name": "stdout"
        }
      ]
    },
    {
      "cell_type": "markdown",
      "metadata": {
        "id": "ZJTrVuoY0mLL",
        "colab_type": "text"
      },
      "source": [
        "## Comparisons."
      ]
    },
    {
      "cell_type": "code",
      "metadata": {
        "id": "NmStig7g0mLM",
        "colab_type": "code",
        "colab": {},
        "outputId": "ac6c45c5-25c3-4062-bdde-212bb4e38b11"
      },
      "source": [
        "arr1 = np.array([[1, 2, 3], [4, 5, 6]])\n",
        "arr2 = np.array([[0, 2, 0], [4, 0, 6]])\n",
        "\n",
        "arr3 = arr1 == arr2\n",
        "arr4 = arr1 != arr2\n",
        "arr5 = arr1 > arr2\n",
        "arr6 = arr1 < 2\n",
        "\n",
        "print(arr1)\n",
        "print(arr2)\n",
        "print(arr3)\n",
        "print(arr4)\n",
        "print(arr5)\n",
        "print(arr6)"
      ],
      "execution_count": 0,
      "outputs": [
        {
          "output_type": "stream",
          "text": [
            "[[1 2 3]\n",
            " [4 5 6]]\n",
            "[[0 2 0]\n",
            " [4 0 6]]\n",
            "[[False  True False]\n",
            " [ True False  True]]\n",
            "[[ True False  True]\n",
            " [False  True False]]\n",
            "[[ True False  True]\n",
            " [False  True False]]\n",
            "[[ True False False]\n",
            " [False False False]]\n"
          ],
          "name": "stdout"
        }
      ]
    },
    {
      "cell_type": "markdown",
      "metadata": {
        "id": "CksUFUaz0mLY",
        "colab_type": "text"
      },
      "source": [
        "## Aggregate Functions."
      ]
    },
    {
      "cell_type": "code",
      "metadata": {
        "id": "z87qtLgh0mLZ",
        "colab_type": "code",
        "colab": {},
        "outputId": "22f1d470-fa3f-4f66-8727-ca7e978570dc"
      },
      "source": [
        "a = np.arange(50, dtype=np.float).reshape(5, 10)\n",
        "\n",
        "print(a)\n",
        "print('sum ', a.sum())\n",
        "print('min ', a.min())\n",
        "print('max ', b.max(axis=0))\n",
        "print('mean ', a.mean())\n",
        "print('std ', np.std(a))\n",
        "print('cumsum ', a.cumsum(axis=1))\n",
        "print('median ', np.median(a))"
      ],
      "execution_count": 0,
      "outputs": [
        {
          "output_type": "stream",
          "text": [
            "[[ 0.  1.  2.  3.  4.  5.  6.  7.  8.  9.]\n",
            " [10. 11. 12. 13. 14. 15. 16. 17. 18. 19.]\n",
            " [20. 21. 22. 23. 24. 25. 26. 27. 28. 29.]\n",
            " [30. 31. 32. 33. 34. 35. 36. 37. 38. 39.]\n",
            " [40. 41. 42. 43. 44. 45. 46. 47. 48. 49.]]\n",
            "('sum ', 1225.0)\n",
            "('min ', 0.0)\n",
            "('max ', 49)\n",
            "('mean ', 24.5)\n",
            "('std ', 14.430869689661812)\n",
            "('cumsum ', array([[  0.,   1.,   3.,   6.,  10.,  15.,  21.,  28.,  36.,  45.],\n",
            "       [ 10.,  21.,  33.,  46.,  60.,  75.,  91., 108., 126., 145.],\n",
            "       [ 20.,  41.,  63.,  86., 110., 135., 161., 188., 216., 245.],\n",
            "       [ 30.,  61.,  93., 126., 160., 195., 231., 268., 306., 345.],\n",
            "       [ 40.,  81., 123., 166., 210., 255., 301., 348., 396., 445.]]))\n",
            "('median ', 24.5)\n"
          ],
          "name": "stdout"
        }
      ]
    },
    {
      "cell_type": "markdown",
      "metadata": {
        "id": "HVU5ydju0mLc",
        "colab_type": "text"
      },
      "source": [
        "## Sorting."
      ]
    },
    {
      "cell_type": "code",
      "metadata": {
        "id": "p6bAbeCr0mLc",
        "colab_type": "code",
        "colab": {},
        "outputId": "31d40444-4c69-4f0e-8ff8-d61f16e3fe60"
      },
      "source": [
        "r = np.random.random((5, 5))\n",
        "\n",
        "print(r)\n",
        "print('sort ', np.sort(r))\n",
        "print('sort ax 0 ', np.sort(r, axis=0))\n",
        "print('sort ax 1 ', np.sort(r, axis=1))"
      ],
      "execution_count": 0,
      "outputs": [
        {
          "output_type": "stream",
          "text": [
            "[[0.96758249 0.41864355 0.79995135 0.12010576 0.5855505 ]\n",
            " [0.98995955 0.88413897 0.69432164 0.26363094 0.35278435]\n",
            " [0.35449633 0.69880211 0.63562218 0.92731165 0.86688729]\n",
            " [0.67355095 0.35987505 0.98642348 0.23648007 0.7267926 ]\n",
            " [0.48102544 0.1521885  0.6752884  0.30132769 0.02377827]]\n",
            "('sort ', array([[0.12010576, 0.41864355, 0.5855505 , 0.79995135, 0.96758249],\n",
            "       [0.26363094, 0.35278435, 0.69432164, 0.88413897, 0.98995955],\n",
            "       [0.35449633, 0.63562218, 0.69880211, 0.86688729, 0.92731165],\n",
            "       [0.23648007, 0.35987505, 0.67355095, 0.7267926 , 0.98642348],\n",
            "       [0.02377827, 0.1521885 , 0.30132769, 0.48102544, 0.6752884 ]]))\n",
            "('sort ax 0 ', array([[0.35449633, 0.1521885 , 0.63562218, 0.12010576, 0.02377827],\n",
            "       [0.48102544, 0.35987505, 0.6752884 , 0.23648007, 0.35278435],\n",
            "       [0.67355095, 0.41864355, 0.69432164, 0.26363094, 0.5855505 ],\n",
            "       [0.96758249, 0.69880211, 0.79995135, 0.30132769, 0.7267926 ],\n",
            "       [0.98995955, 0.88413897, 0.98642348, 0.92731165, 0.86688729]]))\n",
            "('sort ax 1 ', array([[0.12010576, 0.41864355, 0.5855505 , 0.79995135, 0.96758249],\n",
            "       [0.26363094, 0.35278435, 0.69432164, 0.88413897, 0.98995955],\n",
            "       [0.35449633, 0.63562218, 0.69880211, 0.86688729, 0.92731165],\n",
            "       [0.23648007, 0.35987505, 0.67355095, 0.7267926 , 0.98642348],\n",
            "       [0.02377827, 0.1521885 , 0.30132769, 0.48102544, 0.6752884 ]]))\n"
          ],
          "name": "stdout"
        }
      ]
    },
    {
      "cell_type": "markdown",
      "metadata": {
        "id": "YaC0MGoc0mLf",
        "colab_type": "text"
      },
      "source": [
        "## Boolean Indexing."
      ]
    },
    {
      "cell_type": "code",
      "metadata": {
        "id": "-p4_agCA0mLg",
        "colab_type": "code",
        "colab": {},
        "outputId": "c9fd7dfd-baf3-493a-82f2-f7c5cde80c59"
      },
      "source": [
        "a = np.arange(50, dtype=np.float).reshape(5, 10)\n",
        "print(a)\n",
        "\n",
        "a[a > 20] = -1\n",
        "print(a)\n",
        "\n",
        "a[a == 15] = -1000\n",
        "print(a)"
      ],
      "execution_count": 0,
      "outputs": [
        {
          "output_type": "stream",
          "text": [
            "[[ 0.  1.  2.  3.  4.  5.  6.  7.  8.  9.]\n",
            " [10. 11. 12. 13. 14. 15. 16. 17. 18. 19.]\n",
            " [20. 21. 22. 23. 24. 25. 26. 27. 28. 29.]\n",
            " [30. 31. 32. 33. 34. 35. 36. 37. 38. 39.]\n",
            " [40. 41. 42. 43. 44. 45. 46. 47. 48. 49.]]\n",
            "[[ 0.  1.  2.  3.  4.  5.  6.  7.  8.  9.]\n",
            " [10. 11. 12. 13. 14. 15. 16. 17. 18. 19.]\n",
            " [20. -1. -1. -1. -1. -1. -1. -1. -1. -1.]\n",
            " [-1. -1. -1. -1. -1. -1. -1. -1. -1. -1.]\n",
            " [-1. -1. -1. -1. -1. -1. -1. -1. -1. -1.]]\n",
            "[[    0.     1.     2.     3.     4.     5.     6.     7.     8.     9.]\n",
            " [   10.    11.    12.    13.    14. -1000.    16.    17.    18.    19.]\n",
            " [   20.    -1.    -1.    -1.    -1.    -1.    -1.    -1.    -1.    -1.]\n",
            " [   -1.    -1.    -1.    -1.    -1.    -1.    -1.    -1.    -1.    -1.]\n",
            " [   -1.    -1.    -1.    -1.    -1.    -1.    -1.    -1.    -1.    -1.]]\n"
          ],
          "name": "stdout"
        }
      ]
    }
  ]
}